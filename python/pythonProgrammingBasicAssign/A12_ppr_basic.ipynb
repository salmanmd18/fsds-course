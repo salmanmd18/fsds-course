{
 "cells": [
  {
   "cell_type": "code",
   "execution_count": 1,
   "id": "55222662",
   "metadata": {},
   "outputs": [
    {
     "name": "stdout",
     "output_type": "stream",
     "text": [
      "{'abhilash', 5, 6, 7, 8, 101, 12}\n"
     ]
    }
   ],
   "source": [
    "#1.Write a Python program to Extract Unique values dictionary values?\n",
    "\n",
    "test_dict = {'a' : [5, 6, 7, 8],\n",
    "             'b' : \"abhilash\",\n",
    "             'c' : [6, 12, 5, 8],\n",
    "             'd' : 101\n",
    "            }\n",
    "unique = set()\n",
    "for i in test_dict.values():\n",
    "    if type(i) == list:\n",
    "        for j in i:\n",
    "            unique.add(j)\n",
    "    else:\n",
    "        unique.add(i)\n",
    "print(unique)        "
   ]
  },
  {
   "cell_type": "code",
   "execution_count": 2,
   "id": "906bf706",
   "metadata": {},
   "outputs": [
    {
     "name": "stdout",
     "output_type": "stream",
     "text": [
      "10\n"
     ]
    }
   ],
   "source": [
    "#2.Write a Python program to find the sum of all items in a dictionary?\n",
    "\n",
    "d = {'a':1,\n",
    "     'b':2,\n",
    "     'c':3,\n",
    "     'd':4,\n",
    "    }\n",
    "sum = 0\n",
    "for i in d.values():\n",
    "    sum = sum + i\n",
    "print(sum)"
   ]
  },
  {
   "cell_type": "code",
   "execution_count": 6,
   "id": "0c4f56a0",
   "metadata": {},
   "outputs": [
    {
     "data": {
      "text/plain": [
       "{'a': 1, 'b': 2, 'c': 3, 'd': 4, 'q': 5, 'w': 6, 'e': 7, 'r': 8}"
      ]
     },
     "execution_count": 6,
     "metadata": {},
     "output_type": "execute_result"
    }
   ],
   "source": [
    "#3. Write a Python program to Merging two Dictionaries?\n",
    "\n",
    "d1 = {'a':1,\n",
    "     'b':2,\n",
    "     'c':3,\n",
    "     'd':4,\n",
    "    }\n",
    "\n",
    "d2 = {'q':5,\n",
    "     'w' : 6,\n",
    "      'e':7,\n",
    "      'r': 8,\n",
    "     }\n",
    "\n",
    "d1.update(d2)\n",
    "d1"
   ]
  },
  {
   "cell_type": "code",
   "execution_count": 1,
   "id": "e261519f",
   "metadata": {},
   "outputs": [
    {
     "name": "stdout",
     "output_type": "stream",
     "text": [
      "{1: 'Jan', 2: 'Feb', 3: 'March'}\n"
     ]
    }
   ],
   "source": [
    "#4.Write a Python program to convert key-values list to flat dictionary?\n",
    "\n",
    "test_dict = {'month' : [1, 2, 3], 'name' : ['Jan', 'Feb', 'March']}\n",
    "\n",
    "f = dict(zip(test_dict['month'],test_dict['name']))\n",
    "print(f)"
   ]
  },
  {
   "cell_type": "code",
   "execution_count": 6,
   "id": "5fd876da",
   "metadata": {},
   "outputs": [
    {
     "name": "stdout",
     "output_type": "stream",
     "text": [
      "OrderedDict([('jan', 1), ('feb', '2'), ('mar', '3')])\n"
     ]
    }
   ],
   "source": [
    "#5. Write a Python program to insertion at the beginning in OrderedDict?\n",
    "\n",
    "from collections import OrderedDict\n",
    "i = OrderedDict([('feb','2'),('mar','3')])\n",
    "i.update({'jan':1})\n",
    "i.move_to_end('jan',last = False)\n",
    "print(i)"
   ]
  },
  {
   "cell_type": "code",
   "execution_count": 4,
   "id": "703f7b3e",
   "metadata": {},
   "outputs": [
    {
     "name": "stdout",
     "output_type": "stream",
     "text": [
      "enter the string  lionelmessi\n",
      "enter the pattern mm\n",
      "OrderedDict([('l', None), ('i', None), ('o', None), ('n', None), ('e', None), ('m', None), ('s', None)])\n",
      "pattern matched\n"
     ]
    }
   ],
   "source": [
    "#6. Write a Python program to check order of character in string using OrderedDict()?\n",
    "\n",
    "from collections import OrderedDict\n",
    "\n",
    "def checkorder(str, pattern):\n",
    "    dict= OrderedDict.fromkeys(str)\n",
    "    print(dict)\n",
    "    pr = 0\n",
    "    \n",
    "    for key,value in dict.items():\n",
    "        \n",
    "        if key == pattern[pr]:\n",
    "            pr +=1\n",
    "            \n",
    "        if pr == len(pattern):\n",
    "            return 'true'\n",
    "        \n",
    "    return 'false'\n",
    "\n",
    "string = input(\"enter the string  \")\n",
    "pattern = input(\"enter the pattern \")\n",
    "if checkorder(string,pattern):\n",
    "    print(\"pattern matched\")\n",
    "else:\n",
    "    print(\"pattern unmatched\")\n",
    "    "
   ]
  },
  {
   "cell_type": "code",
   "execution_count": 5,
   "id": "ef8e6ed9",
   "metadata": {},
   "outputs": [
    {
     "name": "stdout",
     "output_type": "stream",
     "text": [
      "[('a', 1), ('b', 2), ('c', 3), ('d', 4), ('e', 5)]\n",
      "[1, 2, 3, 4, 5]\n",
      "['a', 'b', 'c', 'd', 'e']\n"
     ]
    }
   ],
   "source": [
    "#7. Write a Python program to sort Python Dictionaries by Key or Value?\n",
    "\n",
    "a = {'a': 1, 'b':2, 'c':3, 'd':4, 'e':5}\n",
    "\n",
    "print(sorted(a.items()))\n",
    "print(sorted(a.values()))\n",
    "print(sorted(a.keys()))\n"
   ]
  },
  {
   "cell_type": "code",
   "execution_count": null,
   "id": "60060ecb",
   "metadata": {},
   "outputs": [],
   "source": []
  }
 ],
 "metadata": {
  "kernelspec": {
   "display_name": "Python 3 (ipykernel)",
   "language": "python",
   "name": "python3"
  },
  "language_info": {
   "codemirror_mode": {
    "name": "ipython",
    "version": 3
   },
   "file_extension": ".py",
   "mimetype": "text/x-python",
   "name": "python",
   "nbconvert_exporter": "python",
   "pygments_lexer": "ipython3",
   "version": "3.9.7"
  }
 },
 "nbformat": 4,
 "nbformat_minor": 5
}
