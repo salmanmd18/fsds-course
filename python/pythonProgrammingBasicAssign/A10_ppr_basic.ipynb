{
 "cells": [
  {
   "cell_type": "code",
   "execution_count": 6,
   "id": "bef003a4",
   "metadata": {},
   "outputs": [
    {
     "name": "stdout",
     "output_type": "stream",
     "text": [
      "15\n"
     ]
    }
   ],
   "source": [
    "#1. Write a Python program to find sum of elements in list?\n",
    "\n",
    "l = [1,2,3,4,5]\n",
    "s = 0\n",
    "for i in l:\n",
    "    s += i\n",
    "print(s)"
   ]
  },
  {
   "cell_type": "code",
   "execution_count": 7,
   "id": "9fc44f78",
   "metadata": {},
   "outputs": [
    {
     "name": "stdout",
     "output_type": "stream",
     "text": [
      "120\n"
     ]
    }
   ],
   "source": [
    "#2. Write a Python program to  Multiply all numbers in the list?\n",
    "\n",
    "l = [1,2,3,4,5]\n",
    "s = 1\n",
    "for i in l:\n",
    "    s *= i\n",
    "print(s)"
   ]
  },
  {
   "cell_type": "code",
   "execution_count": 18,
   "id": "ea2b254d",
   "metadata": {},
   "outputs": [
    {
     "name": "stdout",
     "output_type": "stream",
     "text": [
      "1\n"
     ]
    }
   ],
   "source": [
    "#3. Write a Python program to find smallest number in a list?\n",
    "l = [1,2,3,4,5]\n",
    "s = 1\n",
    "for i in l:\n",
    "    if s >i:\n",
    "        s =i\n",
    "print(s)\n"
   ]
  },
  {
   "cell_type": "code",
   "execution_count": 21,
   "id": "095c9e52",
   "metadata": {},
   "outputs": [
    {
     "name": "stdout",
     "output_type": "stream",
     "text": [
      "500\n"
     ]
    }
   ],
   "source": [
    "#4. Write a Python program to find largest number in a list?\n",
    "l = [45,500,60,81,61]\n",
    "s = l[0]\n",
    "for i in l:\n",
    "    if s<i:\n",
    "        s=i\n",
    "print(s)"
   ]
  },
  {
   "cell_type": "code",
   "execution_count": 23,
   "id": "8fba1692",
   "metadata": {},
   "outputs": [
    {
     "name": "stdout",
     "output_type": "stream",
     "text": [
      "81\n"
     ]
    }
   ],
   "source": [
    "#5. Write a Python program to find second largest number in a list\n",
    "\n",
    "l = [45,500,60,81,61]\n",
    "l.sort()\n",
    "print(l[-2])\n",
    "        \n",
    "        "
   ]
  },
  {
   "cell_type": "code",
   "execution_count": 24,
   "id": "92d8a995",
   "metadata": {},
   "outputs": [
    {
     "name": "stdout",
     "output_type": "stream",
     "text": [
      "enter N value6\n",
      "[100, 98, 89, 45, 40, 36]\n"
     ]
    }
   ],
   "source": [
    "#6. Write a Python program to find N largest elements from a list?\n",
    "l = [1,2,3,4,5,6,12,40,22,36,98,45,25,89,100]\n",
    "N = int(input(\"enter N value\"))\n",
    "l.sort()\n",
    "l.reverse()\n",
    "print(l[:N])"
   ]
  },
  {
   "cell_type": "code",
   "execution_count": 28,
   "id": "4ed266ec",
   "metadata": {},
   "outputs": [
    {
     "name": "stdout",
     "output_type": "stream",
     "text": [
      "[2, 4, 6, 12, 40, 22, 36, 98, 100]\n"
     ]
    }
   ],
   "source": [
    "#7. Write a Python program to print even numbers in a list?\n",
    "l = [1,2,3,4,5,6,12,40,22,36,98,45,25,89,100]\n",
    "k = []\n",
    "for i in l:\n",
    "    if i%2 == 0:\n",
    "        k.append(i)\n",
    "print(k)"
   ]
  },
  {
   "cell_type": "code",
   "execution_count": 32,
   "id": "89bb9f32",
   "metadata": {},
   "outputs": [
    {
     "name": "stdout",
     "output_type": "stream",
     "text": [
      "[1, 3, 5, 45, 25, 89]\n"
     ]
    },
    {
     "data": {
      "text/plain": [
       "1"
      ]
     },
     "execution_count": 32,
     "metadata": {},
     "output_type": "execute_result"
    }
   ],
   "source": [
    "#8. Write a Python program to print odd numbers in a List?\n",
    "\n",
    "l = [1,2,3,4,5,6,12,40,22,36,98,45,25,89,100]\n",
    "k = []\n",
    "for i in l:\n",
    "    if i%2 == 1:\n",
    "        k.append(i)\n",
    "print(k)\n"
   ]
  },
  {
   "cell_type": "code",
   "execution_count": 46,
   "id": "71df16a9",
   "metadata": {},
   "outputs": [
    {
     "name": "stdout",
     "output_type": "stream",
     "text": [
      "[[1, 2, 3], [4, 5, 6]]\n"
     ]
    }
   ],
   "source": [
    "#9. Write a Python program to Remove empty List from List?\n",
    "l = [[1,2,3], [], [4,5,6]]\n",
    "for i in l:\n",
    "    if type(i)==list and i == []:\n",
    "        l.pop(l.index(i))\n",
    "print(l)"
   ]
  },
  {
   "cell_type": "code",
   "execution_count": 7,
   "id": "b41e174f",
   "metadata": {},
   "outputs": [
    {
     "name": "stdout",
     "output_type": "stream",
     "text": [
      "[1, 2, 3, 4, 5]\n"
     ]
    }
   ],
   "source": [
    "#10. Write a Python program to Cloning or Copying a list?\n",
    "l = [1,2,3,4,5]\n",
    "copiedl = [ ]\n",
    "for i in l:\n",
    "    copiedl.append(i)\n",
    "print(copiedl)"
   ]
  },
  {
   "cell_type": "code",
   "execution_count": 13,
   "id": "7bbe8051",
   "metadata": {},
   "outputs": [
    {
     "name": "stdout",
     "output_type": "stream",
     "text": [
      "enter the numer to be counted for occurence: 2\n",
      "6\n"
     ]
    }
   ],
   "source": [
    "#11.Write a Python program to Count occurrences of an element in a list?\n",
    "l = [1,2,3,1,2,3,1,2,3,1,2,3,1,2,3,1,2,3]\n",
    "n = int(input(\"enter the numer to be counted for occurence: \"))\n",
    "count=0\n",
    "for i in l:\n",
    "    if i == n:\n",
    "        count+=1\n",
    "print(count)"
   ]
  }
 ],
 "metadata": {
  "kernelspec": {
   "display_name": "Python 3 (ipykernel)",
   "language": "python",
   "name": "python3"
  },
  "language_info": {
   "codemirror_mode": {
    "name": "ipython",
    "version": 3
   },
   "file_extension": ".py",
   "mimetype": "text/x-python",
   "name": "python",
   "nbconvert_exporter": "python",
   "pygments_lexer": "ipython3",
   "version": "3.9.7"
  }
 },
 "nbformat": 4,
 "nbformat_minor": 5
}
