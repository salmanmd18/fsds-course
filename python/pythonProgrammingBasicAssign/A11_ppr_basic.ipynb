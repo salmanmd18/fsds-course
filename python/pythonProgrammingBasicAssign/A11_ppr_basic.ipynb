{
 "cells": [
  {
   "cell_type": "code",
   "execution_count": 3,
   "id": "57730382",
   "metadata": {},
   "outputs": [
    {
     "name": "stdout",
     "output_type": "stream",
     "text": [
      "enter the length3\n",
      "enter the sentence:my name is my name\n",
      "there are 2 words greater than 3\n"
     ]
    }
   ],
   "source": [
    "#1. Write a Python program to find words which are greater than given length k?\n",
    "\n",
    "k = int(input(\"enter the length\"))\n",
    "w = input(\"enter the sentence:\")\n",
    "count = 0\n",
    "for i in w.split(' '):\n",
    "    if len(i)>k:\n",
    "        count += 1\n",
    "print(f'there are {count} words greater than {k}')"
   ]
  },
  {
   "cell_type": "code",
   "execution_count": 9,
   "id": "f9d5ecc7",
   "metadata": {},
   "outputs": [
    {
     "name": "stdout",
     "output_type": "stream",
     "text": [
      "enter the wordsalman\n",
      "enter the ith index to be removed: 0\n",
      "alman\n"
     ]
    }
   ],
   "source": [
    "#2. Write a Python program for removing i-th character from a string?\n",
    "l = input(\"enter the word\")\n",
    "k = int(input(\"enter the ith index to be removed: \"))\n",
    "l = l[:k] + l[k+1:]\n",
    "print(l)"
   ]
  },
  {
   "cell_type": "code",
   "execution_count": 16,
   "id": "474de269",
   "metadata": {},
   "outputs": [
    {
     "name": "stdout",
     "output_type": "stream",
     "text": [
      "enter the string :he is a supertar and politician\n",
      "['he', 'is', 'a', 'supertar', 'and', 'politician']\n",
      " he is a supertar and politician\n"
     ]
    }
   ],
   "source": [
    "#3. Write a Python program to split and join a string?\n",
    "l = input(\"enter the string :\")\n",
    "s = l.split(\" \")\n",
    "print(s)\n",
    "j = ''\n",
    "for i in s:\n",
    "    j = j+ \" \"+ i\n",
    "print(j)\n",
    "    "
   ]
  },
  {
   "cell_type": "code",
   "execution_count": 21,
   "id": "9008dbef",
   "metadata": {},
   "outputs": [
    {
     "name": "stdout",
     "output_type": "stream",
     "text": [
      "enter the string01010101\n",
      "binary string\n"
     ]
    }
   ],
   "source": [
    "#4. Write a Python to check if a given string is binary string or not?\n",
    "s = input(\"enter the string\")\n",
    "temp = [i for i in s if i not in \"01\"]\n",
    "if len(temp)==0:\n",
    "    print(\"binary string\")\n",
    "else:\n",
    "    print(\"not binary\")"
   ]
  },
  {
   "cell_type": "code",
   "execution_count": 28,
   "id": "f464f013",
   "metadata": {},
   "outputs": [
    {
     "name": "stdout",
     "output_type": "stream",
     "text": [
      "enter 1st string: my name is python\n",
      "enter 2nd string : my name is not ineuron\n",
      "['python', 'not', 'ineuron']\n"
     ]
    }
   ],
   "source": [
    "#5. Write a Python program to find uncommon words from two Strings?\n",
    "s1 = input(\"enter 1st string: \").split(\" \")\n",
    "s2 = input(\"enter 2nd string : \").split(\" \")\n",
    "un = [i for i in s1 if i not in s2]\n",
    "un.extend([i for i in s2 if i not in s1])\n",
    "print(un)\n"
   ]
  },
  {
   "cell_type": "code",
   "execution_count": 36,
   "id": "03183437",
   "metadata": {},
   "outputs": [
    {
     "name": "stdout",
     "output_type": "stream",
     "text": [
      "enter the sting:  find all duplicate characters in string\n",
      "['i', 'n', 'd', ' ', 'a', 'l', 'c', 't', 'e', 'r', 's']\n"
     ]
    }
   ],
   "source": [
    "#6. Write a Python to find all duplicate characters in string?\n",
    "s = input(\"enter the sting:  \")\n",
    "l =[]\n",
    "for i in s:\n",
    "    if s.count(i)>1:\n",
    "        if i not in l:\n",
    "            l.append(i)\n",
    "print(l)"
   ]
  },
  {
   "cell_type": "code",
   "execution_count": 43,
   "id": "f6d7ebba",
   "metadata": {},
   "outputs": [
    {
     "name": "stdout",
     "output_type": "stream",
     "text": [
      "Enter a string: dshkhfd^\n",
      "Given string contains special characters\n"
     ]
    }
   ],
   "source": [
    "#7. Write a Python Program to check if a string contains any special character?\n",
    "import re\n",
    "\n",
    "\n",
    "string = input(\"Enter a string: \")\n",
    "regex = re.compile('[@_!#$%^&*()<>?/\\|}{~:]')  \n",
    "\n",
    "if(regex.search(string) == None):\n",
    "    print(\"Given string does not contain special characters\")\n",
    "else:\n",
    "    print(\"Given string contains special characters\")"
   ]
  },
  {
   "cell_type": "code",
   "execution_count": null,
   "id": "99b2e288",
   "metadata": {},
   "outputs": [],
   "source": []
  }
 ],
 "metadata": {
  "kernelspec": {
   "display_name": "Python 3 (ipykernel)",
   "language": "python",
   "name": "python3"
  },
  "language_info": {
   "codemirror_mode": {
    "name": "ipython",
    "version": 3
   },
   "file_extension": ".py",
   "mimetype": "text/x-python",
   "name": "python",
   "nbconvert_exporter": "python",
   "pygments_lexer": "ipython3",
   "version": "3.9.7"
  }
 },
 "nbformat": 4,
 "nbformat_minor": 5
}
