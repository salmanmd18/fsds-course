{
 "cells": [
  {
   "cell_type": "code",
   "execution_count": 2,
   "id": "86b1edbe",
   "metadata": {},
   "outputs": [
    {
     "name": "stdout",
     "output_type": "stream",
     "text": [
      "sum of of array is 21\n"
     ]
    }
   ],
   "source": [
    "#1.Write a Python Program to find sum of array?\n",
    "\n",
    "array_sample = [1,2,3,4,5,6]\n",
    "\n",
    "sum_array = 0\n",
    "\n",
    "for i in array_sample:\n",
    "    sum_array += i\n",
    "print(f'sum of of array is {sum_array}')\n"
   ]
  },
  {
   "cell_type": "code",
   "execution_count": 4,
   "id": "eb0500d5",
   "metadata": {},
   "outputs": [
    {
     "name": "stdout",
     "output_type": "stream",
     "text": [
      "largest element in the array is 8\n"
     ]
    }
   ],
   "source": [
    "#2.Write a Python Program to find largest element in an array?\n",
    "\n",
    "array_sample = [1,2,3,4,5,6,7,8]\n",
    "\n",
    "max_array = array_sample[0]\n",
    "\n",
    "for i in array_sample:\n",
    "    if i > max_array:\n",
    "        \n",
    "        max_array = i\n",
    "\n",
    "print(f'largest element in the array is {max_array}')\n",
    "\n"
   ]
  },
  {
   "cell_type": "code",
   "execution_count": 7,
   "id": "b3ab3618",
   "metadata": {},
   "outputs": [
    {
     "name": "stdout",
     "output_type": "stream",
     "text": [
      "array after left rotation is [3, 4, 5, 6, 7, 8, 1, 2]\n"
     ]
    }
   ],
   "source": [
    "#3.Write a Python Program for array rotation?\n",
    "\n",
    "def rotate_my_arr(arr,d):\n",
    "    n = len(arr)\n",
    "    i = 0\n",
    "    temp = []\n",
    "    while (i<d):\n",
    "        temp.append(arr[i])\n",
    "        i = i +1\n",
    "    i = 0\n",
    "    while (d<n):\n",
    "        arr[i] = arr[d]\n",
    "        i = i+1\n",
    "        d = d+1\n",
    "        \n",
    "    arr[:] = arr[: i] + temp\n",
    "    return arr\n",
    "sample_array = [1,2,3,4,5,6,7,8]\n",
    "print(f'array after left rotation is {rotate_my_arr(sample_array,2)}')"
   ]
  },
  {
   "cell_type": "code",
   "execution_count": 5,
   "id": "467f8918",
   "metadata": {},
   "outputs": [
    {
     "name": "stdout",
     "output_type": "stream",
     "text": [
      "[5, 6, 7, 8, 9, 1, 2, 3, 4]\n"
     ]
    }
   ],
   "source": [
    "#4.write a Python Program to Split the array and add the first part to the end?\n",
    "\n",
    "sample_array= [1,2,3,4,5,6,7,8,9]\n",
    "new_aarray = []\n",
    "index = int(len(sample_array)/2)\n",
    "for i in sample_array:\n",
    "    if index >= len(sample_array):\n",
    "        index = 0\n",
    "    new_aarray.append(sample_array[index])\n",
    "    index += 1\n",
    "print(new_aarray)"
   ]
  },
  {
   "cell_type": "code",
   "execution_count": 13,
   "id": "a11d0033",
   "metadata": {},
   "outputs": [
    {
     "data": {
      "text/plain": [
       "False"
      ]
     },
     "execution_count": 13,
     "metadata": {},
     "output_type": "execute_result"
    }
   ],
   "source": [
    "#5.Write a Python Program to check if given array is Monotonic?\n",
    "\n",
    "def ismonotone(a):\n",
    "    n = len(a)\n",
    "    if n == 1:\n",
    "        return True\n",
    "    else:\n",
    "        if all(a[i]>= a[i+1] for i in range(0,n-1) or a[i]<=a[i+1] for i in range(0,n-1)):\n",
    "            return True\n",
    "        else:\n",
    "            return False\n",
    "a= [1,2,3,4]\n",
    "ismonotone(a)\n"
   ]
  },
  {
   "cell_type": "code",
   "execution_count": 12,
   "id": "ab2f8805",
   "metadata": {},
   "outputs": [
    {
     "data": {
      "text/plain": [
       "True"
      ]
     },
     "execution_count": 12,
     "metadata": {},
     "output_type": "execute_result"
    }
   ],
   "source": [
    "a= [6,5,4,3,2,1]\n",
    "ismonotone(a)"
   ]
  },
  {
   "cell_type": "code",
   "execution_count": null,
   "id": "279784d7",
   "metadata": {},
   "outputs": [],
   "source": []
  }
 ],
 "metadata": {
  "kernelspec": {
   "display_name": "Python 3 (ipykernel)",
   "language": "python",
   "name": "python3"
  },
  "language_info": {
   "codemirror_mode": {
    "name": "ipython",
    "version": 3
   },
   "file_extension": ".py",
   "mimetype": "text/x-python",
   "name": "python",
   "nbconvert_exporter": "python",
   "pygments_lexer": "ipython3",
   "version": "3.9.7"
  }
 },
 "nbformat": 4,
 "nbformat_minor": 5
}
