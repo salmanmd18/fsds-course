{
 "cells": [
  {
   "cell_type": "code",
   "execution_count": 6,
   "id": "e68bb22c",
   "metadata": {},
   "outputs": [
    {
     "name": "stdout",
     "output_type": "stream",
     "text": [
      "ener the comma separated  values 100,150,180\n",
      "[18, 22, 24]\n"
     ]
    }
   ],
   "source": [
    "#Question 1:\n",
    "# Write a program that calculates and prints the value according to the given formula:\n",
    "# Q = Square root of [(2 * C * D)/H]\n",
    "# Following are the fixed values of C and H:\n",
    "# C is 50. H is 30.\n",
    "# D is the variable whose values should be input to your program in a comma-separated sequence.\n",
    "# Example\n",
    "# Let us assume the following comma separated input sequence is given to the program:\n",
    "# 100,150,180\n",
    "# The output of the program should be:\n",
    "# 18,22,24\n",
    "\n",
    "import math\n",
    "\n",
    "def cal(args):    \n",
    "    C = 50\n",
    "    H = 30\n",
    "    result = []\n",
    "    for d in args:\n",
    "        result.append(int(math.sqrt((2*C*int(d))/H)))\n",
    "    print(result)\n",
    "    \n",
    "inp = list(input(\"ener the comma separated  values \").split(','))\n",
    "cal(inp)"
   ]
  },
  {
   "cell_type": "code",
   "execution_count": 9,
   "id": "20ec215d",
   "metadata": {},
   "outputs": [
    {
     "name": "stdout",
     "output_type": "stream",
     "text": [
      "enter the x3\n",
      "enter the y5\n",
      "[[0, 0, 0, 0, 0], [0, 1, 2, 3, 4], [0, 2, 4, 6, 8]]\n"
     ]
    }
   ],
   "source": [
    "# Question 2:\n",
    "# Write a program which takes 2 digits, X,Y as input and generates a 2-dimensional array. The element value in the i-th row and j-th column of the array should be i*j.\n",
    "# Note: i=0,1.., X-1; j=0,1,¡Y-1.Example\n",
    "# Suppose the following inputs are given to the program:\n",
    "# 3,5\n",
    "# Then, the output of the program should be:\n",
    "# [[0, 0, 0, 0, 0], [0, 1, 2, 3, 4], [0, 2, 4, 6, 8]] \n",
    "\n",
    "x = int(input(\"enter the x\"))\n",
    "y = int(input(\"enter the y\"))\n",
    "\n",
    "mat = []\n",
    "for i in range(x):\n",
    "    row = []\n",
    "    for j in range(y):\n",
    "        row.append(i*j)\n",
    "    mat.append(row)\n",
    "print(mat)\n",
    "\n",
    "\n"
   ]
  },
  {
   "cell_type": "code",
   "execution_count": 16,
   "id": "5831c087",
   "metadata": {},
   "outputs": [
    {
     "name": "stdout",
     "output_type": "stream",
     "text": [
      "enter the comma separated words : without,hello,bag,world\n",
      "bag,hello,without,world\n"
     ]
    }
   ],
   "source": [
    "# Question 3:\n",
    "# Write a program that accepts a comma separated sequence of words as input and prints the words in a comma-separated sequence after sorting them alphabetically.\n",
    "# Suppose the following input is supplied to the program:\n",
    "# without,hello,bag,world\n",
    "# Then, the output should be:\n",
    "# bag,hello,without,world\n",
    "\n",
    "inp = list(input(\"enter the comma separated words : \").split(','))\n",
    "\n",
    "inp.sort()\n",
    "print(','.join(inp))\n"
   ]
  },
  {
   "cell_type": "code",
   "execution_count": 28,
   "id": "ae7b6c03",
   "metadata": {},
   "outputs": [
    {
     "name": "stdout",
     "output_type": "stream",
     "text": [
      "enter : hello world and practice makes perfect and hello world again\n",
      "again and hello makes perfect practice world\n"
     ]
    }
   ],
   "source": [
    "#Question 4:\n",
    "#Write a program that accepts a sequence of whitespace separated words as input and prints the words after removing all duplicate words and sorting them alphanumerically.\n",
    "# Suppose the following input is supplied to the program:\n",
    "# hello world and practice makes perfect and hello world again\n",
    "# Then, the output should be:\n",
    "# again and hello makes perfect practice world\n",
    "\n",
    "inp = list(set(input(\"enter : \").split(' ')))\n",
    "inp.sort()\n",
    "print(' '.join(inp))"
   ]
  },
  {
   "cell_type": "code",
   "execution_count": 39,
   "id": "d0ac3f0f",
   "metadata": {},
   "outputs": [
    {
     "name": "stdout",
     "output_type": "stream",
     "text": [
      "enter the sentence: hello world! 123\n",
      "LETTERS 10\n",
      "dIGITS 3\n"
     ]
    }
   ],
   "source": [
    "# Question 5:\n",
    "# Write a program that accepts a sentence and calculate the number of letters and digits.\n",
    "# Suppose the following input is supplied to the program:\n",
    "# hello world! 123\n",
    "# Then, the output should be:\n",
    "# LETTERS 10\n",
    "\n",
    "# DIGITS 3\n",
    "\n",
    "inp = input(\"enter the sentence: \")\n",
    "letter = 0\n",
    "digits = 0\n",
    "for i in inp:\n",
    "    if ord(i) >= ord(\"a\") and ord(i)<=ord(\"z\"):\n",
    "        letter += 1\n",
    "    elif ord(i) > ord('0'):\n",
    "        digits+=1\n",
    "print(\"LETTERS\", letter)\n",
    "print(\"dIGITS\", digits)"
   ]
  },
  {
   "cell_type": "code",
   "execution_count": 43,
   "id": "28414e74",
   "metadata": {},
   "outputs": [
    {
     "name": "stdout",
     "output_type": "stream",
     "text": [
      "enter the passwords : ABd1234@1,a F1#,2w3E*,2We3345,aBh!1@5h\n",
      "ABd1234@1,aBh!1@5h\n"
     ]
    }
   ],
   "source": [
    "# Question 6:\n",
    "# A website requires the users to input username and password to register. Write a program to check the validity of password input by users.\n",
    "# Following are the criteria for checking the password:\n",
    "# 1. At least 1 letter between [a-z]\n",
    "# 2. At least 1 number between [0-9]\n",
    "# 1. At least 1 letter between [A-Z]\n",
    "# 3. At least 1 character from [$#@]\n",
    "# 4. Minimum length of transaction password: 6\n",
    "\n",
    "\n",
    "def sc(password):\n",
    "    check = False\n",
    "    for i in password:\n",
    "        if ord(i) >= ord('a') and ord(i) <= ord('z'):\n",
    "            check = True\n",
    "    return check\n",
    "\n",
    "def uc(password):\n",
    "    check = False\n",
    "    for i in password:\n",
    "        if ord(i) >= ord('A') and ord(i) <= ord('Z'):\n",
    "            check = True\n",
    "    return check\n",
    "\n",
    "def num(password):\n",
    "    check = False\n",
    "    for i in password:\n",
    "        if ord(i) >= ord('0') and ord(i) <= ord('9'):\n",
    "            check = True\n",
    "    return check\n",
    "\n",
    "def sp(password):\n",
    "    check = False\n",
    "    specials = \"!@#$%^&*()_+=->;,:/?`\"\n",
    "    for i in password:\n",
    "        if i in specials:\n",
    "             check = True\n",
    "    return check\n",
    "\n",
    "def mi(password):\n",
    "    return len(password) >= 6\n",
    "\n",
    "\n",
    "passwords = list(set(input(\"enter the passwords : \").split(\",\")))\n",
    "valid_passwords = []\n",
    "for password in passwords:\n",
    "    if sc(password) and uc(password) and num(password) and sp(password) and mi(password):\n",
    "        valid_passwords.append(password)\n",
    "print(','.join(valid_passwords))"
   ]
  },
  {
   "cell_type": "code",
   "execution_count": null,
   "id": "cd120f8f",
   "metadata": {},
   "outputs": [],
   "source": []
  }
 ],
 "metadata": {
  "kernelspec": {
   "display_name": "Python 3 (ipykernel)",
   "language": "python",
   "name": "python3"
  },
  "language_info": {
   "codemirror_mode": {
    "name": "ipython",
    "version": 3
   },
   "file_extension": ".py",
   "mimetype": "text/x-python",
   "name": "python",
   "nbconvert_exporter": "python",
   "pygments_lexer": "ipython3",
   "version": "3.9.7"
  }
 },
 "nbformat": 4,
 "nbformat_minor": 5
}
