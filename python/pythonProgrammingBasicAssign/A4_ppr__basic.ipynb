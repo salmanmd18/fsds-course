{
 "cells": [
  {
   "cell_type": "code",
   "execution_count": 15,
   "id": "794a8080",
   "metadata": {},
   "outputs": [
    {
     "name": "stdout",
     "output_type": "stream",
     "text": [
      "6\n",
      "factorial of 6 is 720\n"
     ]
    }
   ],
   "source": [
    "#1. Write a Python Program to Find the Factorial of a Number?\n",
    "\n",
    "n = int(input())\n",
    "x=1\n",
    "for i in range(1,n + 1):\n",
    "    x= x * i\n",
    "print(\"factorial of\",n,\"is\",x)"
   ]
  },
  {
   "cell_type": "code",
   "execution_count": 25,
   "id": "9a497341",
   "metadata": {},
   "outputs": [
    {
     "name": "stdout",
     "output_type": "stream",
     "text": [
      "4\n",
      "4 x 1 = 4\n",
      "4 x 2 = 8\n",
      "4 x 3 = 12\n",
      "4 x 4 = 16\n",
      "4 x 5 = 20\n",
      "4 x 6 = 24\n",
      "4 x 7 = 28\n",
      "4 x 8 = 32\n",
      "4 x 9 = 36\n",
      "4 x 10 = 40\n"
     ]
    }
   ],
   "source": [
    "#2. Write a Python Program to Display the multiplication Table?\n",
    "\n",
    "\n",
    "n = int(input())\n",
    "y =1\n",
    "\n",
    "for i in range(1,11):\n",
    "    y = n * i\n",
    "    print(n ,'x', i, '=', y)\n"
   ]
  },
  {
   "cell_type": "code",
   "execution_count": 2,
   "id": "1765f871",
   "metadata": {},
   "outputs": [
    {
     "name": "stdout",
     "output_type": "stream",
     "text": [
      "6\n",
      "1\n",
      "1\n",
      "2\n",
      "3\n",
      "5\n",
      "8\n"
     ]
    }
   ],
   "source": [
    "#3. Write a Python Program to Print the Fibonacci sequence?\n",
    "n = int(input())\n",
    "a=0\n",
    "b=1\n",
    "count =0\n",
    "while count<n:\n",
    "    \n",
    "    \n",
    "    c = a+b\n",
    "    a = b\n",
    "    b = c\n",
    "    count += 1\n",
    "    \n",
    "    \n",
    "    print(a)\n"
   ]
  },
  {
   "cell_type": "code",
   "execution_count": 7,
   "id": "3eb1c867",
   "metadata": {},
   "outputs": [
    {
     "name": "stdout",
     "output_type": "stream",
     "text": [
      "153\n",
      "the given number is an armstrong number\n"
     ]
    }
   ],
   "source": [
    "#4. Write a Python Program to Check Armstrong Number?\n",
    "n = int(input())\n",
    "sum= 0 \n",
    "x = n\n",
    "while x > 0 :\n",
    "    digit = x % 10\n",
    "    sum += digit**3\n",
    "    x = x//10\n",
    "if n == sum:\n",
    "    print(\"the given number is an armstrong number\")\n",
    "    \n",
    "else:\n",
    "    print(\"the given number is not an armstrong number \")"
   ]
  },
  {
   "cell_type": "code",
   "execution_count": 12,
   "id": "32700cb6",
   "metadata": {},
   "outputs": [
    {
     "name": "stdout",
     "output_type": "stream",
     "text": [
      "100\n",
      "10000\n",
      "153\n",
      "370\n",
      "371\n",
      "407\n"
     ]
    }
   ],
   "source": [
    "#5. Write a Python Program to Find Armstrong Number in an Interval?\n",
    "\n",
    "x = int(input())\n",
    "y = int(input())\n",
    "\n",
    "\n",
    "\n",
    "for i in range(x,y+1):\n",
    "    sum = 0\n",
    "    temp = i\n",
    "    while temp > 0:\n",
    "        digit = temp % 10\n",
    "        sum  += digit**3\n",
    "        temp //= 10\n",
    "    if i == sum:\n",
    "        print(i)\n"
   ]
  },
  {
   "cell_type": "code",
   "execution_count": 16,
   "id": "fb4f76f7",
   "metadata": {},
   "outputs": [
    {
     "name": "stdout",
     "output_type": "stream",
     "text": [
      "5\n",
      "the sum natural numbers up to 5 is 15\n"
     ]
    }
   ],
   "source": [
    "#6. Write a Python Program to Find the Sum of Natural Numbers?\n",
    "\n",
    "n = int(input())\n",
    "sum = 0\n",
    "num = 0\n",
    "for i in range(1,n+1):\n",
    "    num = i\n",
    "    sum += num\n",
    "print(\"the sum natural numbers up to\",n,\"is\",sum)"
   ]
  },
  {
   "cell_type": "code",
   "execution_count": null,
   "id": "588bf654",
   "metadata": {},
   "outputs": [],
   "source": []
  }
 ],
 "metadata": {
  "kernelspec": {
   "display_name": "Python 3 (ipykernel)",
   "language": "python",
   "name": "python3"
  },
  "language_info": {
   "codemirror_mode": {
    "name": "ipython",
    "version": 3
   },
   "file_extension": ".py",
   "mimetype": "text/x-python",
   "name": "python",
   "nbconvert_exporter": "python",
   "pygments_lexer": "ipython3",
   "version": "3.9.7"
  }
 },
 "nbformat": 4,
 "nbformat_minor": 5
}
