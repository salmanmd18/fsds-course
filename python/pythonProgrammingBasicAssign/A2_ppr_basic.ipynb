{
 "cells": [
  {
   "cell_type": "code",
   "execution_count": 1,
   "id": "ccbe8419",
   "metadata": {},
   "outputs": [
    {
     "name": "stdout",
     "output_type": "stream",
     "text": [
      "enter the distance in kilometer\n",
      "10\n",
      "10.0 killometers  is 6.215040397762586 miles\n"
     ]
    }
   ],
   "source": [
    "#1.Write a Python program to convert kilometers to miles?\n",
    "\n",
    "km  = float(input(\"enter the distance in kilometer\\n\"))\n",
    "\n",
    "miles = km/1.609\n",
    "\n",
    "print(km,\"killometers  is\",miles,\"miles\")"
   ]
  },
  {
   "cell_type": "code",
   "execution_count": 6,
   "id": "713d1d95",
   "metadata": {},
   "outputs": [
    {
     "name": "stdout",
     "output_type": "stream",
     "text": [
      "enter the temperature value in celsius\n",
      "100\n",
      "100.0  Celsius is  212.0 Fahrenheit\n"
     ]
    }
   ],
   "source": [
    "# 2. Write a Python program to convert Celsius to Fahrenheit?\n",
    "\n",
    "C = float(input(\"enter the temperature value in celsius\\n\"))\n",
    "\n",
    "F = (C * 9/5) + 32\n",
    "print(C,\" Celsius is \",F,\"Fahrenheit\")"
   ]
  },
  {
   "cell_type": "code",
   "execution_count": 5,
   "id": "99276849",
   "metadata": {},
   "outputs": [
    {
     "name": "stdout",
     "output_type": "stream",
     "text": [
      "enter the year2022\n",
      "                                  2022\n",
      "\n",
      "      January                   February                   March\n",
      "Mo Tu We Th Fr Sa Su      Mo Tu We Th Fr Sa Su      Mo Tu We Th Fr Sa Su\n",
      "                1  2          1  2  3  4  5  6          1  2  3  4  5  6\n",
      " 3  4  5  6  7  8  9       7  8  9 10 11 12 13       7  8  9 10 11 12 13\n",
      "10 11 12 13 14 15 16      14 15 16 17 18 19 20      14 15 16 17 18 19 20\n",
      "17 18 19 20 21 22 23      21 22 23 24 25 26 27      21 22 23 24 25 26 27\n",
      "24 25 26 27 28 29 30      28                        28 29 30 31\n",
      "31\n",
      "\n",
      "       April                      May                       June\n",
      "Mo Tu We Th Fr Sa Su      Mo Tu We Th Fr Sa Su      Mo Tu We Th Fr Sa Su\n",
      "             1  2  3                         1             1  2  3  4  5\n",
      " 4  5  6  7  8  9 10       2  3  4  5  6  7  8       6  7  8  9 10 11 12\n",
      "11 12 13 14 15 16 17       9 10 11 12 13 14 15      13 14 15 16 17 18 19\n",
      "18 19 20 21 22 23 24      16 17 18 19 20 21 22      20 21 22 23 24 25 26\n",
      "25 26 27 28 29 30         23 24 25 26 27 28 29      27 28 29 30\n",
      "                          30 31\n",
      "\n",
      "        July                     August                  September\n",
      "Mo Tu We Th Fr Sa Su      Mo Tu We Th Fr Sa Su      Mo Tu We Th Fr Sa Su\n",
      "             1  2  3       1  2  3  4  5  6  7                1  2  3  4\n",
      " 4  5  6  7  8  9 10       8  9 10 11 12 13 14       5  6  7  8  9 10 11\n",
      "11 12 13 14 15 16 17      15 16 17 18 19 20 21      12 13 14 15 16 17 18\n",
      "18 19 20 21 22 23 24      22 23 24 25 26 27 28      19 20 21 22 23 24 25\n",
      "25 26 27 28 29 30 31      29 30 31                  26 27 28 29 30\n",
      "\n",
      "      October                   November                  December\n",
      "Mo Tu We Th Fr Sa Su      Mo Tu We Th Fr Sa Su      Mo Tu We Th Fr Sa Su\n",
      "                1  2          1  2  3  4  5  6                1  2  3  4\n",
      " 3  4  5  6  7  8  9       7  8  9 10 11 12 13       5  6  7  8  9 10 11\n",
      "10 11 12 13 14 15 16      14 15 16 17 18 19 20      12 13 14 15 16 17 18\n",
      "17 18 19 20 21 22 23      21 22 23 24 25 26 27      19 20 21 22 23 24 25\n",
      "24 25 26 27 28 29 30      28 29 30                  26 27 28 29 30 31\n",
      "31\n",
      "\n"
     ]
    }
   ],
   "source": [
    "# 3. Write a Python program to display calendar?\n",
    "import calendar\n",
    "\n",
    "yy=int(input(\"enter the year\"))\n",
    "\n",
    "print(calendar.calendar(yy))"
   ]
  },
  {
   "cell_type": "code",
   "execution_count": 10,
   "id": "388d06f3",
   "metadata": {},
   "outputs": [
    {
     "name": "stdout",
     "output_type": "stream",
     "text": [
      "enter coefficient of a 10\n",
      "enter coeffiecientof b 2\n",
      "enter constant value 1\n",
      "the solutions the given quadraric equations are (-0.1-0.3j) (0.1+0.3j)\n"
     ]
    }
   ],
   "source": [
    "#4. Write a Python program to solve quadratic equation?\n",
    "\n",
    "import cmath\n",
    "\n",
    "a = int(input(\"enter coefficient of a \"))\n",
    "b = int(input(\"enter coeffiecientof b \"))\n",
    "c =int(input(\"enter constant value \"))\n",
    "d = (b**2) - (4*a*c)\n",
    "s1 = (-b-cmath.sqrt(d))/(2*a)\n",
    "s2 = (b+cmath.sqrt(d))/(2*a)\n",
    "\n",
    "print(\"the solutions the given quadraric equations are\",s1,s2)"
   ]
  },
  {
   "cell_type": "code",
   "execution_count": 12,
   "id": "48c6fb3c",
   "metadata": {},
   "outputs": [
    {
     "name": "stdout",
     "output_type": "stream",
     "text": [
      "x = 5 y = 10\n"
     ]
    }
   ],
   "source": [
    "# 5. Write a Python program to swap two variables without temp variable?\n",
    "\n",
    "x =10\n",
    "y =5 \n",
    "x,y=y,x\n",
    "print(\"x =\",x,\"y =\",y)"
   ]
  },
  {
   "cell_type": "code",
   "execution_count": null,
   "id": "149da0ee",
   "metadata": {},
   "outputs": [],
   "source": []
  }
 ],
 "metadata": {
  "kernelspec": {
   "display_name": "Python 3 (ipykernel)",
   "language": "python",
   "name": "python3"
  },
  "language_info": {
   "codemirror_mode": {
    "name": "ipython",
    "version": 3
   },
   "file_extension": ".py",
   "mimetype": "text/x-python",
   "name": "python",
   "nbconvert_exporter": "python",
   "pygments_lexer": "ipython3",
   "version": "3.9.7"
  }
 },
 "nbformat": 4,
 "nbformat_minor": 5
}
