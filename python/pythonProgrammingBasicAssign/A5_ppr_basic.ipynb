{
 "cells": [
  {
   "cell_type": "code",
   "execution_count": 1,
   "id": "e3cffc6c",
   "metadata": {},
   "outputs": [
    {
     "name": "stdout",
     "output_type": "stream",
     "text": [
      "enter first nmuber10\n",
      "enter second nmuber44\n",
      "LCM of 10 and 44 is 220\n"
     ]
    }
   ],
   "source": [
    "#1. Write a Python Program to Find LCM?\n",
    "n1 = int(input(\"enter first nmuber\"))\n",
    "n2 = int(input(\"enter second nmuber\"))\n",
    "\n",
    "number = max(n1,n2)\n",
    "\n",
    "while(True):\n",
    "    if(number % n1 == 0 and number % n2 == 0):\n",
    "        break\n",
    "    else :\n",
    "        number += 1\n",
    "\n",
    "print(f\"LCM of {n1} and {n2} is {number}\")"
   ]
  },
  {
   "cell_type": "code",
   "execution_count": 10,
   "id": "99c692b7",
   "metadata": {},
   "outputs": [
    {
     "name": "stdout",
     "output_type": "stream",
     "text": [
      "Enter two numbers to find HCF\n",
      "Enter first number: 14\n",
      "Enter second number: 12\n",
      "LCM of 14, 12 is 2\n"
     ]
    }
   ],
   "source": [
    "#2  Write a Python Program to Find HCF?\n",
    "\n",
    "print(\"Enter two numbers to find HCF\")\n",
    "a = int(input(\"Enter first number: \"))\n",
    "b = int(input(\"Enter second number: \"))\n",
    "hcf = 1\n",
    "smaller = min(a, b)\n",
    "for i in range(1, smaller + 1):\n",
    "    if a % i == 0 and b % i == 0:\n",
    "        hcf = i\n",
    "    else:\n",
    "        number += 1\n",
    "print(f\"LCM of {a}, {b} is {hcf}\")"
   ]
  },
  {
   "cell_type": "code",
   "execution_count": 9,
   "id": "798ff3c0",
   "metadata": {},
   "outputs": [
    {
     "name": "stdout",
     "output_type": "stream",
     "text": [
      "enter the value to be converted455\n",
      "0b111000111 is binary value\n",
      "0o707 is octal value\n",
      "0x1c7 is hexa value\n"
     ]
    }
   ],
   "source": [
    "# 3. Write a Python Program to Convert Decimal to Binary, Octal and Hexadecimal?\n",
    "\n",
    "dec = int(input(\"enter the value to be converted\"))\n",
    "\n",
    "print(f\"{bin(dec)} is binary value\")\n",
    "print(f\"{oct(dec)} is octal value\")\n",
    "print(f\"{hex(dec)} is hexa value\")"
   ]
  },
  {
   "cell_type": "code",
   "execution_count": 11,
   "id": "b46fa80d",
   "metadata": {},
   "outputs": [
    {
     "name": "stdout",
     "output_type": "stream",
     "text": [
      "enter the char for finding ASCII valuesSalman\n",
      "S : 83\n",
      "a : 97\n",
      "l : 108\n",
      "m : 109\n",
      "a : 97\n",
      "n : 110\n"
     ]
    }
   ],
   "source": [
    "# 4.Write a Python Program To Find ASCII value of a character?\n",
    "\n",
    "char = input(\"enter the char for finding ASCII values\")\n",
    "\n",
    "for i in char :\n",
    "    print(f\"{i} : {ord(i)}\")\n"
   ]
  },
  {
   "cell_type": "code",
   "execution_count": 11,
   "id": "2435db70",
   "metadata": {},
   "outputs": [
    {
     "name": "stdout",
     "output_type": "stream",
     "text": [
      "Select an operation to perform\n",
      "1.Add\n",
      "2.Subtract\n",
      "3.Multiply\n",
      "4.Divide\n",
      "Enter choice(1/2/3/4): 2\n",
      "You have selected option 2.Substract, please input 2 numbers\n",
      "Enter first number: 12\n",
      "Enter second number: 3\n",
      "12 - 3 = 9\n",
      "Enter choice(1/2/3/4): 54\n",
      "Invalid input received, exiting the program\n"
     ]
    }
   ],
   "source": [
    "#5.Write a Python Program to Make a Simple Calculator with 4 basic mathematical operations?\n",
    "\n",
    "\n",
    "print(\"Select an operation to perform\")\n",
    "print(\"1.Add\")\n",
    "print(\"2.Subtract\")\n",
    "print(\"3.Multiply\")\n",
    "print(\"4.Divide\")\n",
    "\n",
    "while(True):\n",
    "    choice = input(\"Enter choice(1/2/3/4): \")\n",
    "    if choice in [\"1\", \"2\", \"3\", \"4\"]:\n",
    "        if choice == \"1\":\n",
    "            print(\"You have selected option 1.Add, please input 2 numbers\")\n",
    "            a = int(input(\"Enter first number: \"))\n",
    "            b = int(input(\"Enter second number: \"))\n",
    "            print(f\"{a} + {b} = {a+b}\")\n",
    "        elif choice == \"2\":\n",
    "            print(\"You have selected option 2.Substract, please input 2 numbers\")\n",
    "            a = int(input(\"Enter first number: \"))\n",
    "            b = int(input(\"Enter second number: \"))\n",
    "            print(f\"{a} - {b} = {a-b}\")\n",
    "        elif choice == \"3\":\n",
    "            print(\"You have selected option 3.Multiply, please input 2 numbers\")\n",
    "            a = int(input(\"Enter first number: \"))\n",
    "            b = int(input(\"Enter second number: \"))\n",
    "            print(f\"{a} x {b} = {a*b}\")\n",
    "        elif choice == \"4\":\n",
    "            print(\"You have selected option 4.Divide, please input 2 numbers\")\n",
    "            a = int(input(\"Enter first number: \"))\n",
    "            b = int(input(\"Enter second number: \"))\n",
    "            print(f\"{a} / {b} = {a/b}\")\n",
    "    else:\n",
    "        print(\"Invalid input received, exiting the program\")\n",
    "        break"
   ]
  },
  {
   "cell_type": "code",
   "execution_count": null,
   "id": "6f2d6c98",
   "metadata": {},
   "outputs": [],
   "source": []
  }
 ],
 "metadata": {
  "kernelspec": {
   "display_name": "Python 3 (ipykernel)",
   "language": "python",
   "name": "python3"
  },
  "language_info": {
   "codemirror_mode": {
    "name": "ipython",
    "version": 3
   },
   "file_extension": ".py",
   "mimetype": "text/x-python",
   "name": "python",
   "nbconvert_exporter": "python",
   "pygments_lexer": "ipython3",
   "version": "3.9.7"
  }
 },
 "nbformat": 4,
 "nbformat_minor": 5
}
