{
 "cells": [
  {
   "cell_type": "code",
   "execution_count": 8,
   "id": "eb8d2769",
   "metadata": {},
   "outputs": [
    {
     "name": "stdout",
     "output_type": "stream",
     "text": [
      "ENter the number to check: 89\n",
      "the number 89 is a disarium number\n"
     ]
    }
   ],
   "source": [
    "#1.Write a Python program to check if the given number is a Disarium Number?\n",
    "number = input(\"ENter the number to check: \")\n",
    "disarium = 0\n",
    "\n",
    "for i in range(len(number)):\n",
    "    disarium  += int(number[i])**(i+1) \n",
    "if (disarium) == int(number):\n",
    "    print(f'the number {number} is a disarium number')\n",
    "else:\n",
    "    print(f'the number {number} is not a disarium number')\n",
    "          "
   ]
  },
  {
   "cell_type": "code",
   "execution_count": 22,
   "id": "183274f0",
   "metadata": {},
   "outputs": [
    {
     "name": "stdout",
     "output_type": "stream",
     "text": [
      " 1  2  3  4  5  6  7  8  9  89 "
     ]
    }
   ],
   "source": [
    "# 2.Write a Python program to print all disarium numbers between 1 to 100?\n",
    "\n",
    "for i in range(1,100):\n",
    "    number = str(i)\n",
    "    disarium = 0\n",
    "    for i in range(len(number)):\n",
    "        disarium  += int(number[i])**(i+1) \n",
    "    if (disarium) == int(number):\n",
    "        print(f' {number}',end= ' ')\n",
    "    "
   ]
  },
  {
   "cell_type": "code",
   "execution_count": 33,
   "id": "5fa4a758",
   "metadata": {},
   "outputs": [
    {
     "name": "stdout",
     "output_type": "stream",
     "text": [
      "Enter a number to check if it is a Happy Number: 32\n",
      "32 is a Happy number\n"
     ]
    }
   ],
   "source": [
    "# 3.Write a Python program to check if the given number is Happy Number?\n",
    "        \n",
    "def numSquareSum(n):\n",
    "    squareSum = 0;\n",
    "    while(n):\n",
    "        squareSum += (n % 10) * (n % 10);\n",
    "        n = int(n / 10);\n",
    "    return squareSum\n",
    "def is_happy_number(n):\n",
    "    slow, fast = n, n\n",
    "    while(True):\n",
    "        slow = numSquareSum(slow)\n",
    "        fast = numSquareSum(numSquareSum(fast))\n",
    "        if(slow != fast):\n",
    "            continue;\n",
    "        else:\n",
    "            break\n",
    "    return (slow == 1)\n",
    "\n",
    "n = int(input(\"Enter a number to check if it is a Happy Number: \"))\n",
    "if is_happy_number(n):\n",
    "    print(f\"{n} is a Happy number\");\n",
    "else:\n",
    "    print(f\"{n} is not a Happy number\");"
   ]
  },
  {
   "cell_type": "code",
   "execution_count": 34,
   "id": "4837d696",
   "metadata": {},
   "outputs": [
    {
     "name": "stdout",
     "output_type": "stream",
     "text": [
      "1 7 10 13 19 23 28 31 32 44 49 68 70 79 82 86 91 94 97 100 "
     ]
    }
   ],
   "source": [
    "#4. Write a Python program to print all happy numbers between 1 and 100?\n",
    "def is_happy_number(n):\n",
    "    slow, fast = n, n\n",
    "    while(True):\n",
    "        slow = numSquareSum(slow)\n",
    "        fast = numSquareSum(numSquareSum(fast))\n",
    "        if(slow != fast):\n",
    "            continue\n",
    "        else:\n",
    "            break\n",
    "    return (slow == 1)\n",
    "        \n",
    "def numSquareSum(n):\n",
    "    squareSum = 0\n",
    "    while(n):\n",
    "        squareSum += (n % 10) * (n % 10)\n",
    "        n = int(n / 10)\n",
    "    return squareSum\n",
    "\n",
    "for n in range(1, 101):\n",
    "    if is_happy_number(n):\n",
    "        print(n, end= \" \")\n",
    "    "
   ]
  },
  {
   "cell_type": "code",
   "execution_count": 7,
   "id": "1b3408d2",
   "metadata": {},
   "outputs": [
    {
     "data": {
      "text/plain": [
       "True"
      ]
     },
     "execution_count": 7,
     "metadata": {},
     "output_type": "execute_result"
    }
   ],
   "source": [
    "#5. Write a Python program to determine whether the given number is a Harshad Number?\n",
    "\n",
    "\n",
    "def harshad(n):\n",
    "    s = 0\n",
    "    for i in str(n):\n",
    "        s += int(i)\n",
    "    if n %s==0:\n",
    "        return True\n",
    "    else :\n",
    "        return False\n",
    "\n",
    "\n",
    "harshad(198)"
   ]
  },
  {
   "cell_type": "code",
   "execution_count": 40,
   "id": "2a96465e",
   "metadata": {},
   "outputs": [
    {
     "name": "stdout",
     "output_type": "stream",
     "text": [
      "2 6 12 20 30 42 56 72 90 "
     ]
    }
   ],
   "source": [
    "#6.Write a Python program to print all pronic numbers between 1 and 100?\n",
    "\n",
    "\n",
    "pro = 0\n",
    "for i in range(1,100):\n",
    "    pro = (i) * (i+1)\n",
    "    if pro > 100:\n",
    "        break\n",
    "    print(pro,end = \" \")\n",
    "     \n"
   ]
  },
  {
   "cell_type": "code",
   "execution_count": null,
   "id": "c8b1fa42",
   "metadata": {},
   "outputs": [],
   "source": []
  }
 ],
 "metadata": {
  "kernelspec": {
   "display_name": "Python 3 (ipykernel)",
   "language": "python",
   "name": "python3"
  },
  "language_info": {
   "codemirror_mode": {
    "name": "ipython",
    "version": 3
   },
   "file_extension": ".py",
   "mimetype": "text/x-python",
   "name": "python",
   "nbconvert_exporter": "python",
   "pygments_lexer": "ipython3",
   "version": "3.9.7"
  }
 },
 "nbformat": 4,
 "nbformat_minor": 5
}
