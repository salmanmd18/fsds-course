{
 "cells": [
  {
   "cell_type": "code",
   "execution_count": 2,
   "id": "981bee92",
   "metadata": {},
   "outputs": [
    {
     "name": "stdout",
     "output_type": "stream",
     "text": [
      "0\n",
      "1\n",
      "1\n",
      "2\n",
      "3\n",
      "5\n",
      "8\n",
      "13\n",
      "21\n",
      "34\n",
      "55\n"
     ]
    }
   ],
   "source": [
    "#1.Write a Python Program to Display Fibonacci Sequence Using Recursion?\n",
    "\n",
    "def Fib(a,b,n):\n",
    "    print(a)\n",
    "    a , b = b ,a+b\n",
    "    if n >0:\n",
    "        n -= 1\n",
    "        Fib(a,b,n)\n",
    "Fib(0,1,10)"
   ]
  },
  {
   "cell_type": "code",
   "execution_count": 5,
   "id": "50acaecc",
   "metadata": {},
   "outputs": [
    {
     "data": {
      "text/plain": [
       "6"
      ]
     },
     "execution_count": 5,
     "metadata": {},
     "output_type": "execute_result"
    }
   ],
   "source": [
    "#2.Write a Python Program to Find Factorial of Number Using Recursion?\n",
    "\n",
    "def fact(n):\n",
    "    if n == 1:\n",
    "        return 1\n",
    "    else :\n",
    "        return (n * fact(n - 1))\n",
    "fact(3)"
   ]
  },
  {
   "cell_type": "code",
   "execution_count": 7,
   "id": "7eeef8c0",
   "metadata": {},
   "outputs": [
    {
     "name": "stdout",
     "output_type": "stream",
     "text": [
      "enter height in meters1.8\n",
      "enter weight in kgs70\n",
      "your bmi score is : 21.6\n",
      "Healthy\n"
     ]
    }
   ],
   "source": [
    "#3. Write a Python Program to calculate your Body Mass Index?\n",
    "\n",
    "def bmi(h,w):\n",
    "    bmi = float(w)/float(h*h)\n",
    "    \n",
    "    if bmi > 0:\n",
    "        print(f'your bmi score is : {round(bmi,2)}' )\n",
    "        if(bmi<=16):\n",
    "            print('you are very under weight')\n",
    "        elif(bmi<=18.5):\n",
    "            print('under weight')\n",
    "        elif(bmi<=25):\n",
    "            print('Healthy')\n",
    "        elif(bmi<=30):\n",
    "            print('over weight')\n",
    "        else:\n",
    "            print(\"very over weight\")\n",
    "    else:\n",
    "        print('enter valid details')\n",
    "h = float(input('enter height in meters'))\n",
    "w = float(input('enter weight in kgs'))\n",
    "\n",
    "bmi(h,w)\n",
    "            \n",
    "        "
   ]
  },
  {
   "cell_type": "code",
   "execution_count": 9,
   "id": "719c9286",
   "metadata": {},
   "outputs": [
    {
     "name": "stdout",
     "output_type": "stream",
     "text": [
      "enter the number to calculate it = natural log(base e) :3\n",
      "natural log of 3.0 is 1.0986\n"
     ]
    }
   ],
   "source": [
    "#4. Write a Python Program to calculate the natural logarithm of any number?\n",
    "\n",
    "import math\n",
    "num = float(input('enter the number to calculate it = natural log(base e) :'))\n",
    "print(f'natural log of {num} is {round(math.log(num),4)}')"
   ]
  },
  {
   "cell_type": "code",
   "execution_count": 11,
   "id": "ed688c95",
   "metadata": {},
   "outputs": [
    {
     "name": "stdout",
     "output_type": "stream",
     "text": [
      "enter firsr number to cube some till :5\n",
      "the cube sum of 5 is 225.0\n"
     ]
    }
   ],
   "source": [
    "#5. Write a Python Program for cube sum of first n natural numbers?\n",
    "\n",
    "n = int(input(\"enter firsr number to cube some till :\"))\n",
    "print(f'the cube sum of {n} is {(n*(n+1)*0.5)**2}')"
   ]
  }
 ],
 "metadata": {
  "kernelspec": {
   "display_name": "Python 3 (ipykernel)",
   "language": "python",
   "name": "python3"
  },
  "language_info": {
   "codemirror_mode": {
    "name": "ipython",
    "version": 3
   },
   "file_extension": ".py",
   "mimetype": "text/x-python",
   "name": "python",
   "nbconvert_exporter": "python",
   "pygments_lexer": "ipython3",
   "version": "3.9.7"
  }
 },
 "nbformat": 4,
 "nbformat_minor": 5
}
