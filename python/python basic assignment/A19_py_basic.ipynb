{
 "cells": [
  {
   "cell_type": "code",
   "execution_count": 6,
   "id": "2880cf4d",
   "metadata": {},
   "outputs": [
    {
     "name": "stdout",
     "output_type": "stream",
     "text": [
      "<class '__main__.Thing'>\n",
      "<__main__.Thing object at 0x0000025E11D05B80>\n"
     ]
    }
   ],
   "source": [
    "#1. Make a class called Thing with no contents and print it. Then, create an object called example from this class and also print it. Are the printed values the same or different?\n",
    "\n",
    "class Thing:\n",
    "    pass\n",
    "print(Thing)\n",
    "Example = Thing()\n",
    "print(Example)\n",
    "    "
   ]
  },
  {
   "cell_type": "code",
   "execution_count": 12,
   "id": "fa54d26e",
   "metadata": {},
   "outputs": [
    {
     "data": {
      "text/plain": [
       "'abc'"
      ]
     },
     "execution_count": 12,
     "metadata": {},
     "output_type": "execute_result"
    }
   ],
   "source": [
    "#2. Create a new class called Thing2 and add the value 'abc' to the letters class attribute. Letters should be printed.\n",
    "class Thing2:\n",
    "    letters = \"abc\"\n",
    "Thing2.letters"
   ]
  },
  {
   "cell_type": "code",
   "execution_count": 19,
   "id": "36f1abcd",
   "metadata": {},
   "outputs": [
    {
     "data": {
      "text/plain": [
       "'xyz'"
      ]
     },
     "execution_count": 19,
     "metadata": {},
     "output_type": "execute_result"
    }
   ],
   "source": [
    "#3. Make yet another class called, of course, Thing3. This time, assign the value 'xyz' to an instance (object) attribute called letters. Print letters. Do you need to make an object from the class to do this?\n",
    "class Thing3:\n",
    "    def __init__(self):\n",
    "        self.letters = \"xyz\"\n",
    "a = Thing3()\n",
    "a.letters"
   ]
  },
  {
   "cell_type": "code",
   "execution_count": 23,
   "id": "6f631f81",
   "metadata": {},
   "outputs": [
    {
     "name": "stdout",
     "output_type": "stream",
     "text": [
      "Hydrogen H 1\n"
     ]
    }
   ],
   "source": [
    "#4. Create an Element class with the instance attributes name, symbol, and number. Create a class object with the values 'Hydrogen,' 'H,' and 1.\n",
    "\n",
    "class Element:\n",
    "    def __init__(self):\n",
    "        self.name = \"Hydrogen\"\n",
    "        self.symbol = \"H\"\n",
    "        self.number = 1\n",
    "a = Element()\n",
    "print(a.name,a.symbol,a.number)"
   ]
  },
  {
   "cell_type": "code",
   "execution_count": 27,
   "id": "bc0600c7",
   "metadata": {},
   "outputs": [
    {
     "name": "stdout",
     "output_type": "stream",
     "text": [
      "Hydrogen H 1\n"
     ]
    }
   ],
   "source": [
    "#5. Make a dictionary with these keys and values: 'name': 'Hydrogen', 'symbol': 'H', 'number': 1. Then, create an object called hydrogen from class Element using this dictionary.\n",
    "di = {'name': 'Hydrogen', 'symbol': 'H', 'number': 1}\n",
    "hydrogen = Element(**di)\n",
    "print(hydrogen.name,hydrogen.symbol,hydrogen.number)"
   ]
  },
  {
   "cell_type": "code",
   "execution_count": 25,
   "id": "0e5b240e",
   "metadata": {},
   "outputs": [
    {
     "name": "stdout",
     "output_type": "stream",
     "text": [
      "Hydrogen H 1\n"
     ]
    }
   ],
   "source": [
    "#6. For the Element class, define a method called dump() that prints the values of the object’s attributes (name, symbol, and number). Create the hydrogen object from this new definition and use dump() to print its attributes.\n",
    "\n",
    "class Element:\n",
    "    def __init__(self,name,symbol,number):\n",
    "        self.name= name\n",
    "        self.symbol= symbol\n",
    "        self.number=number\n",
    "    def dump(self):\n",
    "        print(self.name,self.symbol,self.number)\n",
    "        \n",
    "hydrogen = Element(\"Hydrogen\",\"H\",1)\n",
    "hydrogen.dump()"
   ]
  },
  {
   "cell_type": "code",
   "execution_count": 55,
   "id": "70ae38b4",
   "metadata": {},
   "outputs": [
    {
     "name": "stdout",
     "output_type": "stream",
     "text": [
      "<__main__.Element object at 0x0000025E12F4C220>\n",
      "name=Hydrogen, symbol=H, number=1\n"
     ]
    }
   ],
   "source": [
    "#7. Call print(hydrogen). In the definition of Element, change the name of method dump to __str__, create a new hydrogen object, and call print(hydrogen) again.\n",
    "\n",
    "print(hydrogen)\n",
    "class Element:\n",
    "        def __init__(self, name, symbol, number):\n",
    "            self.name = name\n",
    "            self.symbol = symbol\n",
    "            self.number = number\n",
    "        def __str__(self):\n",
    "            return ('name=%s, symbol=%s, number=%s' %\n",
    "                (self.name, self.symbol, self.number))\n",
    "        \n",
    "hydrogen = Element(\"Hydrogen\",\"H\",1)\n",
    "print(hydrogen)"
   ]
  },
  {
   "cell_type": "code",
   "execution_count": 26,
   "id": "fb6d5056",
   "metadata": {},
   "outputs": [
    {
     "name": "stdout",
     "output_type": "stream",
     "text": [
      "Hydrogen H 1\n"
     ]
    }
   ],
   "source": [
    "#8. Modify Element to make the attributes name, symbol, and number private. Define a getter property for each to return its value.\n",
    "class Element:\n",
    "        def __init__(self, name, symbol, number):\n",
    "            self.__name = name\n",
    "            self.__symbol = symbol\n",
    "            self.__number = number\n",
    "        @property\n",
    "        def name(self):\n",
    "            return self.__name\n",
    "        @property\n",
    "        def symbol(self):\n",
    "            return self.__symbol\n",
    "        @property\n",
    "        def number(self):\n",
    "            return self.__number\n",
    "        \n",
    "hydrogen = Element(\"Hydrogen\",\"H\",1)\n",
    "print(hydrogen.name,hydrogen.symbol,hydrogen.number)"
   ]
  },
  {
   "cell_type": "code",
   "execution_count": 20,
   "id": "caa48d28",
   "metadata": {},
   "outputs": [
    {
     "name": "stdout",
     "output_type": "stream",
     "text": [
      "berries clover campers\n"
     ]
    }
   ],
   "source": [
    "#9. Define three classes: Bear, Rabbit, and Octothorpe. For each, define only one method: eats(). This should return 'berries' (Bear), 'clover' (Rabbit), or 'campers' (Octothorpe). Create one object from each and print what it eats.\n",
    "\n",
    "class Bear:\n",
    "    def __init__(self,berries):\n",
    "        self.berries = berries\n",
    "        \n",
    "    def eats(self):\n",
    "        return self.berries\n",
    "    \n",
    "    \n",
    "\n",
    "    \n",
    "class Rabbit:\n",
    "    def __init__(self,clover):\n",
    "        self.clover= clover\n",
    "        \n",
    "    def eats(self):\n",
    "        return self.clover\n",
    "    \n",
    "    \n",
    "    \n",
    "    \n",
    "class Octothorpe:\n",
    "    def __init__(self,campers):\n",
    "        self.campers = campers\n",
    "        \n",
    "    def eats(self):\n",
    "        return self.campers\n",
    "    \n",
    "a = Bear(\"berries\")\n",
    "b= Rabbit(\"clover\")\n",
    "c = Octothorpe(\"campers\")\n",
    "print(a.eats(),b.eats(),c.eats())\n",
    "    \n",
    "    \n"
   ]
  },
  {
   "cell_type": "code",
   "execution_count": 38,
   "id": "48f8e34d",
   "metadata": {},
   "outputs": [
    {
     "name": "stdout",
     "output_type": "stream",
     "text": [
      "disintegrate crush ring\n"
     ]
    }
   ],
   "source": [
    "# #10. Define these classes: Laser, Claw, and SmartPhone. Each has only one method: does(). This\n",
    "# returns &#39;disintegrate&#39; (Laser), &#39;crush&#39; (Claw), or &#39;ring&#39; (SmartPhone). Then, define the class Robot that\n",
    "# has one instance (object) of each of these. Define a does() method for the Robot that prints what its\n",
    "# component objects do.\n",
    "\n",
    "class Laser:\n",
    "    def does(self):\n",
    "        return \"disintegrate\"\n",
    "class Claw:\n",
    "    def does(self):\n",
    "        return \"crush\"\n",
    "class Smartphone:\n",
    "    def does(self):\n",
    "        return \"ring\"\n",
    "    \n",
    "class Robot:\n",
    "    def __init__(self):\n",
    "        self.laser= Laser()\n",
    "        self.claw = Claw()\n",
    "        self.smartphone = Smartphone()\n",
    "        \n",
    "    def does(self):\n",
    "        print(self.laser,self.claw,self.smartphone)\n",
    "        \n",
    "a = Robot()\n",
    "print(a.laser.does(),a.claw.does(),a.smartphone.does())"
   ]
  }
 ],
 "metadata": {
  "kernelspec": {
   "display_name": "Python 3 (ipykernel)",
   "language": "python",
   "name": "python3"
  },
  "language_info": {
   "codemirror_mode": {
    "name": "ipython",
    "version": 3
   },
   "file_extension": ".py",
   "mimetype": "text/x-python",
   "name": "python",
   "nbconvert_exporter": "python",
   "pygments_lexer": "ipython3",
   "version": "3.9.7"
  }
 },
 "nbformat": 4,
 "nbformat_minor": 5
}
