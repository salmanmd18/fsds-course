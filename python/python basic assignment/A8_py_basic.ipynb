{
 "cells": [
  {
   "cell_type": "markdown",
   "id": "698d2fcb",
   "metadata": {},
   "source": [
    "1. Is the Python Standard Library included with PyInputPlus?\n",
    "\n",
    "No its is not and it must be installed using Pip.\n",
    "\n",
    "pip install PyInputPlus - this is the command"
   ]
  },
  {
   "cell_type": "markdown",
   "id": "1b9a4593",
   "metadata": {},
   "source": [
    "2. Why is PyInputPlus commonly imported with import pyinputplus as pypi?\n",
    "\n",
    "It is the alias of puinputplus. It is used to avoid calling pyinputplus every time so shorter version is used.\n"
   ]
  },
  {
   "cell_type": "markdown",
   "id": "3cfe0a3a",
   "metadata": {},
   "source": [
    "3. How do you distinguish between inputInt() and inputFloat()?\n",
    "\n",
    "inputInt() - it takes integer values and return the same also it rejects other values.\n",
    "inputFloat() - it takes floating point numeric value and returns the same."
   ]
  },
  {
   "cell_type": "markdown",
   "id": "a1c25312",
   "metadata": {},
   "source": [
    "4. Using PyInputPlus, how do you ensure that the user enters a whole number between 0 and 99?\n",
    "\n",
    "It can be done by setting max = 99 and min = 0 in the following manner.\n",
    "\n",
    "pyip.inputInt(min = 0, max = 99)"
   ]
  },
  {
   "cell_type": "markdown",
   "id": "c3f1b440",
   "metadata": {},
   "source": [
    "5. What is transferred to the keyword arguments allowRegexes and blockRegexes?\n",
    "\n",
    "It is used to allow or block certain regular values by giving as arguments to take input or not.\n",
    "\n",
    "the follwing exmaple depicts it\n",
    "\n",
    "pyip.inputStr(allowRegexes = 'aeiou') # it allows the given alphabets\n",
    "pyip.inputStr(blockRegexes = 'aeiou') # it blocks the given alphabets\n"
   ]
  },
  {
   "cell_type": "markdown",
   "id": "907bba74",
   "metadata": {},
   "source": [
    "6. If a blank input is entered three times, what does inputStr(limit=3) do?\n",
    "\n",
    "it throws the RetryLimitException."
   ]
  },
  {
   "cell_type": "markdown",
   "id": "9fc91865",
   "metadata": {},
   "source": [
    "7. If blank input is entered three times, what does inputStr(limit=3, default='hello') do?\n",
    "\n",
    "it gives the default value instead of raising exception"
   ]
  }
 ],
 "metadata": {
  "kernelspec": {
   "display_name": "Python 3 (ipykernel)",
   "language": "python",
   "name": "python3"
  },
  "language_info": {
   "codemirror_mode": {
    "name": "ipython",
    "version": 3
   },
   "file_extension": ".py",
   "mimetype": "text/x-python",
   "name": "python",
   "nbconvert_exporter": "python",
   "pygments_lexer": "ipython3",
   "version": "3.9.7"
  }
 },
 "nbformat": 4,
 "nbformat_minor": 5
}
