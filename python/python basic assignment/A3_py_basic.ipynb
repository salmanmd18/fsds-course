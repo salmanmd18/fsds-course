{
 "cells": [
  {
   "cell_type": "markdown",
   "id": "110832a0",
   "metadata": {},
   "source": [
    "1. Why are functions advantageous to have in your programs?\n",
    "\n",
    "There are several advantages :\n",
    "\n",
    "Creating a new function gives you an opportunity to name a group of statements, which makes your program easier to read, understand, and debug.\n",
    "\n",
    "Functions can make a program smaller by eliminating repetitive code. Later, if you make a change, you only have to make it in one place.\n",
    "\n",
    "Dividing a long program into functions allows you to debug the parts one at a time and then assemble them into a working whole.\n",
    "\n",
    "Well-designed functions are often useful for many programs. Once you write and debug one, you can reuse it."
   ]
  },
  {
   "cell_type": "markdown",
   "id": "1c3c2ef8",
   "metadata": {},
   "source": [
    "2. When does the code in a function run: when it's specified or when it's called?\n",
    "\n",
    "It runs when the fuction is called using by its name for which is defined.\n"
   ]
  },
  {
   "cell_type": "markdown",
   "id": "6922fb11",
   "metadata": {},
   "source": [
    "3. What statement creates a function?\n",
    "\n",
    "def filename():\n",
    " \n",
    " the above statement is used to create a function named filename.\n"
   ]
  },
  {
   "cell_type": "markdown",
   "id": "a1c3a653",
   "metadata": {},
   "source": [
    "4. What is the difference between a function and a function call?\n",
    "\n",
    "A function is procedure to achieve a particular result while function call is using this function to achive that task."
   ]
  },
  {
   "cell_type": "markdown",
   "id": "6d0611a9",
   "metadata": {},
   "source": [
    "5. How many global scopes are there in a Python program? How many local scopes?\n",
    "\n",
    "There's only one global Python scope per program execution. The local scopes can be any number as per required and defined inside the block.\n"
   ]
  },
  {
   "cell_type": "markdown",
   "id": "3b5493c3",
   "metadata": {},
   "source": [
    "6. What happens to variables in a local scope when the function call returns?\n",
    "\n",
    "When the function call return then the local variables are destroyed."
   ]
  },
  {
   "cell_type": "markdown",
   "id": "8935b8da",
   "metadata": {},
   "source": [
    "7. What is the concept of a return value? Is it possible to have a return value in an expression?\n",
    "\n",
    "The Python return statement is a special statement that you can use inside a function or method to send the function's result back to the caller. A return statement consists of the return keyword followed by an optional return value.\n",
    "\n",
    "Yes, it is possible to have a return value in an expression."
   ]
  },
  {
   "cell_type": "markdown",
   "id": "e36dc80a",
   "metadata": {},
   "source": [
    "8. If a function does not have a return statement, what is the return value of a call to that function?\n",
    "\n",
    "If a function doesn't specify a return value, it returns None.\n"
   ]
  },
  {
   "cell_type": "markdown",
   "id": "d191fb62",
   "metadata": {},
   "source": [
    "9. How do you make a function variable refer to the global variable?\n",
    "If you want to refer to a global variable in a function, you can use the global keyword to declare which variables are global."
   ]
  },
  {
   "cell_type": "markdown",
   "id": "3aeb4b28",
   "metadata": {},
   "source": [
    "10. What is the data type of None?\n",
    "\n",
    "None is used to define a null value. It is not the same as an empty string, False, or a zero."
   ]
  },
  {
   "cell_type": "markdown",
   "id": "d3d9d92a",
   "metadata": {},
   "source": [
    "11. What does the sentence import areallyourpetsnamederic do?\n",
    "\n",
    "That import statement imports a module named areallyourpetsnamederic."
   ]
  },
  {
   "cell_type": "markdown",
   "id": "9a7a3350",
   "metadata": {},
   "source": [
    "12. If you had a bacon() feature in a spam module, what would you call it after importing spam?\n",
    "\n",
    "This function can be called with spam.bacon()\n"
   ]
  },
  {
   "cell_type": "markdown",
   "id": "fd7f7993",
   "metadata": {},
   "source": [
    "13. What can you do to save a programme from crashing if it encounters an error?\n",
    "\n",
    "We can use try and except method."
   ]
  },
  {
   "cell_type": "markdown",
   "id": "04bf4e43",
   "metadata": {},
   "source": [
    "14. What is the purpose of the try clause? What is the purpose of the except clause?\n",
    "\n",
    "The code which causes error comes under try clause and the cover up part which is to pinted to overcome the error goes in to the except clause."
   ]
  }
 ],
 "metadata": {
  "kernelspec": {
   "display_name": "Python 3 (ipykernel)",
   "language": "python",
   "name": "python3"
  },
  "language_info": {
   "codemirror_mode": {
    "name": "ipython",
    "version": 3
   },
   "file_extension": ".py",
   "mimetype": "text/x-python",
   "name": "python",
   "nbconvert_exporter": "python",
   "pygments_lexer": "ipython3",
   "version": "3.9.7"
  }
 },
 "nbformat": 4,
 "nbformat_minor": 5
}
