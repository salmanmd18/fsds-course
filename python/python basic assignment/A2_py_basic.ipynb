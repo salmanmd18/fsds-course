{
 "cells": [
  {
   "cell_type": "code",
   "execution_count": 1,
   "id": "d864e5a6",
   "metadata": {},
   "outputs": [],
   "source": [
    "# #1.What are the two values of the Boolean data type? How do you write them?\n",
    "\n",
    "# The two values of boolean datatype are True and false\n"
   ]
  },
  {
   "cell_type": "code",
   "execution_count": 2,
   "id": "7cad6f72",
   "metadata": {},
   "outputs": [],
   "source": [
    "# #2. What are the three different types of Boolean operators?\n",
    "\n",
    "# Three boolean operators are AND,NOT and OR."
   ]
  },
  {
   "cell_type": "code",
   "execution_count": 3,
   "id": "cfda5312",
   "metadata": {},
   "outputs": [],
   "source": [
    "# #3. Make a list of each Boolean operator's truth tables (i.e. every possible combination of Boolean values for the operator and what it evaluate ).\n",
    "\n",
    "\n",
    "# A       B       A and B\n",
    "# True    True      True\n",
    "# False    True      False\n",
    "# True    False      False\n",
    "# False    False      False\n",
    "\n",
    "\n",
    "# A        B          A or B\n",
    "# True      True      True\n",
    "# False      True      True\n",
    "# True      False      True\n",
    "# False      False      False\n",
    "\n",
    "\n",
    "# A          not A\n",
    "# True        False\n",
    "# False       True"
   ]
  },
  {
   "cell_type": "code",
   "execution_count": 4,
   "id": "a1cdc545",
   "metadata": {},
   "outputs": [
    {
     "data": {
      "text/plain": [
       "False"
      ]
     },
     "execution_count": 4,
     "metadata": {},
     "output_type": "execute_result"
    }
   ],
   "source": [
    "#4. What are the values of the following expressions?\n",
    "(5 > 4) and (3 == 5)\n",
    "\n",
    "\n",
    "\n",
    "\n",
    "\n"
   ]
  },
  {
   "cell_type": "code",
   "execution_count": 5,
   "id": "a2a21717",
   "metadata": {},
   "outputs": [
    {
     "data": {
      "text/plain": [
       "False"
      ]
     },
     "execution_count": 5,
     "metadata": {},
     "output_type": "execute_result"
    }
   ],
   "source": [
    "not (5 > 4)"
   ]
  },
  {
   "cell_type": "code",
   "execution_count": 6,
   "id": "081e6553",
   "metadata": {},
   "outputs": [
    {
     "data": {
      "text/plain": [
       "True"
      ]
     },
     "execution_count": 6,
     "metadata": {},
     "output_type": "execute_result"
    }
   ],
   "source": [
    "(5 > 4) or (3 == 5)"
   ]
  },
  {
   "cell_type": "code",
   "execution_count": 7,
   "id": "853213d4",
   "metadata": {},
   "outputs": [
    {
     "data": {
      "text/plain": [
       "False"
      ]
     },
     "execution_count": 7,
     "metadata": {},
     "output_type": "execute_result"
    }
   ],
   "source": [
    "not ((5 > 4) or (3 == 5))"
   ]
  },
  {
   "cell_type": "code",
   "execution_count": 8,
   "id": "713ff2e8",
   "metadata": {},
   "outputs": [
    {
     "data": {
      "text/plain": [
       "False"
      ]
     },
     "execution_count": 8,
     "metadata": {},
     "output_type": "execute_result"
    }
   ],
   "source": [
    "(True and True) and (True == False)"
   ]
  },
  {
   "cell_type": "code",
   "execution_count": 9,
   "id": "37064e4a",
   "metadata": {},
   "outputs": [
    {
     "data": {
      "text/plain": [
       "True"
      ]
     },
     "execution_count": 9,
     "metadata": {},
     "output_type": "execute_result"
    }
   ],
   "source": [
    "(not False) or (not True)"
   ]
  },
  {
   "cell_type": "code",
   "execution_count": 10,
   "id": "d2c72461",
   "metadata": {},
   "outputs": [],
   "source": [
    "# 5. What are the six comparison operators?\n",
    "#        ==\n",
    "#        !=\n",
    "#        <\n",
    "#         >\n",
    "#        <=\n",
    "#         >="
   ]
  },
  {
   "cell_type": "code",
   "execution_count": 11,
   "id": "253533f4",
   "metadata": {},
   "outputs": [],
   "source": [
    "# 6. How do you tell the difference between the equal to and assignment operators?Describe a condition and when you would use one.\n",
    "\n",
    "# A single equal(=) sign is a assignment operator while double equal(==) is a comparison operator.\n",
    "# example:\n",
    "#     a=6 is assignment operator\n",
    "#     6==6 is comparison operator"
   ]
  },
  {
   "cell_type": "code",
   "execution_count": 12,
   "id": "e6831d07",
   "metadata": {},
   "outputs": [],
   "source": [
    "# 7. Identify the three blocks in this code:\n",
    "# spam = 0\n",
    "# if spam == 10:  (block 1)\n",
    "# print('eggs')\n",
    "\n",
    "# if spam > 5:   (block 2)\n",
    "# print('bacon')\n",
    "\n",
    "# else:          (block 3)\n",
    "# print('ham')\n",
    "# print('spam')\n",
    "# print('spam')\n"
   ]
  },
  {
   "cell_type": "code",
   "execution_count": 13,
   "id": "e0edceb8",
   "metadata": {},
   "outputs": [
    {
     "name": "stdout",
     "output_type": "stream",
     "text": [
      "2\n",
      "Howdy\n"
     ]
    }
   ],
   "source": [
    "#8. Write code that prints Hello if 1 is stored in spam, prints Howdy if 2 is stored in spam, and prints Greetings! if anything else is stored in spam.\n",
    "\n",
    "spam = int(input())\n",
    "if spam==1:\n",
    "    print(\"Hello\")\n",
    "elif spam==2:\n",
    "        print(\"Howdy\")\n",
    "else :\n",
    "    print(\"Greatings!\")\n"
   ]
  },
  {
   "cell_type": "code",
   "execution_count": 14,
   "id": "305ecf9c",
   "metadata": {},
   "outputs": [],
   "source": [
    "# #9.If your programme is stuck in an endless loop, what keys you’ll press?\n",
    "\n",
    "# Press CTRL+C"
   ]
  },
  {
   "cell_type": "code",
   "execution_count": 15,
   "id": "3268d84d",
   "metadata": {},
   "outputs": [],
   "source": [
    "# #10. How can you tell the difference between break and continue?\n",
    "\n",
    "# break statement stops the loop in which the statement is  used and where as continue statement skips a single iteration in a loop"
   ]
  },
  {
   "cell_type": "code",
   "execution_count": 16,
   "id": "5bbee93c",
   "metadata": {},
   "outputs": [
    {
     "name": "stdout",
     "output_type": "stream",
     "text": [
      "0\n",
      "1\n",
      "2\n",
      "3\n",
      "4\n",
      "5\n",
      "6\n",
      "7\n",
      "8\n",
      "9\n"
     ]
    }
   ],
   "source": [
    "#11. In a for loop, what is the difference between range(10), range(0, 10), and range(0, 10, 1)?\n",
    "for i in range(10):\n",
    "    print(i)"
   ]
  },
  {
   "cell_type": "code",
   "execution_count": 17,
   "id": "bae46aa7",
   "metadata": {},
   "outputs": [
    {
     "name": "stdout",
     "output_type": "stream",
     "text": [
      "0\n",
      "1\n",
      "2\n",
      "3\n",
      "4\n",
      "5\n",
      "6\n",
      "7\n",
      "8\n",
      "9\n"
     ]
    }
   ],
   "source": [
    "for i in range(0,10):\n",
    "    print(i)"
   ]
  },
  {
   "cell_type": "code",
   "execution_count": 18,
   "id": "5f7f05ef",
   "metadata": {},
   "outputs": [
    {
     "name": "stdout",
     "output_type": "stream",
     "text": [
      "0\n",
      "1\n",
      "2\n",
      "3\n",
      "4\n",
      "5\n",
      "6\n",
      "7\n",
      "8\n",
      "9\n"
     ]
    }
   ],
   "source": [
    "for i in range(0, 10, 1):\n",
    "    print(i)"
   ]
  },
  {
   "cell_type": "code",
   "execution_count": 19,
   "id": "9a71bde8",
   "metadata": {},
   "outputs": [],
   "source": [
    "#11Ans) As we can see there is no difference and all are same and their outputs are equal"
   ]
  },
  {
   "cell_type": "code",
   "execution_count": 20,
   "id": "2e9f99e7",
   "metadata": {},
   "outputs": [
    {
     "name": "stdout",
     "output_type": "stream",
     "text": [
      "1\n",
      "2\n",
      "3\n",
      "4\n",
      "5\n",
      "6\n",
      "7\n",
      "8\n",
      "9\n",
      "10\n"
     ]
    }
   ],
   "source": [
    "#12. Write a short program that prints the numbers 1 to 10 using a for loop. Then write an equivalent program that prints the numbers 1 to 10 using a while\n",
    "for i in range(1,11):\n",
    "    print(i)\n",
    "    "
   ]
  },
  {
   "cell_type": "code",
   "execution_count": 21,
   "id": "56fdde05",
   "metadata": {},
   "outputs": [
    {
     "name": "stdout",
     "output_type": "stream",
     "text": [
      "1\n",
      "2\n",
      "3\n",
      "4\n",
      "5\n",
      "6\n",
      "7\n",
      "8\n",
      "9\n",
      "10\n"
     ]
    }
   ],
   "source": [
    "i =1\n",
    "while i<=10:\n",
    "    print(i)\n",
    "    i =i+1"
   ]
  },
  {
   "cell_type": "code",
   "execution_count": 22,
   "id": "2dc5f13d",
   "metadata": {},
   "outputs": [],
   "source": [
    "# 13. If you had a function named bacon() inside a module named spam, how would you call it after importing spam?\n",
    "\n",
    "# It can be called using using spam.bacon()"
   ]
  },
  {
   "cell_type": "code",
   "execution_count": 23,
   "id": "e0302148",
   "metadata": {},
   "outputs": [],
   "source": []
  },
  {
   "cell_type": "code",
   "execution_count": null,
   "id": "aa22da79",
   "metadata": {},
   "outputs": [],
   "source": []
  }
 ],
 "metadata": {
  "kernelspec": {
   "display_name": "Python 3 (ipykernel)",
   "language": "python",
   "name": "python3"
  },
  "language_info": {
   "codemirror_mode": {
    "name": "ipython",
    "version": 3
   },
   "file_extension": ".py",
   "mimetype": "text/x-python",
   "name": "python",
   "nbconvert_exporter": "python",
   "pygments_lexer": "ipython3",
   "version": "3.9.7"
  }
 },
 "nbformat": 4,
 "nbformat_minor": 5
}
