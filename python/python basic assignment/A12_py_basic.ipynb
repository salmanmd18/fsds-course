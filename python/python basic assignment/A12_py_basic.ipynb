{
 "cells": [
  {
   "cell_type": "markdown",
   "id": "ac61f6a8",
   "metadata": {},
   "source": [
    "1. In what modes should the PdfFileReader() and PdfFileWriter() File objects will be opened?\n",
    "\n",
    "pip install PyPDF2\n",
    "\n",
    "These files will be opened in binary mode., read binary (rb) for PdfFileREader() and write binary (wb) PdfFileWriter()"
   ]
  },
  {
   "cell_type": "markdown",
   "id": "f21185d8",
   "metadata": {},
   "source": [
    "2. From a PdfFileReader object, how do you get a Page object for page 5?\n",
    "\n",
    "calling getPage(4) will get object of page 5 as indexes start from zero.\n",
    "\n",
    "import PyPDF2 as pdf \n",
    "\n",
    "pdfFileObj = open(\"my_sample.pdf\",\"rb\")\n",
    "\n",
    "pdfReader = pdf.PdfFileReader(pdfFileObj)\n",
    "\n",
    "pageObj = pdfReader.getPage(4)\n",
    "\n",
    "pageObj.ertractText()"
   ]
  },
  {
   "cell_type": "markdown",
   "id": "b530b3cb",
   "metadata": {},
   "source": [
    "3. What PdfFileReader variable stores the number of pages in the PDF document?\n",
    "\n",
    "the numPages stored the number of pages in the PdfFileReader in integer format\n",
    "\n",
    "import PyPDF2 as pdf\n",
    "\n",
    "pdfFileObj = open(\"my_sample.pdf\",\"rb\")\n",
    "\n",
    "pfdReader = pdf.PdfFIleREader(pdfFileObj)\n",
    "\n",
    "pdfReader.numPages"
   ]
  },
  {
   "cell_type": "markdown",
   "id": "63ef508d",
   "metadata": {},
   "source": [
    "4. If a PdfFileReader object’s PDF is encrypted with the password swordfish, what must you do before you can obtain Page objects from it?\n",
    "\n",
    "it can be by using .decrypt(swordfish)  pdfReader.decrypt(swordfish)"
   ]
  },
  {
   "cell_type": "markdown",
   "id": "71ba322b",
   "metadata": {},
   "source": [
    "5. What methods do you use to rotate a page?\n",
    "\n",
    "the rotateClockwise() and rotateAnticlockwise() methods. the degress to be rotated is passed as an inter arguments \n",
    "\n",
    "ex: pageObj.rotateClockwise(180)\n"
   ]
  },
  {
   "cell_type": "markdown",
   "id": "067e6ec1",
   "metadata": {},
   "source": [
    "6. What is the difference between a Run object and a Paragraph object?\n",
    "\n",
    "Paragraph Object:\n",
    "\n",
    "A document contains multiple paragraphs.\n",
    "A paragraph begins on a new line and contains multiple runs.\n",
    "The Document object contains a list of Paragraph objects for the paragraphs in the document.\n",
    "A new paragraph begins whenever the user presses ENTER or RETURN while typing in a Word document.\n",
    "\n",
    "Run Objects:\n",
    "\n",
    "Runs are contiguous groups of characters within a paragraph with the same style"
   ]
  },
  {
   "cell_type": "markdown",
   "id": "7e39970f",
   "metadata": {},
   "source": [
    "7. How do you obtain a list of Paragraph objects for a Document object that’s stored in a variable named doc?\n",
    "\n",
    "by using doc.paragraph it can be obtained\n",
    "\n",
    "pip install docx\n",
    "\n",
    "import docx\n",
    "\n",
    "doc = docx.Document('demo.docx')\n",
    "\n",
    "doc.paragraph\n"
   ]
  },
  {
   "cell_type": "markdown",
   "id": "209cd94e",
   "metadata": {},
   "source": [
    "8. What type of object has bold, underline, italic, strike, and outline variables?\n",
    "\n",
    "A run objecr has bold, underline, italic, strike, and outline variables?\n"
   ]
  },
  {
   "cell_type": "markdown",
   "id": "2091a7e4",
   "metadata": {},
   "source": [
    "9. What is the difference between False, True, and None for the bold variable?\n",
    "\n",
    "Runs can be further styled using text attributes. Each attribute can be set to one of three values: True (the attribute is always enabled, no matter what other styles are applied to the run), False (the attribute is always disabled), None (defaults to whatever the run’s style is set to)\n",
    "\n",
    "True always makes the Run object bolded\n",
    "False makes it always not bolded, no matter what the style’s bold setting is\n",
    "None will make the Run object just use the style’s bold setting"
   ]
  },
  {
   "cell_type": "markdown",
   "id": "2181d95c",
   "metadata": {},
   "source": [
    "10. How do you create a Document object for a new Word document?\n",
    "\n",
    "docx.Document() creates a Document object for a new Word document\n"
   ]
  },
  {
   "cell_type": "markdown",
   "id": "6aa5350b",
   "metadata": {},
   "source": [
    "11. How do you add a paragraph with the text 'Hello, there!' to a Document object stored in a variable named doc?\n",
    "\n",
    "import docx \n",
    "\n",
    "doc = docx.Document()\n",
    "\n",
    "doc.add_paragraph('Hello, there!')\n",
    "\n",
    "doc.save('hellothere.docx')\n"
   ]
  },
  {
   "cell_type": "markdown",
   "id": "016a5e39",
   "metadata": {},
   "source": [
    "12. What integers represent the levels of headings available in Word documents?\n",
    "\n",
    "integer from 0 to 4\n",
    "\n",
    "The arguments to add_heading() are a string of the heading text and an integer from 0 to 4. The integer 0 makes the heading the Title style, which is used for the top of the document. Integers 1 to 4 are for various heading levels, with 1 being the main heading and 4 the lowest subheading\n"
   ]
  },
  {
   "cell_type": "code",
   "execution_count": null,
   "id": "aa9f01aa",
   "metadata": {},
   "outputs": [],
   "source": []
  }
 ],
 "metadata": {
  "kernelspec": {
   "display_name": "Python 3 (ipykernel)",
   "language": "python",
   "name": "python3"
  },
  "language_info": {
   "codemirror_mode": {
    "name": "ipython",
    "version": 3
   },
   "file_extension": ".py",
   "mimetype": "text/x-python",
   "name": "python",
   "nbconvert_exporter": "python",
   "pygments_lexer": "ipython3",
   "version": "3.9.7"
  }
 },
 "nbformat": 4,
 "nbformat_minor": 5
}
