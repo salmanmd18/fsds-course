{
 "cells": [
  {
   "cell_type": "code",
   "execution_count": 1,
   "id": "888f275d",
   "metadata": {},
   "outputs": [
    {
     "name": "stdout",
     "output_type": "stream",
     "text": [
      "1 2 8\n"
     ]
    }
   ],
   "source": [
    "#1. What is the result of the code, and why?\n",
    "\n",
    "def func(a, b=6, c=8):\n",
    "    print(a, b, c)\n",
    "\n",
    "    \n",
    "func(1, 2)\n",
    "\n",
    "#func(1, 2) will print 1 2 8 on the console because as per the function func definition, the value of third parameter c is by default 8 if not passed explicitly"
   ]
  },
  {
   "cell_type": "code",
   "execution_count": 2,
   "id": "e5c6584e",
   "metadata": {},
   "outputs": [
    {
     "name": "stdout",
     "output_type": "stream",
     "text": [
      "1 2 3\n"
     ]
    }
   ],
   "source": [
    "#2. What is the result of this code, and why?\n",
    "def func(a, b, c=5):\n",
    "    print(a, b, c)\n",
    "\n",
    "func(1, c=3, b=2)\n",
    "\n",
    "# it  will print 1 2 3 onto the console because during the function call of func we are using named parameters instead of ordered parameter value passing.\n",
    "\n",
    "#Thus the value passed to a is 1, b is 2, c is 3 irrespective of the order of values c and b passed, as long as you are using named arguments"
   ]
  },
  {
   "cell_type": "code",
   "execution_count": 3,
   "id": "992ccc93",
   "metadata": {},
   "outputs": [
    {
     "name": "stdout",
     "output_type": "stream",
     "text": [
      "1 (2, 3)\n"
     ]
    }
   ],
   "source": [
    "#3.  How about this code: what is its result, and why?\n",
    "def func(a, *pargs):\n",
    "    print(a, pargs)\n",
    "\n",
    "func(1, 2, 3)\n",
    "\n",
    "#func(1, 2, 3) will prit 1 (2, 3) to the console, because the first parameter passed to the func function will be assigned to parameter a. Any other following arguments will be assigned to arbitary argument pargs which will be an iterable object of type tuple\n"
   ]
  },
  {
   "cell_type": "code",
   "execution_count": 4,
   "id": "71aac971",
   "metadata": {},
   "outputs": [
    {
     "name": "stdout",
     "output_type": "stream",
     "text": [
      "1 {'c': 3, 'b': 2}\n"
     ]
    }
   ],
   "source": [
    "#4. What does this code print, and why?\n",
    "def func(a, **kargs):\n",
    "    print(a, kargs)\n",
    "\n",
    "func(a=1, c=3, b=2)\n",
    "\n",
    "#func(a=1, c=3, b=2) will print 1 {'c': 3, 'b': 2} because the return type of kargs is a dictionary object"
   ]
  },
  {
   "cell_type": "code",
   "execution_count": 5,
   "id": "3e281796",
   "metadata": {},
   "outputs": [
    {
     "name": "stdout",
     "output_type": "stream",
     "text": [
      "1 5 6 5\n"
     ]
    }
   ],
   "source": [
    "#5. What gets printed by this, and explain?\n",
    "def func(a, b, c=8, d=5): \n",
    "    print(a, b, c, d)\n",
    "\n",
    "func(1, *(5, 6))\n",
    "\n",
    "#func(1, *(5, 6)) will print 1 5 6 5 to the console. a will take the value of 1, d will default to 5 as it is not passed. *(5, 6) will be read as comma seperated values and assigned to b, c respectively"
   ]
  },
  {
   "cell_type": "code",
   "execution_count": 10,
   "id": "aa97c7a0",
   "metadata": {},
   "outputs": [],
   "source": [
    "# 6. what is the result of this, and explain?\n",
    "def func(a, b, c):\n",
    "    a = 2\n",
    "    b[0] = 'x'\n",
    "    c['a'] = 'y'\n",
    "l=1\n",
    "m=[1]\n",
    "n={'a':0}\n",
    "\n",
    "func(l, m, n) \n",
    "\n",
    "#The values of l, m, n will be unchanged as the func updates the copies of these values but not the original values. So console output will be: (1, [1], {'a': 0})"
   ]
  },
  {
   "cell_type": "code",
   "execution_count": null,
   "id": "b170993f",
   "metadata": {},
   "outputs": [],
   "source": []
  }
 ],
 "metadata": {
  "kernelspec": {
   "display_name": "Python 3 (ipykernel)",
   "language": "python",
   "name": "python3"
  },
  "language_info": {
   "codemirror_mode": {
    "name": "ipython",
    "version": 3
   },
   "file_extension": ".py",
   "mimetype": "text/x-python",
   "name": "python",
   "nbconvert_exporter": "python",
   "pygments_lexer": "ipython3",
   "version": "3.9.7"
  }
 },
 "nbformat": 4,
 "nbformat_minor": 5
}
