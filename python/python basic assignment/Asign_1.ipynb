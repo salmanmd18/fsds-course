{
 "cells": [
  {
   "cell_type": "code",
   "execution_count": 11,
   "id": "5e805de8",
   "metadata": {},
   "outputs": [],
   "source": [
    "# 1. In the below elements which of them are values or an expression? eg:- values can be integer or string and expressions will be mathematical operators.\n",
    "# * is expression\n",
    "# 'hello' is value\n",
    "# -87.8 is value\n",
    "# -  is expression\n",
    "# /  is expression\n",
    "# +  is expression\n",
    "# 6  is value\n"
   ]
  },
  {
   "cell_type": "code",
   "execution_count": 12,
   "id": "0194a40c",
   "metadata": {},
   "outputs": [],
   "source": [
    "# 2. What is the difference between string and variable?\n",
    "# answer- A variable is a name that refers to a value where as the string is the values inside the quotes assigned to a string.\n"
   ]
  },
  {
   "cell_type": "code",
   "execution_count": 13,
   "id": "21e51aaa",
   "metadata": {},
   "outputs": [],
   "source": [
    "# 3. Describe three different data types.\n",
    "# ans-\n",
    "# 1)int- these represents integer values\n",
    "# 2)flaot- these represents floating or decomal values\n",
    "# 3)complex numbers - it represnts complex part + imaginary part."
   ]
  },
  {
   "cell_type": "code",
   "execution_count": 14,
   "id": "68dfa886",
   "metadata": {},
   "outputs": [],
   "source": [
    "# 4. What is an expression made up of? What do all expressions do?\n",
    "# ans -\n",
    "# An expression is a combination of values, variables, and operators. they are use to evalute."
   ]
  },
  {
   "cell_type": "code",
   "execution_count": 15,
   "id": "5f16dd9d",
   "metadata": {},
   "outputs": [],
   "source": [
    "# 5. This assignment statements, like spam = 10. What is the difference between an expression and a statement?\n",
    "# ans -\n",
    "# the spam =10 is an assignment statement.\n",
    "# A section of code that represents a command or action is statement.Execution of a statement may or may not produces or displays a result value, it only does whatever the statement says\n",
    "# where as evaluation of an expression always Produces or returns a result value.\n",
    "\n"
   ]
  },
  {
   "cell_type": "code",
   "execution_count": 16,
   "id": "ccc16719",
   "metadata": {},
   "outputs": [
    {
     "data": {
      "text/plain": [
       "23"
      ]
     },
     "execution_count": 16,
     "metadata": {},
     "output_type": "execute_result"
    }
   ],
   "source": [
    "#6. After running the following code, what does the variable bacon contain?\n",
    "bacon = 22\n",
    "bacon + 1\n"
   ]
  },
  {
   "cell_type": "code",
   "execution_count": 20,
   "id": "7cfdb59f",
   "metadata": {},
   "outputs": [
    {
     "data": {
      "text/plain": [
       "'spamspamspam'"
      ]
     },
     "execution_count": 20,
     "metadata": {},
     "output_type": "execute_result"
    }
   ],
   "source": [
    "#7. What should the values of the following two terms be?\n",
    "'spam' + 'spamspam'\n",
    "'spam' * 3\n",
    "\n"
   ]
  },
  {
   "cell_type": "code",
   "execution_count": 21,
   "id": "99cdc830",
   "metadata": {},
   "outputs": [],
   "source": [
    "# #8. Why is eggs a valid variable name while 100 is invalid?\n",
    "# ans- because we cant give variable name as integer.\n"
   ]
  },
  {
   "cell_type": "code",
   "execution_count": 23,
   "id": "466bd1f9",
   "metadata": {},
   "outputs": [],
   "source": [
    "# 9. What three functions can be used to get the integer, floating-point number, or string version of a value?\n",
    "# ans - str(), int(), float()"
   ]
  },
  {
   "cell_type": "code",
   "execution_count": 28,
   "id": "31a52e59",
   "metadata": {},
   "outputs": [],
   "source": [
    "# #10. Why does this expression cause an error? How can you fix it?\n",
    "# 'I have eaten ' + 99 + ' burritos.'\n",
    " \n",
    "# As 99 is integer it cannot add simply like that so for that typecating is required"
   ]
  },
  {
   "cell_type": "code",
   "execution_count": null,
   "id": "5b545c8d",
   "metadata": {},
   "outputs": [],
   "source": []
  }
 ],
 "metadata": {
  "kernelspec": {
   "display_name": "Python 3 (ipykernel)",
   "language": "python",
   "name": "python3"
  },
  "language_info": {
   "codemirror_mode": {
    "name": "ipython",
    "version": 3
   },
   "file_extension": ".py",
   "mimetype": "text/x-python",
   "name": "python",
   "nbconvert_exporter": "python",
   "pygments_lexer": "ipython3",
   "version": "3.9.7"
  }
 },
 "nbformat": 4,
 "nbformat_minor": 5
}
