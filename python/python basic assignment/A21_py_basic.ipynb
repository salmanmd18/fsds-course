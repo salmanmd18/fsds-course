{
 "cells": [
  {
   "cell_type": "code",
   "execution_count": 8,
   "id": "7bac7758",
   "metadata": {},
   "outputs": [
    {
     "name": "stdout",
     "output_type": "stream",
     "text": [
      "2022-03-08\n"
     ]
    }
   ],
   "source": [
    "#1. Add the current date to the text file today.txt as a string.\n",
    "\n",
    "\n",
    "from datetime import date\n",
    "\n",
    "f = open(\"today.txt\",'w')\n",
    "f.write(date.today().isoformat())\n",
    "print(date.today().isoformat())\n",
    "\n",
    "\n"
   ]
  },
  {
   "cell_type": "code",
   "execution_count": 19,
   "id": "34af4a27",
   "metadata": {},
   "outputs": [
    {
     "name": "stdout",
     "output_type": "stream",
     "text": [
      "Text read from the file is: 2022-03-08\n"
     ]
    }
   ],
   "source": [
    "#2. Read the text file today.txt into the string today_string\n",
    "today_string = \"\"\n",
    "with open('today.txt', 'r') as txt:\n",
    "    today_string = txt.readline()\n",
    "print(f\"Text read from the file is: {today_string}\")"
   ]
  },
  {
   "cell_type": "code",
   "execution_count": 20,
   "id": "f07b3d9c",
   "metadata": {},
   "outputs": [
    {
     "name": "stdout",
     "output_type": "stream",
     "text": [
      "2022-03-08 00:00:00\n"
     ]
    }
   ],
   "source": [
    "#3. Parse the date from today_string.\n",
    "from datetime import datetime\n",
    "print(datetime.strptime(today_string, '%Y-%m-%d'))"
   ]
  },
  {
   "cell_type": "code",
   "execution_count": 25,
   "id": "cd50d75c",
   "metadata": {},
   "outputs": [
    {
     "data": {
      "text/plain": [
       "['.ipynb_checkpoints',\n",
       " 'A12_py_basic.ipynb',\n",
       " 'A15_py_basic.ipynb',\n",
       " 'A16_py_basic.ipynb',\n",
       " 'A17_py_basic.ipynb',\n",
       " 'A18_py_basic.ipynb',\n",
       " 'A19_py_basic.ipynb',\n",
       " 'A20_py_basic.ipynb',\n",
       " 'A21_py_basic.ipynb',\n",
       " 'A2_py_basic.ipynb',\n",
       " 'A3_py_basic.ipynb',\n",
       " 'A4_py_basic.ipynb',\n",
       " 'A5_py_basic.ipynb',\n",
       " 'A6_py_basic.ipynb',\n",
       " 'A8_py_basic.ipynb',\n",
       " 'A9_py_basic.ipynb',\n",
       " 'books.csv',\n",
       " 'books.db',\n",
       " 'today.txt',\n",
       " 'Untitled.ipynb',\n",
       " 'zoo.py',\n",
       " '__pycache__']"
      ]
     },
     "execution_count": 25,
     "metadata": {},
     "output_type": "execute_result"
    }
   ],
   "source": [
    "#4. List the files in your current directory\n",
    "\n",
    "import os\n",
    "\n",
    "os.listdir()"
   ]
  },
  {
   "cell_type": "code",
   "execution_count": 29,
   "id": "d348f6cc",
   "metadata": {},
   "outputs": [
    {
     "name": "stdout",
     "output_type": "stream",
     "text": [
      "['.ipynb_checkpoints', 'A12_py_basic.ipynb', 'A15_py_basic.ipynb', 'A16_py_basic.ipynb', 'A17_py_basic.ipynb', 'A18_py_basic.ipynb', 'A19_py_basic.ipynb', 'A20_py_basic.ipynb', 'A21_py_basic.ipynb', 'A2_py_basic.ipynb', 'A3_py_basic.ipynb', 'A4_py_basic.ipynb', 'A5_py_basic.ipynb', 'A6_py_basic.ipynb', 'A8_py_basic.ipynb', 'A9_py_basic.ipynb', 'books.csv', 'books.db', 'today.txt', 'Untitled.ipynb', 'zoo.py', '__pycache__']\n"
     ]
    }
   ],
   "source": [
    "#5. Create a list of all of the files in your parent directory (minimum five files should be available).\n",
    "\n",
    "import os\n",
    "\n",
    "l = os.listdir()\n",
    "print(l)"
   ]
  },
  {
   "cell_type": "code",
   "execution_count": 30,
   "id": "5d834030",
   "metadata": {},
   "outputs": [
    {
     "name": "stdout",
     "output_type": "stream",
     "text": [
      "starting processes\n",
      "Process 0 will sleep for 1\n",
      "starting processes\n",
      "Process 1 will sleep for 8\n",
      "starting processes\n",
      "Process 2 will sleep for 10\n"
     ]
    }
   ],
   "source": [
    "#6. Use multiprocessing to create three separate processes. Make each one wait a random number ofseconds between one and five, print the current time, and then exit.\n",
    "\n",
    "import multiprocessing\n",
    "from datetime import datetime \n",
    "from time import sleep \n",
    "import random\n",
    "\n",
    "def now_sleep(seconds): \n",
    "    print('wait', seconds, 'seconds, time is', datetime.utcnow())\n",
    "    sleep(seconds) \n",
    "    print(\"Finished Process!\")\n",
    "\n",
    "if __name__ == '__main__':\n",
    "    for n in range(3): \n",
    "        print(\"starting processes\")\n",
    "        seconds = random.randint(1, 10) \n",
    "        print(f\"Process {n} will sleep for {seconds}\")\n",
    "        proc = multiprocessing.Process(target=now_sleep, args=(seconds,)) \n",
    "        proc.start()"
   ]
  },
  {
   "cell_type": "code",
   "execution_count": 32,
   "id": "07ced26d",
   "metadata": {},
   "outputs": [
    {
     "name": "stdout",
     "output_type": "stream",
     "text": [
      "2000-05-18\n"
     ]
    }
   ],
   "source": [
    "#.7 Create a date object of your day of birth.\n",
    "my_b = date(2000,5,18)\n",
    "print(my_b)"
   ]
  },
  {
   "cell_type": "code",
   "execution_count": 40,
   "id": "6fdcfbfd",
   "metadata": {},
   "outputs": [
    {
     "data": {
      "text/plain": [
       "3"
      ]
     },
     "execution_count": 40,
     "metadata": {},
     "output_type": "execute_result"
    }
   ],
   "source": [
    "#8. What day of the week was your day of birth?\n",
    "\n",
    "my_b.weekday()"
   ]
  },
  {
   "cell_type": "code",
   "execution_count": 42,
   "id": "f72927f6",
   "metadata": {},
   "outputs": [
    {
     "data": {
      "text/plain": [
       "datetime.date(2003, 2, 12)"
      ]
     },
     "execution_count": 42,
     "metadata": {},
     "output_type": "execute_result"
    }
   ],
   "source": [
    "#9. When will you be (or when were you) 10,000 days old?\n",
    "\n",
    "from datetime import timedelta\n",
    "\n",
    "t = my_b + timedelta(days=1000)\n",
    "t"
   ]
  },
  {
   "cell_type": "code",
   "execution_count": null,
   "id": "a3fbfed5",
   "metadata": {},
   "outputs": [],
   "source": []
  }
 ],
 "metadata": {
  "kernelspec": {
   "display_name": "Python 3 (ipykernel)",
   "language": "python",
   "name": "python3"
  },
  "language_info": {
   "codemirror_mode": {
    "name": "ipython",
    "version": 3
   },
   "file_extension": ".py",
   "mimetype": "text/x-python",
   "name": "python",
   "nbconvert_exporter": "python",
   "pygments_lexer": "ipython3",
   "version": "3.9.7"
  }
 },
 "nbformat": 4,
 "nbformat_minor": 5
}
