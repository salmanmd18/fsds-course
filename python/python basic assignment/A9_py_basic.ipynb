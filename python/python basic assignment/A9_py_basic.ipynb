{
 "cells": [
  {
   "cell_type": "markdown",
   "id": "2f5acb76",
   "metadata": {},
   "source": [
    "1. To what does a relative path refer?\n",
    "\n",
    "Relative paths are relative to the current working directory. When using relative path, we need to provide the absolute/complete path of file from the root directory, instead we can give the partial/relative path to indicate the file location."
   ]
  },
  {
   "cell_type": "markdown",
   "id": "559c4749",
   "metadata": {},
   "source": [
    "2. What does an absolute path start with your operating system?\n",
    "\n",
    "I am using Windows Operating System with Single Hard drive, so my absolute path starts with C:\\\n"
   ]
  },
  {
   "cell_type": "markdown",
   "id": "0cb3bfd8",
   "metadata": {},
   "source": [
    "3. What do the functions os.getcwd() and os.chdir() do?\n",
    "\n",
    "os.getcwd() returns you the current working directory path\n",
    "\n",
    "os.chdir() is used to change the current working directory while running the program"
   ]
  },
  {
   "cell_type": "markdown",
   "id": "eb6c9290",
   "metadata": {},
   "source": [
    "4. What are the . and .. folders?\n",
    "\n",
    ". single dot means the current folder\n",
    "\n",
    ".. double dot means the parent folder"
   ]
  },
  {
   "cell_type": "markdown",
   "id": "dd97a371",
   "metadata": {},
   "source": [
    "5. In C:\\bacon\\eggs\\spam.txt, which part is the dir name, and which part is the base name?\n",
    "\n",
    "C:\\bacon\\eggs is the dir name and spam.txt is the base name"
   ]
  },
  {
   "cell_type": "markdown",
   "id": "f1fe5456",
   "metadata": {},
   "source": [
    "6. What are the three “mode” arguments that can be passed to the open() function?\n",
    "\n",
    "'r' for read mode\n",
    "\n",
    "'w' for write mode\n",
    "\n",
    "'a' for append mode"
   ]
  },
  {
   "cell_type": "markdown",
   "id": "4cd2016f",
   "metadata": {},
   "source": [
    "7. What happens if an existing file is opened in write mode?\n",
    "\n",
    "If an existing file is opened in write mode, then all the existing content from the file is erased and the new content will be added, this might result in loss of data if you wanted to have both existing and new data to existing in the file"
   ]
  },
  {
   "cell_type": "markdown",
   "id": "5f7f7f90",
   "metadata": {},
   "source": [
    "8. How do you tell the difference between read() and readlines()?\n",
    "\n",
    "The read() method returns the file’s entire contents as a single string value.\n",
    "\n",
    "The readlines() method returns a list of strings, where each string is a line from the file’s contents."
   ]
  },
  {
   "cell_type": "markdown",
   "id": "3d72d930",
   "metadata": {},
   "source": [
    "9. What data structure does a shelf value resemble?\n",
    "\n",
    "A shelf value resembles a dictionary value; it has keys and values, along with keys() and values() methods that work similarly to the dictionary methods of the same names."
   ]
  }
 ],
 "metadata": {
  "kernelspec": {
   "display_name": "Python 3 (ipykernel)",
   "language": "python",
   "name": "python3"
  },
  "language_info": {
   "codemirror_mode": {
    "name": "ipython",
    "version": 3
   },
   "file_extension": ".py",
   "mimetype": "text/x-python",
   "name": "python",
   "nbconvert_exporter": "python",
   "pygments_lexer": "ipython3",
   "version": "3.9.7"
  }
 },
 "nbformat": 4,
 "nbformat_minor": 5
}
