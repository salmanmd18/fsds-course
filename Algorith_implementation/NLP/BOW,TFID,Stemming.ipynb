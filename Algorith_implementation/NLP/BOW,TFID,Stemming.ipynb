{
 "cells": [
  {
   "cell_type": "code",
   "execution_count": 13,
   "id": "2724a8d3",
   "metadata": {},
   "outputs": [],
   "source": [
    "paragraph = \"This is the NLP session that is going on and finally we are happy. Is everuone is happy. Ineuron is a company where we teach all the tech \""
   ]
  },
  {
   "cell_type": "code",
   "execution_count": 13,
   "id": "556baa41",
   "metadata": {},
   "outputs": [],
   "source": [
    "import nltk"
   ]
  },
  {
   "cell_type": "code",
   "execution_count": 6,
   "id": "39132b8e",
   "metadata": {},
   "outputs": [
    {
     "name": "stdout",
     "output_type": "stream",
     "text": [
      "showing info https://raw.githubusercontent.com/nltk/nltk_data/gh-pages/index.xml\n"
     ]
    },
    {
     "data": {
      "text/plain": [
       "True"
      ]
     },
     "execution_count": 6,
     "metadata": {},
     "output_type": "execute_result"
    }
   ],
   "source": [
    " nltk.download()"
   ]
  },
  {
   "cell_type": "code",
   "execution_count": 8,
   "id": "79e2cf2a",
   "metadata": {},
   "outputs": [
    {
     "ename": "LookupError",
     "evalue": "\n**********************************************************************\n  Resource \u001b[93mpunkt\u001b[0m not found.\n  Please use the NLTK Downloader to obtain the resource:\n\n  \u001b[31m>>> import nltk\n  >>> nltk.download('punkt')\n  \u001b[0m\n  For more information see: https://www.nltk.org/data.html\n\n  Attempted to load \u001b[93mtokenizers/punkt/english.pickle\u001b[0m\n\n  Searched in:\n    - 'C:\\\\Users\\\\DELL/nltk_data'\n    - 'C:\\\\ProgramData\\\\Anaconda3\\\\nltk_data'\n    - 'C:\\\\ProgramData\\\\Anaconda3\\\\share\\\\nltk_data'\n    - 'C:\\\\ProgramData\\\\Anaconda3\\\\lib\\\\nltk_data'\n    - 'C:\\\\Users\\\\DELL\\\\AppData\\\\Roaming\\\\nltk_data'\n    - 'C:\\\\nltk_data'\n    - 'D:\\\\nltk_data'\n    - 'E:\\\\nltk_data'\n    - ''\n**********************************************************************\n",
     "output_type": "error",
     "traceback": [
      "\u001b[1;31m---------------------------------------------------------------------------\u001b[0m",
      "\u001b[1;31mLookupError\u001b[0m                               Traceback (most recent call last)",
      "\u001b[1;32m~\\AppData\\Local\\Temp/ipykernel_32136/2035875814.py\u001b[0m in \u001b[0;36m<module>\u001b[1;34m\u001b[0m\n\u001b[1;32m----> 1\u001b[1;33m \u001b[0mnltk\u001b[0m\u001b[1;33m.\u001b[0m\u001b[0msent_tokenize\u001b[0m\u001b[1;33m(\u001b[0m\u001b[0mparagraph\u001b[0m\u001b[1;33m)\u001b[0m\u001b[1;33m\u001b[0m\u001b[1;33m\u001b[0m\u001b[0m\n\u001b[0m",
      "\u001b[1;32mC:\\ProgramData\\Anaconda3\\lib\\site-packages\\nltk\\tokenize\\__init__.py\u001b[0m in \u001b[0;36msent_tokenize\u001b[1;34m(text, language)\u001b[0m\n\u001b[0;32m    104\u001b[0m     \u001b[1;33m:\u001b[0m\u001b[0mparam\u001b[0m \u001b[0mlanguage\u001b[0m\u001b[1;33m:\u001b[0m \u001b[0mthe\u001b[0m \u001b[0mmodel\u001b[0m \u001b[0mname\u001b[0m \u001b[1;32min\u001b[0m \u001b[0mthe\u001b[0m \u001b[0mPunkt\u001b[0m \u001b[0mcorpus\u001b[0m\u001b[1;33m\u001b[0m\u001b[1;33m\u001b[0m\u001b[0m\n\u001b[0;32m    105\u001b[0m     \"\"\"\n\u001b[1;32m--> 106\u001b[1;33m     \u001b[0mtokenizer\u001b[0m \u001b[1;33m=\u001b[0m \u001b[0mload\u001b[0m\u001b[1;33m(\u001b[0m\u001b[1;34mf\"tokenizers/punkt/{language}.pickle\"\u001b[0m\u001b[1;33m)\u001b[0m\u001b[1;33m\u001b[0m\u001b[1;33m\u001b[0m\u001b[0m\n\u001b[0m\u001b[0;32m    107\u001b[0m     \u001b[1;32mreturn\u001b[0m \u001b[0mtokenizer\u001b[0m\u001b[1;33m.\u001b[0m\u001b[0mtokenize\u001b[0m\u001b[1;33m(\u001b[0m\u001b[0mtext\u001b[0m\u001b[1;33m)\u001b[0m\u001b[1;33m\u001b[0m\u001b[1;33m\u001b[0m\u001b[0m\n\u001b[0;32m    108\u001b[0m \u001b[1;33m\u001b[0m\u001b[0m\n",
      "\u001b[1;32mC:\\ProgramData\\Anaconda3\\lib\\site-packages\\nltk\\data.py\u001b[0m in \u001b[0;36mload\u001b[1;34m(resource_url, format, cache, verbose, logic_parser, fstruct_reader, encoding)\u001b[0m\n\u001b[0;32m    748\u001b[0m \u001b[1;33m\u001b[0m\u001b[0m\n\u001b[0;32m    749\u001b[0m     \u001b[1;31m# Load the resource.\u001b[0m\u001b[1;33m\u001b[0m\u001b[1;33m\u001b[0m\u001b[0m\n\u001b[1;32m--> 750\u001b[1;33m     \u001b[0mopened_resource\u001b[0m \u001b[1;33m=\u001b[0m \u001b[0m_open\u001b[0m\u001b[1;33m(\u001b[0m\u001b[0mresource_url\u001b[0m\u001b[1;33m)\u001b[0m\u001b[1;33m\u001b[0m\u001b[1;33m\u001b[0m\u001b[0m\n\u001b[0m\u001b[0;32m    751\u001b[0m \u001b[1;33m\u001b[0m\u001b[0m\n\u001b[0;32m    752\u001b[0m     \u001b[1;32mif\u001b[0m \u001b[0mformat\u001b[0m \u001b[1;33m==\u001b[0m \u001b[1;34m\"raw\"\u001b[0m\u001b[1;33m:\u001b[0m\u001b[1;33m\u001b[0m\u001b[1;33m\u001b[0m\u001b[0m\n",
      "\u001b[1;32mC:\\ProgramData\\Anaconda3\\lib\\site-packages\\nltk\\data.py\u001b[0m in \u001b[0;36m_open\u001b[1;34m(resource_url)\u001b[0m\n\u001b[0;32m    874\u001b[0m \u001b[1;33m\u001b[0m\u001b[0m\n\u001b[0;32m    875\u001b[0m     \u001b[1;32mif\u001b[0m \u001b[0mprotocol\u001b[0m \u001b[1;32mis\u001b[0m \u001b[1;32mNone\u001b[0m \u001b[1;32mor\u001b[0m \u001b[0mprotocol\u001b[0m\u001b[1;33m.\u001b[0m\u001b[0mlower\u001b[0m\u001b[1;33m(\u001b[0m\u001b[1;33m)\u001b[0m \u001b[1;33m==\u001b[0m \u001b[1;34m\"nltk\"\u001b[0m\u001b[1;33m:\u001b[0m\u001b[1;33m\u001b[0m\u001b[1;33m\u001b[0m\u001b[0m\n\u001b[1;32m--> 876\u001b[1;33m         \u001b[1;32mreturn\u001b[0m \u001b[0mfind\u001b[0m\u001b[1;33m(\u001b[0m\u001b[0mpath_\u001b[0m\u001b[1;33m,\u001b[0m \u001b[0mpath\u001b[0m \u001b[1;33m+\u001b[0m \u001b[1;33m[\u001b[0m\u001b[1;34m\"\"\u001b[0m\u001b[1;33m]\u001b[0m\u001b[1;33m)\u001b[0m\u001b[1;33m.\u001b[0m\u001b[0mopen\u001b[0m\u001b[1;33m(\u001b[0m\u001b[1;33m)\u001b[0m\u001b[1;33m\u001b[0m\u001b[1;33m\u001b[0m\u001b[0m\n\u001b[0m\u001b[0;32m    877\u001b[0m     \u001b[1;32melif\u001b[0m \u001b[0mprotocol\u001b[0m\u001b[1;33m.\u001b[0m\u001b[0mlower\u001b[0m\u001b[1;33m(\u001b[0m\u001b[1;33m)\u001b[0m \u001b[1;33m==\u001b[0m \u001b[1;34m\"file\"\u001b[0m\u001b[1;33m:\u001b[0m\u001b[1;33m\u001b[0m\u001b[1;33m\u001b[0m\u001b[0m\n\u001b[0;32m    878\u001b[0m         \u001b[1;31m# urllib might not use mode='rb', so handle this one ourselves:\u001b[0m\u001b[1;33m\u001b[0m\u001b[1;33m\u001b[0m\u001b[0m\n",
      "\u001b[1;32mC:\\ProgramData\\Anaconda3\\lib\\site-packages\\nltk\\data.py\u001b[0m in \u001b[0;36mfind\u001b[1;34m(resource_name, paths)\u001b[0m\n\u001b[0;32m    581\u001b[0m     \u001b[0msep\u001b[0m \u001b[1;33m=\u001b[0m \u001b[1;34m\"*\"\u001b[0m \u001b[1;33m*\u001b[0m \u001b[1;36m70\u001b[0m\u001b[1;33m\u001b[0m\u001b[1;33m\u001b[0m\u001b[0m\n\u001b[0;32m    582\u001b[0m     \u001b[0mresource_not_found\u001b[0m \u001b[1;33m=\u001b[0m \u001b[1;34mf\"\\n{sep}\\n{msg}\\n{sep}\\n\"\u001b[0m\u001b[1;33m\u001b[0m\u001b[1;33m\u001b[0m\u001b[0m\n\u001b[1;32m--> 583\u001b[1;33m     \u001b[1;32mraise\u001b[0m \u001b[0mLookupError\u001b[0m\u001b[1;33m(\u001b[0m\u001b[0mresource_not_found\u001b[0m\u001b[1;33m)\u001b[0m\u001b[1;33m\u001b[0m\u001b[1;33m\u001b[0m\u001b[0m\n\u001b[0m\u001b[0;32m    584\u001b[0m \u001b[1;33m\u001b[0m\u001b[0m\n\u001b[0;32m    585\u001b[0m \u001b[1;33m\u001b[0m\u001b[0m\n",
      "\u001b[1;31mLookupError\u001b[0m: \n**********************************************************************\n  Resource \u001b[93mpunkt\u001b[0m not found.\n  Please use the NLTK Downloader to obtain the resource:\n\n  \u001b[31m>>> import nltk\n  >>> nltk.download('punkt')\n  \u001b[0m\n  For more information see: https://www.nltk.org/data.html\n\n  Attempted to load \u001b[93mtokenizers/punkt/english.pickle\u001b[0m\n\n  Searched in:\n    - 'C:\\\\Users\\\\DELL/nltk_data'\n    - 'C:\\\\ProgramData\\\\Anaconda3\\\\nltk_data'\n    - 'C:\\\\ProgramData\\\\Anaconda3\\\\share\\\\nltk_data'\n    - 'C:\\\\ProgramData\\\\Anaconda3\\\\lib\\\\nltk_data'\n    - 'C:\\\\Users\\\\DELL\\\\AppData\\\\Roaming\\\\nltk_data'\n    - 'C:\\\\nltk_data'\n    - 'D:\\\\nltk_data'\n    - 'E:\\\\nltk_data'\n    - ''\n**********************************************************************\n"
     ]
    }
   ],
   "source": [
    "nltk.sent_tokenize(paragraph)"
   ]
  },
  {
   "cell_type": "code",
   "execution_count": 9,
   "id": "cdc7e591",
   "metadata": {},
   "outputs": [
    {
     "name": "stderr",
     "output_type": "stream",
     "text": [
      "[nltk_data] Downloading package punkt to\n",
      "[nltk_data]     C:\\Users\\DELL\\AppData\\Roaming\\nltk_data...\n",
      "[nltk_data]   Unzipping tokenizers\\punkt.zip.\n"
     ]
    },
    {
     "data": {
      "text/plain": [
       "True"
      ]
     },
     "execution_count": 9,
     "metadata": {},
     "output_type": "execute_result"
    }
   ],
   "source": [
    "nltk.download('punkt')"
   ]
  },
  {
   "cell_type": "code",
   "execution_count": 10,
   "id": "1077355e",
   "metadata": {},
   "outputs": [
    {
     "data": {
      "text/plain": [
       "['This is the NLP sessinltkon that is going on and finally we are happy']"
      ]
     },
     "execution_count": 10,
     "metadata": {},
     "output_type": "execute_result"
    }
   ],
   "source": [
    "nltk.sent_tokenize(paragraph)"
   ]
  },
  {
   "cell_type": "code",
   "execution_count": 12,
   "id": "66e1fb03",
   "metadata": {},
   "outputs": [
    {
     "data": {
      "text/plain": [
       "['This is the NLP session that is going on and finally we are happy.',\n",
       " 'Is everuone is happy']"
      ]
     },
     "execution_count": 12,
     "metadata": {},
     "output_type": "execute_result"
    }
   ],
   "source": [
    "nltk.sent_tokenize(paragraph)"
   ]
  },
  {
   "cell_type": "code",
   "execution_count": 14,
   "id": "d31532f2",
   "metadata": {},
   "outputs": [
    {
     "data": {
      "text/plain": [
       "['This is the NLP session that is going on and finally we are happy.',\n",
       " 'Is everuone is happy.',\n",
       " 'Ineuron is a company where we teach all the tech']"
      ]
     },
     "execution_count": 14,
     "metadata": {},
     "output_type": "execute_result"
    }
   ],
   "source": [
    "nltk.sent_tokenize(paragraph)"
   ]
  },
  {
   "cell_type": "code",
   "execution_count": 33,
   "id": "288531ac",
   "metadata": {},
   "outputs": [],
   "source": [
    "sentences = nltk.sent_tokenize(paragraph)"
   ]
  },
  {
   "cell_type": "code",
   "execution_count": 15,
   "id": "b394e51e",
   "metadata": {},
   "outputs": [
    {
     "data": {
      "text/plain": [
       "['This',\n",
       " 'is',\n",
       " 'the',\n",
       " 'NLP',\n",
       " 'session',\n",
       " 'that',\n",
       " 'is',\n",
       " 'going',\n",
       " 'on',\n",
       " 'and',\n",
       " 'finally',\n",
       " 'we',\n",
       " 'are',\n",
       " 'happy',\n",
       " '.',\n",
       " 'Is',\n",
       " 'everuone',\n",
       " 'is',\n",
       " 'happy',\n",
       " '.',\n",
       " 'Ineuron',\n",
       " 'is',\n",
       " 'a',\n",
       " 'company',\n",
       " 'where',\n",
       " 'we',\n",
       " 'teach',\n",
       " 'all',\n",
       " 'the',\n",
       " 'tech']"
      ]
     },
     "execution_count": 15,
     "metadata": {},
     "output_type": "execute_result"
    }
   ],
   "source": [
    "#Tokenization\n",
    "nltk.word_tokenize(paragraph)"
   ]
  },
  {
   "cell_type": "code",
   "execution_count": 16,
   "id": "ed23d57a",
   "metadata": {},
   "outputs": [],
   "source": [
    "from nltk.stem import PorterStemmer"
   ]
  },
  {
   "cell_type": "code",
   "execution_count": 17,
   "id": "8cefec7c",
   "metadata": {},
   "outputs": [],
   "source": [
    "stemmer = PorterStemmer()"
   ]
  },
  {
   "cell_type": "code",
   "execution_count": 18,
   "id": "f6c783a8",
   "metadata": {},
   "outputs": [
    {
     "data": {
      "text/plain": [
       "'go'"
      ]
     },
     "execution_count": 18,
     "metadata": {},
     "output_type": "execute_result"
    }
   ],
   "source": [
    "stemmer.stem(\"going\")"
   ]
  },
  {
   "cell_type": "code",
   "execution_count": 19,
   "id": "cf01edc9",
   "metadata": {},
   "outputs": [
    {
     "data": {
      "text/plain": [
       "'final'"
      ]
     },
     "execution_count": 19,
     "metadata": {},
     "output_type": "execute_result"
    }
   ],
   "source": [
    "stemmer.stem(\"finally\")"
   ]
  },
  {
   "cell_type": "code",
   "execution_count": 20,
   "id": "d2351301",
   "metadata": {},
   "outputs": [
    {
     "data": {
      "text/plain": [
       "'histori'"
      ]
     },
     "execution_count": 20,
     "metadata": {},
     "output_type": "execute_result"
    }
   ],
   "source": [
    "stemmer.stem(\"history\")"
   ]
  },
  {
   "cell_type": "code",
   "execution_count": 21,
   "id": "521c743a",
   "metadata": {},
   "outputs": [
    {
     "data": {
      "text/plain": [
       "'oragn'"
      ]
     },
     "execution_count": 21,
     "metadata": {},
     "output_type": "execute_result"
    }
   ],
   "source": [
    "stemmer.stem(\"oragnization\")"
   ]
  },
  {
   "cell_type": "code",
   "execution_count": 22,
   "id": "4d0e7941",
   "metadata": {},
   "outputs": [
    {
     "data": {
      "text/plain": [
       "'happi'"
      ]
     },
     "execution_count": 22,
     "metadata": {},
     "output_type": "execute_result"
    }
   ],
   "source": [
    "stemmer.stem(\"happy\")"
   ]
  },
  {
   "cell_type": "code",
   "execution_count": 18,
   "id": "8a5bba23",
   "metadata": {},
   "outputs": [
    {
     "name": "stderr",
     "output_type": "stream",
     "text": [
      "[nltk_data] Downloading package wordnet to\n",
      "[nltk_data]     C:\\Users\\DELL\\AppData\\Roaming\\nltk_data...\n",
      "[nltk_data]   Package wordnet is already up-to-date!\n"
     ]
    },
    {
     "data": {
      "text/plain": [
       "True"
      ]
     },
     "execution_count": 18,
     "metadata": {},
     "output_type": "execute_result"
    }
   ],
   "source": [
    "from nltk.stem import WordNetLemmatizer\n",
    "nltk.download('wordnet')"
   ]
  },
  {
   "cell_type": "code",
   "execution_count": 19,
   "id": "bac87d49",
   "metadata": {},
   "outputs": [],
   "source": [
    "lemmatizer = WordNetLemmatizer()"
   ]
  },
  {
   "cell_type": "code",
   "execution_count": 28,
   "id": "92443292",
   "metadata": {},
   "outputs": [
    {
     "data": {
      "text/plain": [
       "'history'"
      ]
     },
     "execution_count": 28,
     "metadata": {},
     "output_type": "execute_result"
    }
   ],
   "source": [
    "lemmatizer.lemmatize(\"history\")"
   ]
  },
  {
   "cell_type": "code",
   "execution_count": 29,
   "id": "ec7e2309",
   "metadata": {},
   "outputs": [
    {
     "data": {
      "text/plain": [
       "'eating'"
      ]
     },
     "execution_count": 29,
     "metadata": {},
     "output_type": "execute_result"
    }
   ],
   "source": [
    "lemmatizer.lemmatize(\"eating\")"
   ]
  },
  {
   "cell_type": "code",
   "execution_count": 30,
   "id": "bddea9c0",
   "metadata": {},
   "outputs": [
    {
     "data": {
      "text/plain": [
       "'historical'"
      ]
     },
     "execution_count": 30,
     "metadata": {},
     "output_type": "execute_result"
    }
   ],
   "source": [
    "lemmatizer.lemmatize(\"historical\")"
   ]
  },
  {
   "cell_type": "code",
   "execution_count": 31,
   "id": "e0077ee6",
   "metadata": {},
   "outputs": [
    {
     "data": {
      "text/plain": [
       "'happiness'"
      ]
     },
     "execution_count": 31,
     "metadata": {},
     "output_type": "execute_result"
    }
   ],
   "source": [
    "lemmatizer.lemmatize(\"happiness\")"
   ]
  },
  {
   "cell_type": "code",
   "execution_count": 32,
   "id": "9b184312",
   "metadata": {},
   "outputs": [
    {
     "data": {
      "text/plain": [
       "'going'"
      ]
     },
     "execution_count": 32,
     "metadata": {},
     "output_type": "execute_result"
    }
   ],
   "source": [
    "lemmatizer.lemmatize(\"going\")"
   ]
  },
  {
   "cell_type": "code",
   "execution_count": 34,
   "id": "2fd2e4cc",
   "metadata": {},
   "outputs": [
    {
     "data": {
      "text/plain": [
       "['This is the NLP session that is going on and finally we are happy.',\n",
       " 'Is everuone is happy.',\n",
       " 'Ineuron is a company where we teach all the tech']"
      ]
     },
     "execution_count": 34,
     "metadata": {},
     "output_type": "execute_result"
    }
   ],
   "source": [
    "sentences"
   ]
  },
  {
   "cell_type": "code",
   "execution_count": 37,
   "id": "a222605c",
   "metadata": {},
   "outputs": [
    {
     "name": "stdout",
     "output_type": "stream",
     "text": [
      "['thi', 'is', 'the', 'nlp', 'session', 'that', 'is', 'go', 'on', 'and', 'final', 'we', 'are', 'happi', '.']\n",
      "['is', 'everuon', 'is', 'happi', '.']\n",
      "['ineuron', 'is', 'a', 'compani', 'where', 'we', 'teach', 'all', 'the', 'tech']\n"
     ]
    }
   ],
   "source": [
    "corpus = []\n",
    "for i in range(len(sentences)):\n",
    "    words = nltk.word_tokenize(sentences[i])\n",
    "    words = [stemmer.stem(word) for word in words]\n",
    "    print(words)\n",
    "    corpus.append(' '.join(words))"
   ]
  },
  {
   "cell_type": "code",
   "execution_count": 38,
   "id": "b43bca29",
   "metadata": {},
   "outputs": [
    {
     "data": {
      "text/plain": [
       "['thi is the nlp session that is go on and final we are happi .',\n",
       " 'is everuon is happi .',\n",
       " 'ineuron is a compani where we teach all the tech']"
      ]
     },
     "execution_count": 38,
     "metadata": {},
     "output_type": "execute_result"
    }
   ],
   "source": [
    "corpus"
   ]
  },
  {
   "cell_type": "code",
   "execution_count": 39,
   "id": "469ec66f",
   "metadata": {},
   "outputs": [
    {
     "name": "stdout",
     "output_type": "stream",
     "text": [
      "['This', 'is', 'the', 'NLP', 'session', 'that', 'is', 'going', 'on', 'and', 'finally', 'we', 'are', 'happy', '.']\n",
      "['Is', 'everuone', 'is', 'happy', '.']\n",
      "['Ineuron', 'is', 'a', 'company', 'where', 'we', 'teach', 'all', 'the', 'tech']\n"
     ]
    }
   ],
   "source": [
    "corpus = []\n",
    "for i in range(len(sentences)):\n",
    "    words = nltk.word_tokenize(sentences[i])\n",
    "    words = [lemmatizer.lemmatize(word) for word in words]\n",
    "    print(words)\n",
    "    corpus.append(' '.join(words))"
   ]
  },
  {
   "cell_type": "code",
   "execution_count": 10,
   "id": "4449590a",
   "metadata": {},
   "outputs": [],
   "source": [
    "paragraph = \"\"\"\n",
    "Ratan Naval Tata (Ratan Ṭāṭā, born 28 December 1937) is an Indian industrialist, philanthropist, and a former chairman of Tata Sons. He was the chairman of Tata Group, from 1990 to 2012, and again, as interim chairman, from October 2016 through February 2017, and continues to head its charitable trusts.[3][4] He is the recipient of two civilian awards of India, the Padma Vibhushan (2008), the second highest civilian honour, and the Padma Bhushan (2000), the third highest civilian honour.[5]\n",
    "\n",
    "Born in 1937, he is a heir of the Tata family, and son of Naval Tata who was later adopted by Ratanji Tata, son of Jamsetji Tata, the founder of Tata Group. He is an alumnus of the Cornell University College of Architecture and Harvard Business School through the Advanced Management Program that he completed in 1975.[6] He joined his company in 1961 when he used to work on the shop floor of Tata Steel, and was the apparent successor to J. R. D. Tata upon the latter's retirement in 1991. He got Tata Tea to acquire Tetley, Tata Motors to acquire Jaguar Land Rover, and Tata Steel to acquire Corus, in an attempt to turn Tata from a largely India-centrist group into a global business. Around 60-65% of his profits are donated to charity making him one of the most significant philanthropists in the world.\n",
    "\n",
    "\"\"\""
   ]
  },
  {
   "cell_type": "code",
   "execution_count": 11,
   "id": "79137ba8",
   "metadata": {},
   "outputs": [
    {
     "data": {
      "text/plain": [
       "\"\\nRatan Naval Tata (Ratan Ṭāṭā, born 28 December 1937) is an Indian industrialist, philanthropist, and a former chairman of Tata Sons. He was the chairman of Tata Group, from 1990 to 2012, and again, as interim chairman, from October 2016 through February 2017, and continues to head its charitable trusts.[3][4] He is the recipient of two civilian awards of India, the Padma Vibhushan (2008), the second highest civilian honour, and the Padma Bhushan (2000), the third highest civilian honour.[5]\\n\\nBorn in 1937, he is a heir of the Tata family, and son of Naval Tata who was later adopted by Ratanji Tata, son of Jamsetji Tata, the founder of Tata Group. He is an alumnus of the Cornell University College of Architecture and Harvard Business School through the Advanced Management Program that he completed in 1975.[6] He joined his company in 1961 when he used to work on the shop floor of Tata Steel, and was the apparent successor to J. R. D. Tata upon the latter's retirement in 1991. He got Tata Tea to acquire Tetley, Tata Motors to acquire Jaguar Land Rover, and Tata Steel to acquire Corus, in an attempt to turn Tata from a largely India-centrist group into a global business. Around 60-65% of his profits are donated to charity making him one of the most significant philanthropists in the world.\\n\\n\""
      ]
     },
     "execution_count": 11,
     "metadata": {},
     "output_type": "execute_result"
    }
   ],
   "source": [
    "paragraph"
   ]
  },
  {
   "cell_type": "code",
   "execution_count": 14,
   "id": "2d666a15",
   "metadata": {},
   "outputs": [],
   "source": [
    "sentences = nltk.sent_tokenize(paragraph)"
   ]
  },
  {
   "cell_type": "code",
   "execution_count": 43,
   "id": "c0404e5e",
   "metadata": {},
   "outputs": [
    {
     "data": {
      "text/plain": [
       "['\\nRatan Naval Tata (Ratan Ṭāṭā, born 28 December 1937) is an Indian industrialist, philanthropist, and a former chairman of Tata Sons.',\n",
       " 'He was the chairman of Tata Group, from 1990 to 2012, and again, as interim chairman, from October 2016 through February 2017, and continues to head its charitable trusts.',\n",
       " '[3][4] He is the recipient of two civilian awards of India, the Padma Vibhushan (2008), the second highest civilian honour, and the Padma Bhushan (2000), the third highest civilian honour.',\n",
       " '[5]\\n\\nBorn in 1937, he is a heir of the Tata family, and son of Naval Tata who was later adopted by Ratanji Tata, son of Jamsetji Tata, the founder of Tata Group.',\n",
       " 'He is an alumnus of the Cornell University College of Architecture and Harvard Business School through the Advanced Management Program that he completed in 1975.',\n",
       " \"[6] He joined his company in 1961 when he used to work on the shop floor of Tata Steel, and was the apparent successor to J. R. D. Tata upon the latter's retirement in 1991.\",\n",
       " 'He got Tata Tea to acquire Tetley, Tata Motors to acquire Jaguar Land Rover, and Tata Steel to acquire Corus, in an attempt to turn Tata from a largely India-centrist group into a global business.',\n",
       " 'Around 60-65% of his profits are donated to charity making him one of the most significant philanthropists in the world.']"
      ]
     },
     "execution_count": 43,
     "metadata": {},
     "output_type": "execute_result"
    }
   ],
   "source": [
    "sentences"
   ]
  },
  {
   "cell_type": "code",
   "execution_count": 44,
   "id": "d1d0ae35",
   "metadata": {},
   "outputs": [
    {
     "name": "stdout",
     "output_type": "stream",
     "text": [
      "['Ratan', 'Naval', 'Tata', '(', 'Ratan', 'Ṭāṭā', ',', 'born', '28', 'December', '1937', ')', 'is', 'an', 'Indian', 'industrialist', ',', 'philanthropist', ',', 'and', 'a', 'former', 'chairman', 'of', 'Tata', 'Sons', '.']\n",
      "['He', 'wa', 'the', 'chairman', 'of', 'Tata', 'Group', ',', 'from', '1990', 'to', '2012', ',', 'and', 'again', ',', 'a', 'interim', 'chairman', ',', 'from', 'October', '2016', 'through', 'February', '2017', ',', 'and', 'continues', 'to', 'head', 'it', 'charitable', 'trust', '.']\n",
      "['[', '3', ']', '[', '4', ']', 'He', 'is', 'the', 'recipient', 'of', 'two', 'civilian', 'award', 'of', 'India', ',', 'the', 'Padma', 'Vibhushan', '(', '2008', ')', ',', 'the', 'second', 'highest', 'civilian', 'honour', ',', 'and', 'the', 'Padma', 'Bhushan', '(', '2000', ')', ',', 'the', 'third', 'highest', 'civilian', 'honour', '.']\n",
      "['[', '5', ']', 'Born', 'in', '1937', ',', 'he', 'is', 'a', 'heir', 'of', 'the', 'Tata', 'family', ',', 'and', 'son', 'of', 'Naval', 'Tata', 'who', 'wa', 'later', 'adopted', 'by', 'Ratanji', 'Tata', ',', 'son', 'of', 'Jamsetji', 'Tata', ',', 'the', 'founder', 'of', 'Tata', 'Group', '.']\n",
      "['He', 'is', 'an', 'alumnus', 'of', 'the', 'Cornell', 'University', 'College', 'of', 'Architecture', 'and', 'Harvard', 'Business', 'School', 'through', 'the', 'Advanced', 'Management', 'Program', 'that', 'he', 'completed', 'in', '1975', '.']\n",
      "['[', '6', ']', 'He', 'joined', 'his', 'company', 'in', '1961', 'when', 'he', 'used', 'to', 'work', 'on', 'the', 'shop', 'floor', 'of', 'Tata', 'Steel', ',', 'and', 'wa', 'the', 'apparent', 'successor', 'to', 'J.', 'R.', 'D.', 'Tata', 'upon', 'the', 'latter', \"'s\", 'retirement', 'in', '1991', '.']\n",
      "['He', 'got', 'Tata', 'Tea', 'to', 'acquire', 'Tetley', ',', 'Tata', 'Motors', 'to', 'acquire', 'Jaguar', 'Land', 'Rover', ',', 'and', 'Tata', 'Steel', 'to', 'acquire', 'Corus', ',', 'in', 'an', 'attempt', 'to', 'turn', 'Tata', 'from', 'a', 'largely', 'India-centrist', 'group', 'into', 'a', 'global', 'business', '.']\n",
      "['Around', '60-65', '%', 'of', 'his', 'profit', 'are', 'donated', 'to', 'charity', 'making', 'him', 'one', 'of', 'the', 'most', 'significant', 'philanthropist', 'in', 'the', 'world', '.']\n"
     ]
    }
   ],
   "source": [
    "corpus = []\n",
    "for i in range(len(sentences)):\n",
    "    words = nltk.word_tokenize(sentences[i])\n",
    "    words = [lemmatizer.lemmatize(word) for word in words]\n",
    "    print(words)\n",
    "    corpus.append(' '.join(words))"
   ]
  },
  {
   "cell_type": "code",
   "execution_count": 45,
   "id": "92db324f",
   "metadata": {},
   "outputs": [
    {
     "data": {
      "text/plain": [
       "['Ratan Naval Tata ( Ratan Ṭāṭā , born 28 December 1937 ) is an Indian industrialist , philanthropist , and a former chairman of Tata Sons .',\n",
       " 'He wa the chairman of Tata Group , from 1990 to 2012 , and again , a interim chairman , from October 2016 through February 2017 , and continues to head it charitable trust .',\n",
       " '[ 3 ] [ 4 ] He is the recipient of two civilian award of India , the Padma Vibhushan ( 2008 ) , the second highest civilian honour , and the Padma Bhushan ( 2000 ) , the third highest civilian honour .',\n",
       " '[ 5 ] Born in 1937 , he is a heir of the Tata family , and son of Naval Tata who wa later adopted by Ratanji Tata , son of Jamsetji Tata , the founder of Tata Group .',\n",
       " 'He is an alumnus of the Cornell University College of Architecture and Harvard Business School through the Advanced Management Program that he completed in 1975 .',\n",
       " \"[ 6 ] He joined his company in 1961 when he used to work on the shop floor of Tata Steel , and wa the apparent successor to J. R. D. Tata upon the latter 's retirement in 1991 .\",\n",
       " 'He got Tata Tea to acquire Tetley , Tata Motors to acquire Jaguar Land Rover , and Tata Steel to acquire Corus , in an attempt to turn Tata from a largely India-centrist group into a global business .',\n",
       " 'Around 60-65 % of his profit are donated to charity making him one of the most significant philanthropist in the world .']"
      ]
     },
     "execution_count": 45,
     "metadata": {},
     "output_type": "execute_result"
    }
   ],
   "source": [
    "corpus"
   ]
  },
  {
   "cell_type": "code",
   "execution_count": 46,
   "id": "0d55b068",
   "metadata": {},
   "outputs": [
    {
     "data": {
      "text/plain": [
       "'wa'"
      ]
     },
     "execution_count": 46,
     "metadata": {},
     "output_type": "execute_result"
    }
   ],
   "source": [
    "lemmatizer.lemmatize(\"was\")"
   ]
  },
  {
   "cell_type": "code",
   "execution_count": 47,
   "id": "befbd109",
   "metadata": {},
   "outputs": [
    {
     "name": "stdout",
     "output_type": "stream",
     "text": [
      "['ratan', 'naval', 'tata', '(', 'ratan', 'ṭāṭā', ',', 'born', '28', 'decemb', '1937', ')', 'is', 'an', 'indian', 'industrialist', ',', 'philanthropist', ',', 'and', 'a', 'former', 'chairman', 'of', 'tata', 'son', '.']\n",
      "['he', 'wa', 'the', 'chairman', 'of', 'tata', 'group', ',', 'from', '1990', 'to', '2012', ',', 'and', 'again', ',', 'as', 'interim', 'chairman', ',', 'from', 'octob', '2016', 'through', 'februari', '2017', ',', 'and', 'continu', 'to', 'head', 'it', 'charit', 'trust', '.']\n",
      "['[', '3', ']', '[', '4', ']', 'he', 'is', 'the', 'recipi', 'of', 'two', 'civilian', 'award', 'of', 'india', ',', 'the', 'padma', 'vibhushan', '(', '2008', ')', ',', 'the', 'second', 'highest', 'civilian', 'honour', ',', 'and', 'the', 'padma', 'bhushan', '(', '2000', ')', ',', 'the', 'third', 'highest', 'civilian', 'honour', '.']\n",
      "['[', '5', ']', 'born', 'in', '1937', ',', 'he', 'is', 'a', 'heir', 'of', 'the', 'tata', 'famili', ',', 'and', 'son', 'of', 'naval', 'tata', 'who', 'wa', 'later', 'adopt', 'by', 'ratanji', 'tata', ',', 'son', 'of', 'jamsetji', 'tata', ',', 'the', 'founder', 'of', 'tata', 'group', '.']\n",
      "['he', 'is', 'an', 'alumnu', 'of', 'the', 'cornel', 'univers', 'colleg', 'of', 'architectur', 'and', 'harvard', 'busi', 'school', 'through', 'the', 'advanc', 'manag', 'program', 'that', 'he', 'complet', 'in', '1975', '.']\n",
      "['[', '6', ']', 'he', 'join', 'hi', 'compani', 'in', '1961', 'when', 'he', 'use', 'to', 'work', 'on', 'the', 'shop', 'floor', 'of', 'tata', 'steel', ',', 'and', 'wa', 'the', 'appar', 'successor', 'to', 'j.', 'r.', 'd.', 'tata', 'upon', 'the', 'latter', \"'s\", 'retir', 'in', '1991', '.']\n",
      "['he', 'got', 'tata', 'tea', 'to', 'acquir', 'tetley', ',', 'tata', 'motor', 'to', 'acquir', 'jaguar', 'land', 'rover', ',', 'and', 'tata', 'steel', 'to', 'acquir', 'coru', ',', 'in', 'an', 'attempt', 'to', 'turn', 'tata', 'from', 'a', 'larg', 'india-centrist', 'group', 'into', 'a', 'global', 'busi', '.']\n",
      "['around', '60-65', '%', 'of', 'hi', 'profit', 'are', 'donat', 'to', 'chariti', 'make', 'him', 'one', 'of', 'the', 'most', 'signific', 'philanthropist', 'in', 'the', 'world', '.']\n"
     ]
    }
   ],
   "source": [
    "corpus = []\n",
    "for i in range(len(sentences)):\n",
    "    words = nltk.word_tokenize(sentences[i])\n",
    "    words = [stemmer.stem(word) for word in words]\n",
    "    print(words)\n",
    "    corpus.append(' '.join(words))"
   ]
  },
  {
   "cell_type": "code",
   "execution_count": 48,
   "id": "96bf95e7",
   "metadata": {},
   "outputs": [
    {
     "data": {
      "text/plain": [
       "['ratan naval tata ( ratan ṭāṭā , born 28 decemb 1937 ) is an indian industrialist , philanthropist , and a former chairman of tata son .',\n",
       " 'he wa the chairman of tata group , from 1990 to 2012 , and again , as interim chairman , from octob 2016 through februari 2017 , and continu to head it charit trust .',\n",
       " '[ 3 ] [ 4 ] he is the recipi of two civilian award of india , the padma vibhushan ( 2008 ) , the second highest civilian honour , and the padma bhushan ( 2000 ) , the third highest civilian honour .',\n",
       " '[ 5 ] born in 1937 , he is a heir of the tata famili , and son of naval tata who wa later adopt by ratanji tata , son of jamsetji tata , the founder of tata group .',\n",
       " 'he is an alumnu of the cornel univers colleg of architectur and harvard busi school through the advanc manag program that he complet in 1975 .',\n",
       " \"[ 6 ] he join hi compani in 1961 when he use to work on the shop floor of tata steel , and wa the appar successor to j. r. d. tata upon the latter 's retir in 1991 .\",\n",
       " 'he got tata tea to acquir tetley , tata motor to acquir jaguar land rover , and tata steel to acquir coru , in an attempt to turn tata from a larg india-centrist group into a global busi .',\n",
       " 'around 60-65 % of hi profit are donat to chariti make him one of the most signific philanthropist in the world .']"
      ]
     },
     "execution_count": 48,
     "metadata": {},
     "output_type": "execute_result"
    }
   ],
   "source": [
    "corpus"
   ]
  },
  {
   "cell_type": "code",
   "execution_count": 49,
   "id": "1e568f04",
   "metadata": {},
   "outputs": [
    {
     "name": "stderr",
     "output_type": "stream",
     "text": [
      "[nltk_data] Downloading package stopwords to\n",
      "[nltk_data]     C:\\Users\\DELL\\AppData\\Roaming\\nltk_data...\n",
      "[nltk_data]   Unzipping corpora\\stopwords.zip.\n"
     ]
    },
    {
     "data": {
      "text/plain": [
       "True"
      ]
     },
     "execution_count": 49,
     "metadata": {},
     "output_type": "execute_result"
    }
   ],
   "source": [
    "nltk.download('stopwords')"
   ]
  },
  {
   "cell_type": "code",
   "execution_count": 21,
   "id": "425cac16",
   "metadata": {},
   "outputs": [
    {
     "data": {
      "text/plain": [
       "['i',\n",
       " 'me',\n",
       " 'my',\n",
       " 'myself',\n",
       " 'we',\n",
       " 'our',\n",
       " 'ours',\n",
       " 'ourselves',\n",
       " 'you',\n",
       " \"you're\",\n",
       " \"you've\",\n",
       " \"you'll\",\n",
       " \"you'd\",\n",
       " 'your',\n",
       " 'yours',\n",
       " 'yourself',\n",
       " 'yourselves',\n",
       " 'he',\n",
       " 'him',\n",
       " 'his',\n",
       " 'himself',\n",
       " 'she',\n",
       " \"she's\",\n",
       " 'her',\n",
       " 'hers',\n",
       " 'herself',\n",
       " 'it',\n",
       " \"it's\",\n",
       " 'its',\n",
       " 'itself',\n",
       " 'they',\n",
       " 'them',\n",
       " 'their',\n",
       " 'theirs',\n",
       " 'themselves',\n",
       " 'what',\n",
       " 'which',\n",
       " 'who',\n",
       " 'whom',\n",
       " 'this',\n",
       " 'that',\n",
       " \"that'll\",\n",
       " 'these',\n",
       " 'those',\n",
       " 'am',\n",
       " 'is',\n",
       " 'are',\n",
       " 'was',\n",
       " 'were',\n",
       " 'be',\n",
       " 'been',\n",
       " 'being',\n",
       " 'have',\n",
       " 'has',\n",
       " 'had',\n",
       " 'having',\n",
       " 'do',\n",
       " 'does',\n",
       " 'did',\n",
       " 'doing',\n",
       " 'a',\n",
       " 'an',\n",
       " 'the',\n",
       " 'and',\n",
       " 'but',\n",
       " 'if',\n",
       " 'or',\n",
       " 'because',\n",
       " 'as',\n",
       " 'until',\n",
       " 'while',\n",
       " 'of',\n",
       " 'at',\n",
       " 'by',\n",
       " 'for',\n",
       " 'with',\n",
       " 'about',\n",
       " 'against',\n",
       " 'between',\n",
       " 'into',\n",
       " 'through',\n",
       " 'during',\n",
       " 'before',\n",
       " 'after',\n",
       " 'above',\n",
       " 'below',\n",
       " 'to',\n",
       " 'from',\n",
       " 'up',\n",
       " 'down',\n",
       " 'in',\n",
       " 'out',\n",
       " 'on',\n",
       " 'off',\n",
       " 'over',\n",
       " 'under',\n",
       " 'again',\n",
       " 'further',\n",
       " 'then',\n",
       " 'once',\n",
       " 'here',\n",
       " 'there',\n",
       " 'when',\n",
       " 'where',\n",
       " 'why',\n",
       " 'how',\n",
       " 'all',\n",
       " 'any',\n",
       " 'both',\n",
       " 'each',\n",
       " 'few',\n",
       " 'more',\n",
       " 'most',\n",
       " 'other',\n",
       " 'some',\n",
       " 'such',\n",
       " 'no',\n",
       " 'nor',\n",
       " 'not',\n",
       " 'only',\n",
       " 'own',\n",
       " 'same',\n",
       " 'so',\n",
       " 'than',\n",
       " 'too',\n",
       " 'very',\n",
       " 's',\n",
       " 't',\n",
       " 'can',\n",
       " 'will',\n",
       " 'just',\n",
       " 'don',\n",
       " \"don't\",\n",
       " 'should',\n",
       " \"should've\",\n",
       " 'now',\n",
       " 'd',\n",
       " 'll',\n",
       " 'm',\n",
       " 'o',\n",
       " 're',\n",
       " 've',\n",
       " 'y',\n",
       " 'ain',\n",
       " 'aren',\n",
       " \"aren't\",\n",
       " 'couldn',\n",
       " \"couldn't\",\n",
       " 'didn',\n",
       " \"didn't\",\n",
       " 'doesn',\n",
       " \"doesn't\",\n",
       " 'hadn',\n",
       " \"hadn't\",\n",
       " 'hasn',\n",
       " \"hasn't\",\n",
       " 'haven',\n",
       " \"haven't\",\n",
       " 'isn',\n",
       " \"isn't\",\n",
       " 'ma',\n",
       " 'mightn',\n",
       " \"mightn't\",\n",
       " 'mustn',\n",
       " \"mustn't\",\n",
       " 'needn',\n",
       " \"needn't\",\n",
       " 'shan',\n",
       " \"shan't\",\n",
       " 'shouldn',\n",
       " \"shouldn't\",\n",
       " 'wasn',\n",
       " \"wasn't\",\n",
       " 'weren',\n",
       " \"weren't\",\n",
       " 'won',\n",
       " \"won't\",\n",
       " 'wouldn',\n",
       " \"wouldn't\"]"
      ]
     },
     "execution_count": 21,
     "metadata": {},
     "output_type": "execute_result"
    }
   ],
   "source": [
    "from nltk.corpus import stopwords\n",
    "stopwords.words('english')"
   ]
  },
  {
   "cell_type": "code",
   "execution_count": 22,
   "id": "315f1153",
   "metadata": {},
   "outputs": [],
   "source": [
    "stop_words = stopwords.words('english')"
   ]
  },
  {
   "cell_type": "code",
   "execution_count": 55,
   "id": "d93023e1",
   "metadata": {},
   "outputs": [
    {
     "name": "stdout",
     "output_type": "stream",
     "text": [
      "change\n",
      "change\n",
      "changing\n",
      "changer\n",
      "changeable\n"
     ]
    }
   ],
   "source": [
    "for i in [\"changes\", \"change\", \"changing\", \"changer\",\"changeable\"]:\n",
    "    print(lemmatizer.lemmatize(i))"
   ]
  },
  {
   "cell_type": "code",
   "execution_count": 56,
   "id": "862f36fa",
   "metadata": {},
   "outputs": [
    {
     "data": {
      "text/plain": [
       "['ratan naval tata ( ratan ṭāṭā , born 28 decemb 1937 ) is an indian industrialist , philanthropist , and a former chairman of tata son .',\n",
       " 'he wa the chairman of tata group , from 1990 to 2012 , and again , as interim chairman , from octob 2016 through februari 2017 , and continu to head it charit trust .',\n",
       " '[ 3 ] [ 4 ] he is the recipi of two civilian award of india , the padma vibhushan ( 2008 ) , the second highest civilian honour , and the padma bhushan ( 2000 ) , the third highest civilian honour .',\n",
       " '[ 5 ] born in 1937 , he is a heir of the tata famili , and son of naval tata who wa later adopt by ratanji tata , son of jamsetji tata , the founder of tata group .',\n",
       " 'he is an alumnu of the cornel univers colleg of architectur and harvard busi school through the advanc manag program that he complet in 1975 .',\n",
       " \"[ 6 ] he join hi compani in 1961 when he use to work on the shop floor of tata steel , and wa the appar successor to j. r. d. tata upon the latter 's retir in 1991 .\",\n",
       " 'he got tata tea to acquir tetley , tata motor to acquir jaguar land rover , and tata steel to acquir coru , in an attempt to turn tata from a larg india-centrist group into a global busi .',\n",
       " 'around 60-65 % of hi profit are donat to chariti make him one of the most signific philanthropist in the world .']"
      ]
     },
     "execution_count": 56,
     "metadata": {},
     "output_type": "execute_result"
    }
   ],
   "source": [
    "corpus"
   ]
  },
  {
   "cell_type": "code",
   "execution_count": 59,
   "id": "b5607783",
   "metadata": {},
   "outputs": [
    {
     "name": "stdout",
     "output_type": "stream",
     "text": [
      "['ratan', 'naval', 'tata', '(', 'ratan', 'ṭāṭā', ',', 'born', '28', 'decemb', '1937', ')', 'indian', 'industrialist', ',', 'philanthropist', ',', 'former', 'chairman', 'tata', 'son', '.']\n",
      "['chairman', 'tata', 'group', ',', '1990', '2012', ',', ',', 'interim', 'chairman', ',', 'octob', '2016', 'februari', '2017', ',', 'continu', 'head', 'charit', 'trust', '.']\n",
      "['[', '3', ']', '[', '4', ']', 'recipi', 'two', 'civilian', 'award', 'india', ',', 'padma', 'vibhushan', '(', '2008', ')', ',', 'second', 'highest', 'civilian', 'honour', ',', 'padma', 'bhushan', '(', '2000', ')', ',', 'third', 'highest', 'civilian', 'honour', '.']\n",
      "['[', '5', ']', 'born', '1937', ',', 'heir', 'tata', 'famili', ',', 'son', 'naval', 'tata', 'later', 'adopt', 'ratanji', 'tata', ',', 'son', 'jamsetji', 'tata', ',', 'founder', 'tata', 'group', '.']\n",
      "['alumnu', 'cornel', 'univers', 'colleg', 'architectur', 'harvard', 'busi', 'school', 'advanc', 'manag', 'program', 'complet', '1975', '.']\n",
      "['[', '6', ']', 'join', 'compani', '1961', 'use', 'work', 'shop', 'floor', 'tata', 'steel', ',', 'appar', 'successor', 'j.', 'r.', 'd.', 'tata', 'upon', 'latter', \"'s\", 'retir', '1991', '.']\n",
      "['got', 'tata', 'tea', 'acquir', 'tetley', ',', 'tata', 'motor', 'acquir', 'jaguar', 'land', 'rover', ',', 'tata', 'steel', 'acquir', 'coru', ',', 'attempt', 'turn', 'tata', 'larg', 'india-centrist', 'group', 'global', 'busi', '.']\n",
      "['around', '60-65', '%', 'profit', 'donat', 'chariti', 'make', 'one', 'signific', 'philanthropist', 'world', '.']\n"
     ]
    }
   ],
   "source": [
    "corpus = []\n",
    "for i in range(len(sentences)):\n",
    "    words = nltk.word_tokenize(sentences[i].lower())\n",
    "    words = [stemmer.stem(word) for word in words if not word in stop_words]\n",
    "    print(words)\n",
    "    corpus.append(' '.join(words))"
   ]
  },
  {
   "cell_type": "code",
   "execution_count": 60,
   "id": "b10f325d",
   "metadata": {},
   "outputs": [
    {
     "data": {
      "text/plain": [
       "['ratan naval tata ( ratan ṭāṭā , born 28 decemb 1937 ) indian industrialist , philanthropist , former chairman tata son .',\n",
       " 'chairman tata group , 1990 2012 , , interim chairman , octob 2016 februari 2017 , continu head charit trust .',\n",
       " '[ 3 ] [ 4 ] recipi two civilian award india , padma vibhushan ( 2008 ) , second highest civilian honour , padma bhushan ( 2000 ) , third highest civilian honour .',\n",
       " '[ 5 ] born 1937 , heir tata famili , son naval tata later adopt ratanji tata , son jamsetji tata , founder tata group .',\n",
       " 'alumnu cornel univers colleg architectur harvard busi school advanc manag program complet 1975 .',\n",
       " \"[ 6 ] join compani 1961 use work shop floor tata steel , appar successor j. r. d. tata upon latter 's retir 1991 .\",\n",
       " 'got tata tea acquir tetley , tata motor acquir jaguar land rover , tata steel acquir coru , attempt turn tata larg india-centrist group global busi .',\n",
       " 'around 60-65 % profit donat chariti make one signific philanthropist world .']"
      ]
     },
     "execution_count": 60,
     "metadata": {},
     "output_type": "execute_result"
    }
   ],
   "source": [
    "corpus"
   ]
  },
  {
   "cell_type": "code",
   "execution_count": 61,
   "id": "9b3e5fe1",
   "metadata": {},
   "outputs": [],
   "source": [
    "paragraph = \"\"\"\n",
    "Droupadi Murmu (née Tudu, born 20 June 1958) is an Indian politician serving as the 15th and current President of India since 25 July 2022. She is a member of the Bharatiya Janata Party (BJP).[1] She is the first person belonging to the, Tribal community to be elected as the President of India.[2] Murmu is only the second woman after Pratibha Patil to serve as the President of India. She is the first person from Odisha to hold this post and country's youngest president and the first to be born after India's independence.[3] Prior to her presidency she served as the ninth Governor of Jharkhand between 2015 and 2021, and held various portfolios in the cabinet of Government of Odisha between 2000 to 2004.[4]\n",
    "\n",
    "In June 2022, the BJP nominated Murmu as the National Democratic Alliance (NDA)'s presidential candidate for the 2022 election.[5] Before entering politics, she worked as a junior assistant in the State Irrigation and Power Department from 1979 to 1983, and then as a teacher at Sri Aurobindo Integral Education Centre at Rairangpur until 1997\n",
    "\n",
    "\n",
    "\"\"\""
   ]
  },
  {
   "cell_type": "code",
   "execution_count": 62,
   "id": "74c9a726",
   "metadata": {},
   "outputs": [],
   "source": [
    "sentences = nltk.sent_tokenize(paragraph)"
   ]
  },
  {
   "cell_type": "code",
   "execution_count": 63,
   "id": "ab31e1d4",
   "metadata": {},
   "outputs": [
    {
     "data": {
      "text/plain": [
       "['\\nDroupadi Murmu (née Tudu, born 20 June 1958) is an Indian politician serving as the 15th and current President of India since 25 July 2022.',\n",
       " 'She is a member of the Bharatiya Janata Party (BJP).',\n",
       " '[1] She is the first person belonging to the, Tribal community to be elected as the President of India.',\n",
       " '[2] Murmu is only the second woman after Pratibha Patil to serve as the President of India.',\n",
       " \"She is the first person from Odisha to hold this post and country's youngest president and the first to be born after India's independence.\",\n",
       " '[3] Prior to her presidency she served as the ninth Governor of Jharkhand between 2015 and 2021, and held various portfolios in the cabinet of Government of Odisha between 2000 to 2004.',\n",
       " \"[4]\\n\\nIn June 2022, the BJP nominated Murmu as the National Democratic Alliance (NDA)'s presidential candidate for the 2022 election.\",\n",
       " '[5] Before entering politics, she worked as a junior assistant in the State Irrigation and Power Department from 1979 to 1983, and then as a teacher at Sri Aurobindo Integral Education Centre at Rairangpur until 1997']"
      ]
     },
     "execution_count": 63,
     "metadata": {},
     "output_type": "execute_result"
    }
   ],
   "source": [
    "sentences\n"
   ]
  },
  {
   "cell_type": "code",
   "execution_count": 64,
   "id": "dd4f3b70",
   "metadata": {},
   "outputs": [
    {
     "name": "stdout",
     "output_type": "stream",
     "text": [
      "['Droupadi', 'Murmu', '(', 'née', 'Tudu', ',', 'born', '20', 'June', '1958', ')', 'is', 'an', 'Indian', 'politician', 'serving', 'a', 'the', '15th', 'and', 'current', 'President', 'of', 'India', 'since', '25', 'July', '2022', '.']\n",
      "['She', 'is', 'a', 'member', 'of', 'the', 'Bharatiya', 'Janata', 'Party', '(', 'BJP', ')', '.']\n",
      "['[', '1', ']', 'She', 'is', 'the', 'first', 'person', 'belonging', 'to', 'the', ',', 'Tribal', 'community', 'to', 'be', 'elected', 'a', 'the', 'President', 'of', 'India', '.']\n",
      "['[', '2', ']', 'Murmu', 'is', 'only', 'the', 'second', 'woman', 'after', 'Pratibha', 'Patil', 'to', 'serve', 'a', 'the', 'President', 'of', 'India', '.']\n",
      "['She', 'is', 'the', 'first', 'person', 'from', 'Odisha', 'to', 'hold', 'this', 'post', 'and', 'country', \"'s\", 'youngest', 'president', 'and', 'the', 'first', 'to', 'be', 'born', 'after', 'India', \"'s\", 'independence', '.']\n",
      "['[', '3', ']', 'Prior', 'to', 'her', 'presidency', 'she', 'served', 'a', 'the', 'ninth', 'Governor', 'of', 'Jharkhand', 'between', '2015', 'and', '2021', ',', 'and', 'held', 'various', 'portfolio', 'in', 'the', 'cabinet', 'of', 'Government', 'of', 'Odisha', 'between', '2000', 'to', '2004', '.']\n",
      "['[', '4', ']', 'In', 'June', '2022', ',', 'the', 'BJP', 'nominated', 'Murmu', 'a', 'the', 'National', 'Democratic', 'Alliance', '(', 'NDA', ')', \"'s\", 'presidential', 'candidate', 'for', 'the', '2022', 'election', '.']\n",
      "['[', '5', ']', 'Before', 'entering', 'politics', ',', 'she', 'worked', 'a', 'a', 'junior', 'assistant', 'in', 'the', 'State', 'Irrigation', 'and', 'Power', 'Department', 'from', '1979', 'to', '1983', ',', 'and', 'then', 'a', 'a', 'teacher', 'at', 'Sri', 'Aurobindo', 'Integral', 'Education', 'Centre', 'at', 'Rairangpur', 'until', '1997']\n"
     ]
    }
   ],
   "source": [
    "corpus = []\n",
    "for i in range(len(sentences)):\n",
    "    words = nltk.word_tokenize(sentences[i])\n",
    "    words = [lemmatizer.lemmatize(word) for word in words]\n",
    "    print(words)\n",
    "    corpus.append(' '.join(words))"
   ]
  },
  {
   "cell_type": "code",
   "execution_count": 65,
   "id": "b39aee7a",
   "metadata": {},
   "outputs": [
    {
     "name": "stdout",
     "output_type": "stream",
     "text": [
      "['droupadi', 'murmu', '(', 'née', 'tudu', ',', 'born', '20', 'june', '1958', ')', 'is', 'an', 'indian', 'politician', 'serv', 'as', 'the', '15th', 'and', 'current', 'presid', 'of', 'india', 'sinc', '25', 'juli', '2022', '.']\n",
      "['she', 'is', 'a', 'member', 'of', 'the', 'bharatiya', 'janata', 'parti', '(', 'bjp', ')', '.']\n",
      "['[', '1', ']', 'she', 'is', 'the', 'first', 'person', 'belong', 'to', 'the', ',', 'tribal', 'commun', 'to', 'be', 'elect', 'as', 'the', 'presid', 'of', 'india', '.']\n",
      "['[', '2', ']', 'murmu', 'is', 'onli', 'the', 'second', 'woman', 'after', 'pratibha', 'patil', 'to', 'serv', 'as', 'the', 'presid', 'of', 'india', '.']\n",
      "['she', 'is', 'the', 'first', 'person', 'from', 'odisha', 'to', 'hold', 'thi', 'post', 'and', 'countri', \"'s\", 'youngest', 'presid', 'and', 'the', 'first', 'to', 'be', 'born', 'after', 'india', \"'s\", 'independ', '.']\n",
      "['[', '3', ']', 'prior', 'to', 'her', 'presid', 'she', 'serv', 'as', 'the', 'ninth', 'governor', 'of', 'jharkhand', 'between', '2015', 'and', '2021', ',', 'and', 'held', 'variou', 'portfolio', 'in', 'the', 'cabinet', 'of', 'govern', 'of', 'odisha', 'between', '2000', 'to', '2004', '.']\n",
      "['[', '4', ']', 'in', 'june', '2022', ',', 'the', 'bjp', 'nomin', 'murmu', 'as', 'the', 'nation', 'democrat', 'allianc', '(', 'nda', ')', \"'s\", 'presidenti', 'candid', 'for', 'the', '2022', 'elect', '.']\n",
      "['[', '5', ']', 'befor', 'enter', 'polit', ',', 'she', 'work', 'as', 'a', 'junior', 'assist', 'in', 'the', 'state', 'irrig', 'and', 'power', 'depart', 'from', '1979', 'to', '1983', ',', 'and', 'then', 'as', 'a', 'teacher', 'at', 'sri', 'aurobindo', 'integr', 'educ', 'centr', 'at', 'rairangpur', 'until', '1997']\n"
     ]
    }
   ],
   "source": [
    "corpus = []\n",
    "for i in range(len(sentences)):\n",
    "    words = nltk.word_tokenize(sentences[i])\n",
    "    words = [stemmer.stem(word) for word in words]\n",
    "    print(words)\n",
    "    corpus.append(' '.join(words))"
   ]
  },
  {
   "cell_type": "code",
   "execution_count": 66,
   "id": "df67ba99",
   "metadata": {},
   "outputs": [
    {
     "name": "stdout",
     "output_type": "stream",
     "text": [
      "['droupadi', 'murmu', '(', 'née', 'tudu', ',', 'born', '20', 'june', '1958', ')', 'indian', 'politician', 'serving', '15th', 'current', 'president', 'india', 'since', '25', 'july', '2022', '.']\n",
      "['member', 'bharatiya', 'janata', 'party', '(', 'bjp', ')', '.']\n",
      "['[', '1', ']', 'first', 'person', 'belonging', ',', 'tribal', 'community', 'elected', 'president', 'india', '.']\n",
      "['[', '2', ']', 'murmu', 'second', 'woman', 'pratibha', 'patil', 'serve', 'president', 'india', '.']\n",
      "['first', 'person', 'odisha', 'hold', 'post', 'country', \"'s\", 'youngest', 'president', 'first', 'born', 'india', \"'s\", 'independence', '.']\n",
      "['[', '3', ']', 'prior', 'presidency', 'served', 'ninth', 'governor', 'jharkhand', '2015', '2021', ',', 'held', 'various', 'portfolio', 'cabinet', 'government', 'odisha', '2000', '2004', '.']\n",
      "['[', '4', ']', 'june', '2022', ',', 'bjp', 'nominated', 'murmu', 'national', 'democratic', 'alliance', '(', 'nda', ')', \"'s\", 'presidential', 'candidate', '2022', 'election', '.']\n",
      "['[', '5', ']', 'entering', 'politics', ',', 'worked', 'junior', 'assistant', 'state', 'irrigation', 'power', 'department', '1979', '1983', ',', 'teacher', 'sri', 'aurobindo', 'integral', 'education', 'centre', 'rairangpur', '1997']\n"
     ]
    }
   ],
   "source": [
    "corpus = []\n",
    "for i in range(len(sentences)):\n",
    "    words = nltk.word_tokenize(sentences[i].lower())\n",
    "    words = [lemmatizer.lemmatize(word) for word in words if not word in stop_words]\n",
    "    print(words)\n",
    "    corpus.append(' '.join(words))"
   ]
  },
  {
   "cell_type": "code",
   "execution_count": 67,
   "id": "e6d89065",
   "metadata": {},
   "outputs": [
    {
     "data": {
      "text/plain": [
       "['droupadi murmu ( née tudu , born 20 june 1958 ) indian politician serving 15th current president india since 25 july 2022 .',\n",
       " 'member bharatiya janata party ( bjp ) .',\n",
       " '[ 1 ] first person belonging , tribal community elected president india .',\n",
       " '[ 2 ] murmu second woman pratibha patil serve president india .',\n",
       " \"first person odisha hold post country 's youngest president first born india 's independence .\",\n",
       " '[ 3 ] prior presidency served ninth governor jharkhand 2015 2021 , held various portfolio cabinet government odisha 2000 2004 .',\n",
       " \"[ 4 ] june 2022 , bjp nominated murmu national democratic alliance ( nda ) 's presidential candidate 2022 election .\",\n",
       " '[ 5 ] entering politics , worked junior assistant state irrigation power department 1979 1983 , teacher sri aurobindo integral education centre rairangpur 1997']"
      ]
     },
     "execution_count": 67,
     "metadata": {},
     "output_type": "execute_result"
    }
   ],
   "source": [
    "corpus"
   ]
  },
  {
   "cell_type": "code",
   "execution_count": 7,
   "id": "20ab1d19",
   "metadata": {},
   "outputs": [],
   "source": [
    "from sklearn.feature_extraction.text import CountVectorizer"
   ]
  },
  {
   "cell_type": "code",
   "execution_count": 15,
   "id": "4a1c5093",
   "metadata": {},
   "outputs": [
    {
     "data": {
      "text/plain": [
       "['\\nRatan Naval Tata (Ratan Ṭāṭā, born 28 December 1937) is an Indian industrialist, philanthropist, and a former chairman of Tata Sons.',\n",
       " 'He was the chairman of Tata Group, from 1990 to 2012, and again, as interim chairman, from October 2016 through February 2017, and continues to head its charitable trusts.',\n",
       " '[3][4] He is the recipient of two civilian awards of India, the Padma Vibhushan (2008), the second highest civilian honour, and the Padma Bhushan (2000), the third highest civilian honour.',\n",
       " '[5]\\n\\nBorn in 1937, he is a heir of the Tata family, and son of Naval Tata who was later adopted by Ratanji Tata, son of Jamsetji Tata, the founder of Tata Group.',\n",
       " 'He is an alumnus of the Cornell University College of Architecture and Harvard Business School through the Advanced Management Program that he completed in 1975.',\n",
       " \"[6] He joined his company in 1961 when he used to work on the shop floor of Tata Steel, and was the apparent successor to J. R. D. Tata upon the latter's retirement in 1991.\",\n",
       " 'He got Tata Tea to acquire Tetley, Tata Motors to acquire Jaguar Land Rover, and Tata Steel to acquire Corus, in an attempt to turn Tata from a largely India-centrist group into a global business.',\n",
       " 'Around 60-65% of his profits are donated to charity making him one of the most significant philanthropists in the world.']"
      ]
     },
     "execution_count": 15,
     "metadata": {},
     "output_type": "execute_result"
    }
   ],
   "source": [
    "sentences "
   ]
  },
  {
   "cell_type": "code",
   "execution_count": 23,
   "id": "34db73d1",
   "metadata": {},
   "outputs": [
    {
     "name": "stdout",
     "output_type": "stream",
     "text": [
      "['ratan', 'naval', 'tata', 'ratan', 'born', '28', 'decemb', '1937', 'indian', 'industrialist', 'philanthropist', 'former', 'chairman', 'tata', 'son']\n",
      "['chairman', 'tata', 'group', '1990', '2012', 'interim', 'chairman', 'octob', '2016', 'februari', '2017', 'continu', 'head', 'charit', 'trust']\n",
      "['3', '4', 'recipi', 'two', 'civilian', 'award', 'india', 'padma', 'vibhushan', '2008', 'second', 'highest', 'civilian', 'honour', 'padma', 'bhushan', '2000', 'third', 'highest', 'civilian', 'honour']\n",
      "['5', 'born', '1937', 'heir', 'tata', 'famili', 'son', 'naval', 'tata', 'later', 'adopt', 'ratanji', 'tata', 'son', 'jamsetji', 'tata', 'founder', 'tata', 'group']\n",
      "['alumnu', 'cornel', 'univers', 'colleg', 'architectur', 'harvard', 'busi', 'school', 'advanc', 'manag', 'program', 'complet', '1975']\n",
      "['6', 'join', 'compani', '1961', 'use', 'work', 'shop', 'floor', 'tata', 'steel', 'appar', 'successor', 'j', 'r', 'tata', 'upon', 'latter', 'retir', '1991']\n",
      "['got', 'tata', 'tea', 'acquir', 'tetley', 'tata', 'motor', 'acquir', 'jaguar', 'land', 'rover', 'tata', 'steel', 'acquir', 'coru', 'attempt', 'turn', 'tata', 'larg', 'india', 'centrist', 'group', 'global', 'busi']\n",
      "['around', '60', '65', 'profit', 'donat', 'chariti', 'make', 'one', 'signific', 'philanthropist', 'world']\n"
     ]
    }
   ],
   "source": [
    "import re\n",
    "corpus = []\n",
    "for i in range(len(sentences)):\n",
    "    text = re.sub('[^a-zA-Z0-9]',' ',sentences[i])\n",
    "    text =  text.lower()\n",
    "    words = text.split()\n",
    "    words = [stemmer.stem(word) for word in words if not word in stop_words]\n",
    "    print(words)\n",
    "    corpus.append(' '.join(words))"
   ]
  },
  {
   "cell_type": "code",
   "execution_count": 24,
   "id": "2aeea8e8",
   "metadata": {},
   "outputs": [
    {
     "data": {
      "text/plain": [
       "['ratan naval tata ratan born 28 decemb 1937 indian industrialist philanthropist former chairman tata son',\n",
       " 'chairman tata group 1990 2012 interim chairman octob 2016 februari 2017 continu head charit trust',\n",
       " '3 4 recipi two civilian award india padma vibhushan 2008 second highest civilian honour padma bhushan 2000 third highest civilian honour',\n",
       " '5 born 1937 heir tata famili son naval tata later adopt ratanji tata son jamsetji tata founder tata group',\n",
       " 'alumnu cornel univers colleg architectur harvard busi school advanc manag program complet 1975',\n",
       " '6 join compani 1961 use work shop floor tata steel appar successor j r tata upon latter retir 1991',\n",
       " 'got tata tea acquir tetley tata motor acquir jaguar land rover tata steel acquir coru attempt turn tata larg india centrist group global busi',\n",
       " 'around 60 65 profit donat chariti make one signific philanthropist world']"
      ]
     },
     "execution_count": 24,
     "metadata": {},
     "output_type": "execute_result"
    }
   ],
   "source": [
    "corpus"
   ]
  },
  {
   "cell_type": "code",
   "execution_count": 25,
   "id": "b171e038",
   "metadata": {},
   "outputs": [],
   "source": [
    "from sklearn.feature_extraction.text import CountVectorizer\n",
    "cv = CountVectorizer()"
   ]
  },
  {
   "cell_type": "code",
   "execution_count": 26,
   "id": "38382e4f",
   "metadata": {},
   "outputs": [
    {
     "data": {
      "text/plain": [
       "<8x97 sparse matrix of type '<class 'numpy.int64'>'\n",
       "\twith 112 stored elements in Compressed Sparse Row format>"
      ]
     },
     "execution_count": 26,
     "metadata": {},
     "output_type": "execute_result"
    }
   ],
   "source": [
    "#applied BOW\n",
    "cv.fit_transform(corpus)"
   ]
  },
  {
   "cell_type": "code",
   "execution_count": 28,
   "id": "eafd0294",
   "metadata": {},
   "outputs": [
    {
     "data": {
      "text/plain": [
       "array([[1, 0, 0, 0, 0, 0, 0, 0, 0, 0, 1, 0, 0, 0, 0, 0, 0, 0, 0, 0, 0, 0,\n",
       "        0, 1, 0, 0, 1, 0, 0, 0, 0, 0, 0, 0, 0, 0, 1, 0, 0, 0, 0, 1, 0, 0,\n",
       "        0, 0, 0, 0, 0, 0, 0, 0, 1, 1, 0, 0, 0, 0, 0, 0, 0, 0, 0, 0, 0, 1,\n",
       "        0, 0, 0, 1, 0, 0, 2, 0, 0, 0, 0, 0, 0, 0, 0, 1, 0, 0, 2, 0, 0, 0,\n",
       "        0, 0, 0, 0, 0, 0, 0, 0, 0],\n",
       "       [0, 0, 0, 1, 0, 0, 0, 1, 1, 1, 0, 0, 0, 0, 0, 0, 0, 0, 0, 0, 0, 0,\n",
       "        0, 0, 0, 0, 2, 1, 0, 0, 0, 0, 0, 1, 0, 0, 0, 0, 0, 1, 0, 0, 0, 0,\n",
       "        0, 1, 0, 1, 0, 0, 0, 0, 0, 0, 1, 0, 0, 0, 0, 0, 0, 0, 0, 0, 0, 0,\n",
       "        1, 0, 0, 0, 0, 0, 0, 0, 0, 0, 0, 0, 0, 0, 0, 0, 0, 0, 1, 0, 0, 0,\n",
       "        1, 0, 0, 0, 0, 0, 0, 0, 0],\n",
       "       [0, 0, 0, 0, 0, 1, 1, 0, 0, 0, 0, 0, 0, 0, 0, 0, 0, 0, 0, 0, 0, 1,\n",
       "        1, 0, 0, 0, 0, 0, 0, 3, 0, 0, 0, 0, 0, 0, 0, 0, 0, 0, 0, 0, 0, 0,\n",
       "        0, 0, 0, 0, 0, 2, 2, 1, 0, 0, 0, 0, 0, 0, 0, 0, 0, 0, 0, 0, 0, 0,\n",
       "        0, 0, 2, 0, 0, 0, 0, 0, 1, 0, 0, 0, 1, 0, 0, 0, 0, 0, 0, 0, 0, 1,\n",
       "        0, 0, 1, 0, 0, 0, 1, 0, 0],\n",
       "       [1, 0, 0, 0, 0, 0, 0, 0, 0, 0, 0, 0, 0, 0, 1, 0, 0, 0, 0, 0, 0, 0,\n",
       "        0, 1, 0, 0, 0, 0, 0, 0, 0, 0, 0, 0, 0, 0, 0, 0, 1, 0, 0, 0, 1, 0,\n",
       "        0, 1, 0, 0, 1, 0, 0, 0, 0, 0, 0, 0, 1, 0, 0, 0, 1, 0, 0, 0, 0, 1,\n",
       "        0, 0, 0, 0, 0, 0, 0, 1, 0, 0, 0, 0, 0, 0, 0, 2, 0, 0, 5, 0, 0, 0,\n",
       "        0, 0, 0, 0, 0, 0, 0, 0, 0],\n",
       "       [0, 0, 1, 0, 0, 0, 0, 0, 0, 0, 0, 0, 0, 0, 0, 1, 1, 0, 1, 0, 0, 0,\n",
       "        0, 0, 1, 0, 0, 0, 0, 0, 1, 0, 1, 0, 1, 0, 0, 0, 0, 0, 0, 0, 0, 0,\n",
       "        0, 0, 1, 0, 0, 0, 0, 0, 0, 0, 0, 0, 0, 0, 0, 0, 0, 0, 0, 1, 0, 0,\n",
       "        0, 0, 0, 0, 0, 1, 0, 0, 0, 0, 0, 1, 0, 0, 0, 0, 0, 0, 0, 0, 0, 0,\n",
       "        0, 0, 0, 1, 0, 0, 0, 0, 0],\n",
       "       [0, 1, 0, 0, 1, 0, 0, 0, 0, 0, 0, 0, 0, 0, 0, 0, 0, 1, 0, 0, 0, 0,\n",
       "        0, 0, 0, 0, 0, 0, 0, 0, 0, 1, 0, 0, 0, 0, 0, 0, 0, 0, 1, 0, 0, 0,\n",
       "        0, 0, 0, 0, 0, 0, 0, 0, 0, 0, 0, 0, 0, 1, 0, 0, 0, 1, 0, 0, 0, 0,\n",
       "        0, 0, 0, 0, 0, 0, 0, 0, 0, 1, 0, 0, 0, 1, 0, 0, 1, 1, 2, 0, 0, 0,\n",
       "        0, 0, 0, 0, 1, 1, 0, 1, 0],\n",
       "       [0, 0, 0, 0, 0, 0, 0, 0, 0, 0, 0, 0, 0, 3, 0, 0, 0, 0, 0, 0, 1, 0,\n",
       "        0, 0, 1, 1, 0, 0, 0, 0, 0, 0, 0, 0, 0, 1, 0, 0, 0, 0, 0, 0, 0, 1,\n",
       "        1, 1, 0, 0, 0, 0, 0, 1, 0, 0, 0, 1, 0, 0, 1, 1, 0, 0, 0, 0, 1, 0,\n",
       "        0, 0, 0, 0, 0, 0, 0, 0, 0, 0, 1, 0, 0, 0, 0, 0, 1, 0, 4, 1, 1, 0,\n",
       "        0, 1, 0, 0, 0, 0, 0, 0, 0],\n",
       "       [0, 0, 0, 0, 0, 0, 0, 0, 0, 0, 0, 1, 1, 0, 0, 0, 0, 0, 0, 1, 0, 0,\n",
       "        0, 0, 0, 0, 0, 0, 1, 0, 0, 0, 0, 0, 0, 0, 0, 1, 0, 0, 0, 0, 0, 0,\n",
       "        0, 0, 0, 0, 0, 0, 0, 0, 0, 0, 0, 0, 0, 0, 0, 0, 0, 0, 1, 0, 0, 0,\n",
       "        0, 1, 0, 1, 1, 0, 0, 0, 0, 0, 0, 0, 0, 0, 1, 0, 0, 0, 0, 0, 0, 0,\n",
       "        0, 0, 0, 0, 0, 0, 0, 0, 1]], dtype=int64)"
      ]
     },
     "execution_count": 28,
     "metadata": {},
     "output_type": "execute_result"
    }
   ],
   "source": [
    "cv.fit_transform(corpus).toarray()"
   ]
  },
  {
   "cell_type": "code",
   "execution_count": 29,
   "id": "751a93d1",
   "metadata": {},
   "outputs": [
    {
     "data": {
      "text/plain": [
       "{'ratan': 72,\n",
       " 'naval': 65,\n",
       " 'tata': 84,\n",
       " 'born': 23,\n",
       " '28': 10,\n",
       " 'decemb': 36,\n",
       " '1937': 0,\n",
       " 'indian': 52,\n",
       " 'industrialist': 53,\n",
       " 'philanthropist': 69,\n",
       " 'former': 41,\n",
       " 'chairman': 26,\n",
       " 'son': 81,\n",
       " 'group': 45,\n",
       " '1990': 3,\n",
       " '2012': 7,\n",
       " 'interim': 54,\n",
       " 'octob': 66,\n",
       " '2016': 8,\n",
       " 'februari': 39,\n",
       " '2017': 9,\n",
       " 'continu': 33,\n",
       " 'head': 47,\n",
       " 'charit': 27,\n",
       " 'trust': 88,\n",
       " 'recipi': 74,\n",
       " 'two': 90,\n",
       " 'civilian': 29,\n",
       " 'award': 21,\n",
       " 'india': 51,\n",
       " 'padma': 68,\n",
       " 'vibhushan': 94,\n",
       " '2008': 6,\n",
       " 'second': 78,\n",
       " 'highest': 49,\n",
       " 'honour': 50,\n",
       " 'bhushan': 22,\n",
       " '2000': 5,\n",
       " 'third': 87,\n",
       " 'heir': 48,\n",
       " 'famili': 38,\n",
       " 'later': 60,\n",
       " 'adopt': 14,\n",
       " 'ratanji': 73,\n",
       " 'jamsetji': 56,\n",
       " 'founder': 42,\n",
       " 'alumnu': 16,\n",
       " 'cornel': 34,\n",
       " 'univers': 91,\n",
       " 'colleg': 30,\n",
       " 'architectur': 18,\n",
       " 'harvard': 46,\n",
       " 'busi': 24,\n",
       " 'school': 77,\n",
       " 'advanc': 15,\n",
       " 'manag': 63,\n",
       " 'program': 71,\n",
       " 'complet': 32,\n",
       " '1975': 2,\n",
       " 'join': 57,\n",
       " 'compani': 31,\n",
       " '1961': 1,\n",
       " 'use': 93,\n",
       " 'work': 95,\n",
       " 'shop': 79,\n",
       " 'floor': 40,\n",
       " 'steel': 82,\n",
       " 'appar': 17,\n",
       " 'successor': 83,\n",
       " 'upon': 92,\n",
       " 'latter': 61,\n",
       " 'retir': 75,\n",
       " '1991': 4,\n",
       " 'got': 44,\n",
       " 'tea': 85,\n",
       " 'acquir': 13,\n",
       " 'tetley': 86,\n",
       " 'motor': 64,\n",
       " 'jaguar': 55,\n",
       " 'land': 58,\n",
       " 'rover': 76,\n",
       " 'coru': 35,\n",
       " 'attempt': 20,\n",
       " 'turn': 89,\n",
       " 'larg': 59,\n",
       " 'centrist': 25,\n",
       " 'global': 43,\n",
       " 'around': 19,\n",
       " '60': 11,\n",
       " '65': 12,\n",
       " 'profit': 70,\n",
       " 'donat': 37,\n",
       " 'chariti': 28,\n",
       " 'make': 62,\n",
       " 'one': 67,\n",
       " 'signific': 80,\n",
       " 'world': 96}"
      ]
     },
     "execution_count": 29,
     "metadata": {},
     "output_type": "execute_result"
    }
   ],
   "source": [
    "\n",
    "cv.vocabulary_"
   ]
  },
  {
   "cell_type": "code",
   "execution_count": 30,
   "id": "21b1c922",
   "metadata": {},
   "outputs": [
    {
     "data": {
      "text/plain": [
       "array([[1, 0, 1, ..., 0, 0, 0],\n",
       "       [0, 0, 0, ..., 0, 0, 0],\n",
       "       [0, 0, 0, ..., 0, 0, 0],\n",
       "       ...,\n",
       "       [0, 0, 0, ..., 1, 1, 0],\n",
       "       [0, 0, 0, ..., 0, 0, 0],\n",
       "       [0, 0, 0, ..., 0, 0, 1]], dtype=int64)"
      ]
     },
     "execution_count": 30,
     "metadata": {},
     "output_type": "execute_result"
    }
   ],
   "source": [
    "cv = CountVectorizer(binary=True, ngram_range=(1,2))\n",
    "cv.fit_transform(corpus)\n",
    "cv.fit_transform(corpus).toarray()"
   ]
  },
  {
   "cell_type": "code",
   "execution_count": 32,
   "id": "5da20742",
   "metadata": {},
   "outputs": [
    {
     "data": {
      "text/plain": [
       "(8, 213)"
      ]
     },
     "execution_count": 32,
     "metadata": {},
     "output_type": "execute_result"
    }
   ],
   "source": [
    "cv.fit_transform(corpus).toarray().shape"
   ]
  },
  {
   "cell_type": "code",
   "execution_count": 31,
   "id": "8ea8cf50",
   "metadata": {},
   "outputs": [
    {
     "data": {
      "text/plain": [
       "{'ratan': 152,\n",
       " 'naval': 136,\n",
       " 'tata': 179,\n",
       " 'born': 47,\n",
       " '28': 19,\n",
       " 'decemb': 76,\n",
       " '1937': 0,\n",
       " 'indian': 110,\n",
       " 'industrialist': 112,\n",
       " 'philanthropist': 145,\n",
       " 'former': 86,\n",
       " 'chairman': 54,\n",
       " 'son': 171,\n",
       " 'ratan naval': 154,\n",
       " 'naval tata': 137,\n",
       " 'tata ratan': 186,\n",
       " 'ratan born': 153,\n",
       " 'born 28': 49,\n",
       " '28 decemb': 20,\n",
       " 'decemb 1937': 77,\n",
       " '1937 indian': 2,\n",
       " 'indian industrialist': 111,\n",
       " 'industrialist philanthropist': 113,\n",
       " 'philanthropist former': 146,\n",
       " 'former chairman': 87,\n",
       " 'chairman tata': 56,\n",
       " 'tata son': 187,\n",
       " 'group': 94,\n",
       " '1990': 6,\n",
       " '2012': 13,\n",
       " 'interim': 114,\n",
       " 'octob': 138,\n",
       " '2016': 15,\n",
       " 'februari': 82,\n",
       " '2017': 17,\n",
       " 'continu': 70,\n",
       " 'head': 99,\n",
       " 'charit': 57,\n",
       " 'trust': 197,\n",
       " 'tata group': 182,\n",
       " 'group 1990': 95,\n",
       " '1990 2012': 7,\n",
       " '2012 interim': 14,\n",
       " 'interim chairman': 115,\n",
       " 'chairman octob': 55,\n",
       " 'octob 2016': 139,\n",
       " '2016 februari': 16,\n",
       " 'februari 2017': 83,\n",
       " '2017 continu': 18,\n",
       " 'continu head': 71,\n",
       " 'head charit': 100,\n",
       " 'charit trust': 58,\n",
       " 'recipi': 157,\n",
       " 'two': 200,\n",
       " 'civilian': 61,\n",
       " 'award': 43,\n",
       " 'india': 107,\n",
       " 'padma': 142,\n",
       " 'vibhushan': 208,\n",
       " '2008': 11,\n",
       " 'second': 165,\n",
       " 'highest': 103,\n",
       " 'honour': 105,\n",
       " 'bhushan': 45,\n",
       " '2000': 9,\n",
       " 'third': 195,\n",
       " 'recipi two': 158,\n",
       " 'two civilian': 201,\n",
       " 'civilian award': 62,\n",
       " 'award india': 44,\n",
       " 'india padma': 109,\n",
       " 'padma vibhushan': 144,\n",
       " 'vibhushan 2008': 209,\n",
       " '2008 second': 12,\n",
       " 'second highest': 166,\n",
       " 'highest civilian': 104,\n",
       " 'civilian honour': 63,\n",
       " 'honour padma': 106,\n",
       " 'padma bhushan': 143,\n",
       " 'bhushan 2000': 46,\n",
       " '2000 third': 10,\n",
       " 'third highest': 196,\n",
       " 'heir': 101,\n",
       " 'famili': 80,\n",
       " 'later': 126,\n",
       " 'adopt': 29,\n",
       " 'ratanji': 155,\n",
       " 'jamsetji': 118,\n",
       " 'founder': 88,\n",
       " 'born 1937': 48,\n",
       " '1937 heir': 1,\n",
       " 'heir tata': 102,\n",
       " 'tata famili': 180,\n",
       " 'famili son': 81,\n",
       " 'son naval': 173,\n",
       " 'tata later': 184,\n",
       " 'later adopt': 127,\n",
       " 'adopt ratanji': 30,\n",
       " 'ratanji tata': 156,\n",
       " 'son jamsetji': 172,\n",
       " 'jamsetji tata': 119,\n",
       " 'tata founder': 181,\n",
       " 'founder tata': 89,\n",
       " 'alumnu': 33,\n",
       " 'cornel': 72,\n",
       " 'univers': 202,\n",
       " 'colleg': 64,\n",
       " 'architectur': 37,\n",
       " 'harvard': 97,\n",
       " 'busi': 50,\n",
       " 'school': 163,\n",
       " 'advanc': 31,\n",
       " 'manag': 132,\n",
       " 'program': 150,\n",
       " 'complet': 68,\n",
       " '1975': 5,\n",
       " 'alumnu cornel': 34,\n",
       " 'cornel univers': 73,\n",
       " 'univers colleg': 203,\n",
       " 'colleg architectur': 65,\n",
       " 'architectur harvard': 38,\n",
       " 'harvard busi': 98,\n",
       " 'busi school': 51,\n",
       " 'school advanc': 164,\n",
       " 'advanc manag': 32,\n",
       " 'manag program': 133,\n",
       " 'program complet': 151,\n",
       " 'complet 1975': 69,\n",
       " 'join': 120,\n",
       " 'compani': 66,\n",
       " '1961': 3,\n",
       " 'use': 206,\n",
       " 'work': 210,\n",
       " 'shop': 167,\n",
       " 'floor': 84,\n",
       " 'steel': 174,\n",
       " 'appar': 35,\n",
       " 'successor': 177,\n",
       " 'upon': 204,\n",
       " 'latter': 128,\n",
       " 'retir': 159,\n",
       " '1991': 8,\n",
       " 'join compani': 121,\n",
       " 'compani 1961': 67,\n",
       " '1961 use': 4,\n",
       " 'use work': 207,\n",
       " 'work shop': 211,\n",
       " 'shop floor': 168,\n",
       " 'floor tata': 85,\n",
       " 'tata steel': 188,\n",
       " 'steel appar': 176,\n",
       " 'appar successor': 36,\n",
       " 'successor tata': 178,\n",
       " 'tata upon': 190,\n",
       " 'upon latter': 205,\n",
       " 'latter retir': 129,\n",
       " 'retir 1991': 160,\n",
       " 'got': 92,\n",
       " 'tea': 191,\n",
       " 'acquir': 25,\n",
       " 'tetley': 193,\n",
       " 'motor': 134,\n",
       " 'jaguar': 116,\n",
       " 'land': 122,\n",
       " 'rover': 161,\n",
       " 'coru': 74,\n",
       " 'attempt': 41,\n",
       " 'turn': 198,\n",
       " 'larg': 124,\n",
       " 'centrist': 52,\n",
       " 'global': 90,\n",
       " 'got tata': 93,\n",
       " 'tata tea': 189,\n",
       " 'tea acquir': 192,\n",
       " 'acquir tetley': 28,\n",
       " 'tetley tata': 194,\n",
       " 'tata motor': 185,\n",
       " 'motor acquir': 135,\n",
       " 'acquir jaguar': 27,\n",
       " 'jaguar land': 117,\n",
       " 'land rover': 123,\n",
       " 'rover tata': 162,\n",
       " 'steel acquir': 175,\n",
       " 'acquir coru': 26,\n",
       " 'coru attempt': 75,\n",
       " 'attempt turn': 42,\n",
       " 'turn tata': 199,\n",
       " 'tata larg': 183,\n",
       " 'larg india': 125,\n",
       " 'india centrist': 108,\n",
       " 'centrist group': 53,\n",
       " 'group global': 96,\n",
       " 'global busi': 91,\n",
       " 'around': 39,\n",
       " '60': 21,\n",
       " '65': 23,\n",
       " 'profit': 148,\n",
       " 'donat': 78,\n",
       " 'chariti': 59,\n",
       " 'make': 130,\n",
       " 'one': 140,\n",
       " 'signific': 169,\n",
       " 'world': 212,\n",
       " 'around 60': 40,\n",
       " '60 65': 22,\n",
       " '65 profit': 24,\n",
       " 'profit donat': 149,\n",
       " 'donat chariti': 79,\n",
       " 'chariti make': 60,\n",
       " 'make one': 131,\n",
       " 'one signific': 141,\n",
       " 'signific philanthropist': 170,\n",
       " 'philanthropist world': 147}"
      ]
     },
     "execution_count": 31,
     "metadata": {},
     "output_type": "execute_result"
    }
   ],
   "source": [
    "cv.vocabulary_"
   ]
  },
  {
   "cell_type": "code",
   "execution_count": 33,
   "id": "363269e7",
   "metadata": {},
   "outputs": [],
   "source": [
    "from sklearn.feature_extraction.text import TfidfVectorizer"
   ]
  },
  {
   "cell_type": "code",
   "execution_count": 34,
   "id": "0ffda9dc",
   "metadata": {},
   "outputs": [],
   "source": [
    "tf_idf = TfidfVectorizer()"
   ]
  },
  {
   "cell_type": "code",
   "execution_count": 35,
   "id": "a71aa671",
   "metadata": {},
   "outputs": [
    {
     "data": {
      "text/plain": [
       "array([[0.22028502, 0.        , 0.        , 0.        , 0.        ,\n",
       "        0.        , 0.        , 0.        , 0.        , 0.        ,\n",
       "        0.26284547, 0.        , 0.        , 0.        , 0.        ,\n",
       "        0.        , 0.        , 0.        , 0.        , 0.        ,\n",
       "        0.        , 0.        , 0.        , 0.22028502, 0.        ,\n",
       "        0.        , 0.22028502, 0.        , 0.        , 0.        ,\n",
       "        0.        , 0.        , 0.        , 0.        , 0.        ,\n",
       "        0.        , 0.26284547, 0.        , 0.        , 0.        ,\n",
       "        0.        , 0.26284547, 0.        , 0.        , 0.        ,\n",
       "        0.        , 0.        , 0.        , 0.        , 0.        ,\n",
       "        0.        , 0.        , 0.26284547, 0.26284547, 0.        ,\n",
       "        0.        , 0.        , 0.        , 0.        , 0.        ,\n",
       "        0.        , 0.        , 0.        , 0.        , 0.        ,\n",
       "        0.22028502, 0.        , 0.        , 0.        , 0.22028502,\n",
       "        0.        , 0.        , 0.52569094, 0.        , 0.        ,\n",
       "        0.        , 0.        , 0.        , 0.        , 0.        ,\n",
       "        0.        , 0.22028502, 0.        , 0.        , 0.29505489,\n",
       "        0.        , 0.        , 0.        , 0.        , 0.        ,\n",
       "        0.        , 0.        , 0.        , 0.        , 0.        ,\n",
       "        0.        , 0.        ],\n",
       "       [0.        , 0.        , 0.        , 0.26128699, 0.        ,\n",
       "        0.        , 0.        , 0.26128699, 0.26128699, 0.26128699,\n",
       "        0.        , 0.        , 0.        , 0.        , 0.        ,\n",
       "        0.        , 0.        , 0.        , 0.        , 0.        ,\n",
       "        0.        , 0.        , 0.        , 0.        , 0.        ,\n",
       "        0.        , 0.43795777, 0.26128699, 0.        , 0.        ,\n",
       "        0.        , 0.        , 0.        , 0.26128699, 0.        ,\n",
       "        0.        , 0.        , 0.        , 0.        , 0.26128699,\n",
       "        0.        , 0.        , 0.        , 0.        , 0.        ,\n",
       "        0.18896081, 0.        , 0.26128699, 0.        , 0.        ,\n",
       "        0.        , 0.        , 0.        , 0.        , 0.26128699,\n",
       "        0.        , 0.        , 0.        , 0.        , 0.        ,\n",
       "        0.        , 0.        , 0.        , 0.        , 0.        ,\n",
       "        0.        , 0.26128699, 0.        , 0.        , 0.        ,\n",
       "        0.        , 0.        , 0.        , 0.        , 0.        ,\n",
       "        0.        , 0.        , 0.        , 0.        , 0.        ,\n",
       "        0.        , 0.        , 0.        , 0.        , 0.14665271,\n",
       "        0.        , 0.        , 0.        , 0.26128699, 0.        ,\n",
       "        0.        , 0.        , 0.        , 0.        , 0.        ,\n",
       "        0.        , 0.        ],\n",
       "       [0.        , 0.        , 0.        , 0.        , 0.        ,\n",
       "        0.18047374, 0.18047374, 0.        , 0.        , 0.        ,\n",
       "        0.        , 0.        , 0.        , 0.        , 0.        ,\n",
       "        0.        , 0.        , 0.        , 0.        , 0.        ,\n",
       "        0.        , 0.18047374, 0.18047374, 0.        , 0.        ,\n",
       "        0.        , 0.        , 0.        , 0.        , 0.54142122,\n",
       "        0.        , 0.        , 0.        , 0.        , 0.        ,\n",
       "        0.        , 0.        , 0.        , 0.        , 0.        ,\n",
       "        0.        , 0.        , 0.        , 0.        , 0.        ,\n",
       "        0.        , 0.        , 0.        , 0.        , 0.36094748,\n",
       "        0.36094748, 0.15125108, 0.        , 0.        , 0.        ,\n",
       "        0.        , 0.        , 0.        , 0.        , 0.        ,\n",
       "        0.        , 0.        , 0.        , 0.        , 0.        ,\n",
       "        0.        , 0.        , 0.        , 0.36094748, 0.        ,\n",
       "        0.        , 0.        , 0.        , 0.        , 0.18047374,\n",
       "        0.        , 0.        , 0.        , 0.18047374, 0.        ,\n",
       "        0.        , 0.        , 0.        , 0.        , 0.        ,\n",
       "        0.        , 0.        , 0.18047374, 0.        , 0.        ,\n",
       "        0.18047374, 0.        , 0.        , 0.        , 0.18047374,\n",
       "        0.        , 0.        ],\n",
       "       [0.18594024, 0.        , 0.        , 0.        , 0.        ,\n",
       "        0.        , 0.        , 0.        , 0.        , 0.        ,\n",
       "        0.        , 0.        , 0.        , 0.        , 0.22186506,\n",
       "        0.        , 0.        , 0.        , 0.        , 0.        ,\n",
       "        0.        , 0.        , 0.        , 0.18594024, 0.        ,\n",
       "        0.        , 0.        , 0.        , 0.        , 0.        ,\n",
       "        0.        , 0.        , 0.        , 0.        , 0.        ,\n",
       "        0.        , 0.        , 0.        , 0.22186506, 0.        ,\n",
       "        0.        , 0.        , 0.22186506, 0.        , 0.        ,\n",
       "        0.16045117, 0.        , 0.        , 0.22186506, 0.        ,\n",
       "        0.        , 0.        , 0.        , 0.        , 0.        ,\n",
       "        0.        , 0.22186506, 0.        , 0.        , 0.        ,\n",
       "        0.22186506, 0.        , 0.        , 0.        , 0.        ,\n",
       "        0.18594024, 0.        , 0.        , 0.        , 0.        ,\n",
       "        0.        , 0.        , 0.        , 0.22186506, 0.        ,\n",
       "        0.        , 0.        , 0.        , 0.        , 0.        ,\n",
       "        0.        , 0.37188048, 0.        , 0.        , 0.62263173,\n",
       "        0.        , 0.        , 0.        , 0.        , 0.        ,\n",
       "        0.        , 0.        , 0.        , 0.        , 0.        ,\n",
       "        0.        , 0.        ],\n",
       "       [0.        , 0.        , 0.28058053, 0.        , 0.        ,\n",
       "        0.        , 0.        , 0.        , 0.        , 0.        ,\n",
       "        0.        , 0.        , 0.        , 0.        , 0.        ,\n",
       "        0.28058053, 0.28058053, 0.        , 0.28058053, 0.        ,\n",
       "        0.        , 0.        , 0.        , 0.        , 0.23514839,\n",
       "        0.        , 0.        , 0.        , 0.        , 0.        ,\n",
       "        0.28058053, 0.        , 0.28058053, 0.        , 0.28058053,\n",
       "        0.        , 0.        , 0.        , 0.        , 0.        ,\n",
       "        0.        , 0.        , 0.        , 0.        , 0.        ,\n",
       "        0.        , 0.28058053, 0.        , 0.        , 0.        ,\n",
       "        0.        , 0.        , 0.        , 0.        , 0.        ,\n",
       "        0.        , 0.        , 0.        , 0.        , 0.        ,\n",
       "        0.        , 0.        , 0.        , 0.28058053, 0.        ,\n",
       "        0.        , 0.        , 0.        , 0.        , 0.        ,\n",
       "        0.        , 0.28058053, 0.        , 0.        , 0.        ,\n",
       "        0.        , 0.        , 0.28058053, 0.        , 0.        ,\n",
       "        0.        , 0.        , 0.        , 0.        , 0.        ,\n",
       "        0.        , 0.        , 0.        , 0.        , 0.        ,\n",
       "        0.        , 0.28058053, 0.        , 0.        , 0.        ,\n",
       "        0.        , 0.        ],\n",
       "       [0.        , 0.25852247, 0.        , 0.        , 0.25852247,\n",
       "        0.        , 0.        , 0.        , 0.        , 0.        ,\n",
       "        0.        , 0.        , 0.        , 0.        , 0.        ,\n",
       "        0.        , 0.        , 0.25852247, 0.        , 0.        ,\n",
       "        0.        , 0.        , 0.        , 0.        , 0.        ,\n",
       "        0.        , 0.        , 0.        , 0.        , 0.        ,\n",
       "        0.        , 0.25852247, 0.        , 0.        , 0.        ,\n",
       "        0.        , 0.        , 0.        , 0.        , 0.        ,\n",
       "        0.25852247, 0.        , 0.        , 0.        , 0.        ,\n",
       "        0.        , 0.        , 0.        , 0.        , 0.        ,\n",
       "        0.        , 0.        , 0.        , 0.        , 0.        ,\n",
       "        0.        , 0.        , 0.25852247, 0.        , 0.        ,\n",
       "        0.        , 0.25852247, 0.        , 0.        , 0.        ,\n",
       "        0.        , 0.        , 0.        , 0.        , 0.        ,\n",
       "        0.        , 0.        , 0.        , 0.        , 0.        ,\n",
       "        0.25852247, 0.        , 0.        , 0.        , 0.25852247,\n",
       "        0.        , 0.        , 0.21666201, 0.25852247, 0.29020214,\n",
       "        0.        , 0.        , 0.        , 0.        , 0.        ,\n",
       "        0.        , 0.        , 0.25852247, 0.25852247, 0.        ,\n",
       "        0.25852247, 0.        ],\n",
       "       [0.        , 0.        , 0.        , 0.        , 0.        ,\n",
       "        0.        , 0.        , 0.        , 0.        , 0.        ,\n",
       "        0.        , 0.        , 0.        , 0.55075522, 0.        ,\n",
       "        0.        , 0.        , 0.        , 0.        , 0.        ,\n",
       "        0.18358507, 0.        , 0.        , 0.        , 0.15385862,\n",
       "        0.18358507, 0.        , 0.        , 0.        , 0.        ,\n",
       "        0.        , 0.        , 0.        , 0.        , 0.        ,\n",
       "        0.18358507, 0.        , 0.        , 0.        , 0.        ,\n",
       "        0.        , 0.        , 0.        , 0.18358507, 0.18358507,\n",
       "        0.13276736, 0.        , 0.        , 0.        , 0.        ,\n",
       "        0.        , 0.15385862, 0.        , 0.        , 0.        ,\n",
       "        0.18358507, 0.        , 0.        , 0.18358507, 0.18358507,\n",
       "        0.        , 0.        , 0.        , 0.        , 0.18358507,\n",
       "        0.        , 0.        , 0.        , 0.        , 0.        ,\n",
       "        0.        , 0.        , 0.        , 0.        , 0.        ,\n",
       "        0.        , 0.18358507, 0.        , 0.        , 0.        ,\n",
       "        0.        , 0.        , 0.15385862, 0.        , 0.41216364,\n",
       "        0.18358507, 0.18358507, 0.        , 0.        , 0.18358507,\n",
       "        0.        , 0.        , 0.        , 0.        , 0.        ,\n",
       "        0.        , 0.        ],\n",
       "       [0.        , 0.        , 0.        , 0.        , 0.        ,\n",
       "        0.        , 0.        , 0.        , 0.        , 0.        ,\n",
       "        0.        , 0.305675  , 0.305675  , 0.        , 0.        ,\n",
       "        0.        , 0.        , 0.        , 0.        , 0.305675  ,\n",
       "        0.        , 0.        , 0.        , 0.        , 0.        ,\n",
       "        0.        , 0.        , 0.        , 0.305675  , 0.        ,\n",
       "        0.        , 0.        , 0.        , 0.        , 0.        ,\n",
       "        0.        , 0.        , 0.305675  , 0.        , 0.        ,\n",
       "        0.        , 0.        , 0.        , 0.        , 0.        ,\n",
       "        0.        , 0.        , 0.        , 0.        , 0.        ,\n",
       "        0.        , 0.        , 0.        , 0.        , 0.        ,\n",
       "        0.        , 0.        , 0.        , 0.        , 0.        ,\n",
       "        0.        , 0.        , 0.305675  , 0.        , 0.        ,\n",
       "        0.        , 0.        , 0.305675  , 0.        , 0.25617951,\n",
       "        0.305675  , 0.        , 0.        , 0.        , 0.        ,\n",
       "        0.        , 0.        , 0.        , 0.        , 0.        ,\n",
       "        0.305675  , 0.        , 0.        , 0.        , 0.        ,\n",
       "        0.        , 0.        , 0.        , 0.        , 0.        ,\n",
       "        0.        , 0.        , 0.        , 0.        , 0.        ,\n",
       "        0.        , 0.305675  ]])"
      ]
     },
     "execution_count": 35,
     "metadata": {},
     "output_type": "execute_result"
    }
   ],
   "source": [
    "tf_idf.fit_transform(corpus).toarray()"
   ]
  },
  {
   "cell_type": "code",
   "execution_count": 36,
   "id": "fa9aa303",
   "metadata": {},
   "outputs": [
    {
     "data": {
      "text/plain": [
       "{'ratan': 72,\n",
       " 'naval': 65,\n",
       " 'tata': 84,\n",
       " 'born': 23,\n",
       " '28': 10,\n",
       " 'decemb': 36,\n",
       " '1937': 0,\n",
       " 'indian': 52,\n",
       " 'industrialist': 53,\n",
       " 'philanthropist': 69,\n",
       " 'former': 41,\n",
       " 'chairman': 26,\n",
       " 'son': 81,\n",
       " 'group': 45,\n",
       " '1990': 3,\n",
       " '2012': 7,\n",
       " 'interim': 54,\n",
       " 'octob': 66,\n",
       " '2016': 8,\n",
       " 'februari': 39,\n",
       " '2017': 9,\n",
       " 'continu': 33,\n",
       " 'head': 47,\n",
       " 'charit': 27,\n",
       " 'trust': 88,\n",
       " 'recipi': 74,\n",
       " 'two': 90,\n",
       " 'civilian': 29,\n",
       " 'award': 21,\n",
       " 'india': 51,\n",
       " 'padma': 68,\n",
       " 'vibhushan': 94,\n",
       " '2008': 6,\n",
       " 'second': 78,\n",
       " 'highest': 49,\n",
       " 'honour': 50,\n",
       " 'bhushan': 22,\n",
       " '2000': 5,\n",
       " 'third': 87,\n",
       " 'heir': 48,\n",
       " 'famili': 38,\n",
       " 'later': 60,\n",
       " 'adopt': 14,\n",
       " 'ratanji': 73,\n",
       " 'jamsetji': 56,\n",
       " 'founder': 42,\n",
       " 'alumnu': 16,\n",
       " 'cornel': 34,\n",
       " 'univers': 91,\n",
       " 'colleg': 30,\n",
       " 'architectur': 18,\n",
       " 'harvard': 46,\n",
       " 'busi': 24,\n",
       " 'school': 77,\n",
       " 'advanc': 15,\n",
       " 'manag': 63,\n",
       " 'program': 71,\n",
       " 'complet': 32,\n",
       " '1975': 2,\n",
       " 'join': 57,\n",
       " 'compani': 31,\n",
       " '1961': 1,\n",
       " 'use': 93,\n",
       " 'work': 95,\n",
       " 'shop': 79,\n",
       " 'floor': 40,\n",
       " 'steel': 82,\n",
       " 'appar': 17,\n",
       " 'successor': 83,\n",
       " 'upon': 92,\n",
       " 'latter': 61,\n",
       " 'retir': 75,\n",
       " '1991': 4,\n",
       " 'got': 44,\n",
       " 'tea': 85,\n",
       " 'acquir': 13,\n",
       " 'tetley': 86,\n",
       " 'motor': 64,\n",
       " 'jaguar': 55,\n",
       " 'land': 58,\n",
       " 'rover': 76,\n",
       " 'coru': 35,\n",
       " 'attempt': 20,\n",
       " 'turn': 89,\n",
       " 'larg': 59,\n",
       " 'centrist': 25,\n",
       " 'global': 43,\n",
       " 'around': 19,\n",
       " '60': 11,\n",
       " '65': 12,\n",
       " 'profit': 70,\n",
       " 'donat': 37,\n",
       " 'chariti': 28,\n",
       " 'make': 62,\n",
       " 'one': 67,\n",
       " 'signific': 80,\n",
       " 'world': 96}"
      ]
     },
     "execution_count": 36,
     "metadata": {},
     "output_type": "execute_result"
    }
   ],
   "source": [
    "tf_idf.vocabulary_"
   ]
  },
  {
   "cell_type": "code",
   "execution_count": 39,
   "id": "781ef2fe",
   "metadata": {},
   "outputs": [
    {
     "data": {
      "text/plain": [
       "array([[0, 0, 0, 0, 0, 0, 0, 0, 0, 0, 0, 0, 0, 0, 0, 0, 0, 0, 0, 0, 0, 0,\n",
       "        0, 0, 0, 0, 0, 0, 0, 0, 0, 0, 0, 0, 0, 0, 0, 0, 0, 0, 0, 0, 0, 0,\n",
       "        0, 0, 0, 0, 0, 0, 0, 0, 0, 0, 0, 0, 0, 0, 0, 0, 0, 0, 0, 0, 0, 0,\n",
       "        0, 0, 0, 0, 0, 0, 0, 0, 0, 0, 0, 0, 0, 0, 0, 0, 0, 0, 0, 0, 0, 0,\n",
       "        0, 0, 0, 0, 0, 0, 0, 0, 0, 0, 0, 0, 0, 0, 0, 0, 0, 0, 0, 0, 0, 0,\n",
       "        0, 0, 0, 0, 0, 0, 0, 0, 0, 0, 0, 0, 0, 0, 0, 0, 0, 0, 0, 0, 0, 0,\n",
       "        0, 0, 0, 0, 0, 0, 0, 0, 0, 0, 0, 0, 0, 0, 0, 0, 0, 0, 0, 0, 0, 0,\n",
       "        0, 0, 0, 0, 0, 0, 0, 0, 0, 0, 0, 0, 0, 0, 0, 0, 0, 0, 0, 0, 0, 0,\n",
       "        0, 0, 0, 0, 0, 0, 0, 0, 0, 0, 0, 0, 0, 0, 0, 0, 0, 0, 0, 0, 0, 0,\n",
       "        0, 0, 0, 0, 0, 0, 0, 0, 0, 0, 0, 0, 0, 0, 0]], dtype=int64)"
      ]
     },
     "execution_count": 39,
     "metadata": {},
     "output_type": "execute_result"
    }
   ],
   "source": [
    "#new test data\n",
    "\n",
    "data = [\"I want to have food\"]\n",
    "cv.transform(data).toarray()\n",
    "## getting zeors bcoz out of vocab"
   ]
  },
  {
   "cell_type": "code",
   "execution_count": 40,
   "id": "dfaeb140",
   "metadata": {},
   "outputs": [
    {
     "data": {
      "text/plain": [
       "{'ratan': 152,\n",
       " 'naval': 136,\n",
       " 'tata': 179,\n",
       " 'born': 47,\n",
       " '28': 19,\n",
       " 'decemb': 76,\n",
       " '1937': 0,\n",
       " 'indian': 110,\n",
       " 'industrialist': 112,\n",
       " 'philanthropist': 145,\n",
       " 'former': 86,\n",
       " 'chairman': 54,\n",
       " 'son': 171,\n",
       " 'ratan naval': 154,\n",
       " 'naval tata': 137,\n",
       " 'tata ratan': 186,\n",
       " 'ratan born': 153,\n",
       " 'born 28': 49,\n",
       " '28 decemb': 20,\n",
       " 'decemb 1937': 77,\n",
       " '1937 indian': 2,\n",
       " 'indian industrialist': 111,\n",
       " 'industrialist philanthropist': 113,\n",
       " 'philanthropist former': 146,\n",
       " 'former chairman': 87,\n",
       " 'chairman tata': 56,\n",
       " 'tata son': 187,\n",
       " 'group': 94,\n",
       " '1990': 6,\n",
       " '2012': 13,\n",
       " 'interim': 114,\n",
       " 'octob': 138,\n",
       " '2016': 15,\n",
       " 'februari': 82,\n",
       " '2017': 17,\n",
       " 'continu': 70,\n",
       " 'head': 99,\n",
       " 'charit': 57,\n",
       " 'trust': 197,\n",
       " 'tata group': 182,\n",
       " 'group 1990': 95,\n",
       " '1990 2012': 7,\n",
       " '2012 interim': 14,\n",
       " 'interim chairman': 115,\n",
       " 'chairman octob': 55,\n",
       " 'octob 2016': 139,\n",
       " '2016 februari': 16,\n",
       " 'februari 2017': 83,\n",
       " '2017 continu': 18,\n",
       " 'continu head': 71,\n",
       " 'head charit': 100,\n",
       " 'charit trust': 58,\n",
       " 'recipi': 157,\n",
       " 'two': 200,\n",
       " 'civilian': 61,\n",
       " 'award': 43,\n",
       " 'india': 107,\n",
       " 'padma': 142,\n",
       " 'vibhushan': 208,\n",
       " '2008': 11,\n",
       " 'second': 165,\n",
       " 'highest': 103,\n",
       " 'honour': 105,\n",
       " 'bhushan': 45,\n",
       " '2000': 9,\n",
       " 'third': 195,\n",
       " 'recipi two': 158,\n",
       " 'two civilian': 201,\n",
       " 'civilian award': 62,\n",
       " 'award india': 44,\n",
       " 'india padma': 109,\n",
       " 'padma vibhushan': 144,\n",
       " 'vibhushan 2008': 209,\n",
       " '2008 second': 12,\n",
       " 'second highest': 166,\n",
       " 'highest civilian': 104,\n",
       " 'civilian honour': 63,\n",
       " 'honour padma': 106,\n",
       " 'padma bhushan': 143,\n",
       " 'bhushan 2000': 46,\n",
       " '2000 third': 10,\n",
       " 'third highest': 196,\n",
       " 'heir': 101,\n",
       " 'famili': 80,\n",
       " 'later': 126,\n",
       " 'adopt': 29,\n",
       " 'ratanji': 155,\n",
       " 'jamsetji': 118,\n",
       " 'founder': 88,\n",
       " 'born 1937': 48,\n",
       " '1937 heir': 1,\n",
       " 'heir tata': 102,\n",
       " 'tata famili': 180,\n",
       " 'famili son': 81,\n",
       " 'son naval': 173,\n",
       " 'tata later': 184,\n",
       " 'later adopt': 127,\n",
       " 'adopt ratanji': 30,\n",
       " 'ratanji tata': 156,\n",
       " 'son jamsetji': 172,\n",
       " 'jamsetji tata': 119,\n",
       " 'tata founder': 181,\n",
       " 'founder tata': 89,\n",
       " 'alumnu': 33,\n",
       " 'cornel': 72,\n",
       " 'univers': 202,\n",
       " 'colleg': 64,\n",
       " 'architectur': 37,\n",
       " 'harvard': 97,\n",
       " 'busi': 50,\n",
       " 'school': 163,\n",
       " 'advanc': 31,\n",
       " 'manag': 132,\n",
       " 'program': 150,\n",
       " 'complet': 68,\n",
       " '1975': 5,\n",
       " 'alumnu cornel': 34,\n",
       " 'cornel univers': 73,\n",
       " 'univers colleg': 203,\n",
       " 'colleg architectur': 65,\n",
       " 'architectur harvard': 38,\n",
       " 'harvard busi': 98,\n",
       " 'busi school': 51,\n",
       " 'school advanc': 164,\n",
       " 'advanc manag': 32,\n",
       " 'manag program': 133,\n",
       " 'program complet': 151,\n",
       " 'complet 1975': 69,\n",
       " 'join': 120,\n",
       " 'compani': 66,\n",
       " '1961': 3,\n",
       " 'use': 206,\n",
       " 'work': 210,\n",
       " 'shop': 167,\n",
       " 'floor': 84,\n",
       " 'steel': 174,\n",
       " 'appar': 35,\n",
       " 'successor': 177,\n",
       " 'upon': 204,\n",
       " 'latter': 128,\n",
       " 'retir': 159,\n",
       " '1991': 8,\n",
       " 'join compani': 121,\n",
       " 'compani 1961': 67,\n",
       " '1961 use': 4,\n",
       " 'use work': 207,\n",
       " 'work shop': 211,\n",
       " 'shop floor': 168,\n",
       " 'floor tata': 85,\n",
       " 'tata steel': 188,\n",
       " 'steel appar': 176,\n",
       " 'appar successor': 36,\n",
       " 'successor tata': 178,\n",
       " 'tata upon': 190,\n",
       " 'upon latter': 205,\n",
       " 'latter retir': 129,\n",
       " 'retir 1991': 160,\n",
       " 'got': 92,\n",
       " 'tea': 191,\n",
       " 'acquir': 25,\n",
       " 'tetley': 193,\n",
       " 'motor': 134,\n",
       " 'jaguar': 116,\n",
       " 'land': 122,\n",
       " 'rover': 161,\n",
       " 'coru': 74,\n",
       " 'attempt': 41,\n",
       " 'turn': 198,\n",
       " 'larg': 124,\n",
       " 'centrist': 52,\n",
       " 'global': 90,\n",
       " 'got tata': 93,\n",
       " 'tata tea': 189,\n",
       " 'tea acquir': 192,\n",
       " 'acquir tetley': 28,\n",
       " 'tetley tata': 194,\n",
       " 'tata motor': 185,\n",
       " 'motor acquir': 135,\n",
       " 'acquir jaguar': 27,\n",
       " 'jaguar land': 117,\n",
       " 'land rover': 123,\n",
       " 'rover tata': 162,\n",
       " 'steel acquir': 175,\n",
       " 'acquir coru': 26,\n",
       " 'coru attempt': 75,\n",
       " 'attempt turn': 42,\n",
       " 'turn tata': 199,\n",
       " 'tata larg': 183,\n",
       " 'larg india': 125,\n",
       " 'india centrist': 108,\n",
       " 'centrist group': 53,\n",
       " 'group global': 96,\n",
       " 'global busi': 91,\n",
       " 'around': 39,\n",
       " '60': 21,\n",
       " '65': 23,\n",
       " 'profit': 148,\n",
       " 'donat': 78,\n",
       " 'chariti': 59,\n",
       " 'make': 130,\n",
       " 'one': 140,\n",
       " 'signific': 169,\n",
       " 'world': 212,\n",
       " 'around 60': 40,\n",
       " '60 65': 22,\n",
       " '65 profit': 24,\n",
       " 'profit donat': 149,\n",
       " 'donat chariti': 79,\n",
       " 'chariti make': 60,\n",
       " 'make one': 131,\n",
       " 'one signific': 141,\n",
       " 'signific philanthropist': 170,\n",
       " 'philanthropist world': 147}"
      ]
     },
     "execution_count": 40,
     "metadata": {},
     "output_type": "execute_result"
    }
   ],
   "source": [
    "cv.vocabulary_"
   ]
  },
  {
   "cell_type": "code",
   "execution_count": null,
   "id": "27cf5b54",
   "metadata": {},
   "outputs": [],
   "source": []
  }
 ],
 "metadata": {
  "kernelspec": {
   "display_name": "Python 3 (ipykernel)",
   "language": "python",
   "name": "python3"
  },
  "language_info": {
   "codemirror_mode": {
    "name": "ipython",
    "version": 3
   },
   "file_extension": ".py",
   "mimetype": "text/x-python",
   "name": "python",
   "nbconvert_exporter": "python",
   "pygments_lexer": "ipython3",
   "version": "3.9.7"
  }
 },
 "nbformat": 4,
 "nbformat_minor": 5
}
