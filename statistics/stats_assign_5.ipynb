{
 "cells": [
  {
   "cell_type": "markdown",
   "id": "c59a1aa7",
   "metadata": {},
   "source": [
    "1. Give an example of 3 events A, B, C which are pairwise independent but not independent.\n",
    "Hint: find an example where whether C occurs is completely determined if we know whether\n",
    "A occurred and whether B occurred, but completely undetermined if we know only one of\n",
    "these things.\n",
    "\n",
    "\n",
    "Sol1\n",
    "\n",
    "Let the event of two dice throwing be taken here Event A sum is 7 Event B number in first dice is 1 Event C number in second dice is 6\n",
    "\n",
    "P(A)=P(B)=P(C) = 1/6\n",
    "\n",
    "Also,\n",
    "\n",
    "P[A ∩ B] = P[A ∩ C] = P[B ∩ C] = 1/36\n",
    "\n",
    "so that all events are pairwise independent. However,\n",
    "\n",
    "P[A ∩ B ∩ C] = P[B ∩ C] = 1/36\n",
    "\n",
    "while\n",
    "\n",
    "P[A]P[B]P[C] = 1/216\n",
    "\n",
    "so they are not independent as a triplet."
   ]
  },
  {
   "cell_type": "markdown",
   "id": "9160f8c7",
   "metadata": {},
   "source": [
    "2. A bag contains one marble which is either green or blue, with equal probabilities. A green\n",
    "marble is put in the bag (so there are 2 marbles now), and then a random marble is taken\n",
    "out. The marble taken out is green. What is the probability that the remaining marble is also\n",
    "green?\n",
    "\n",
    "Sol 2 Let initial marbel be present is Green after green marbel is putted in the bag and after removal of green marbel Probability of marbel BEING GREEN = 1 if initially marbel was blue and then probability of green marbel after removal is 0 Total probability = 0 + 1 = 1"
   ]
  },
  {
   "cell_type": "code",
   "execution_count": null,
   "id": "3ea6ed22",
   "metadata": {},
   "outputs": [],
   "source": []
  }
 ],
 "metadata": {
  "kernelspec": {
   "display_name": "Python 3 (ipykernel)",
   "language": "python",
   "name": "python3"
  },
  "language_info": {
   "codemirror_mode": {
    "name": "ipython",
    "version": 3
   },
   "file_extension": ".py",
   "mimetype": "text/x-python",
   "name": "python",
   "nbconvert_exporter": "python",
   "pygments_lexer": "ipython3",
   "version": "3.9.7"
  }
 },
 "nbformat": 4,
 "nbformat_minor": 5
}
