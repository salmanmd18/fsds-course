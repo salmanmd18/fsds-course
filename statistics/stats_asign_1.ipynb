{
 "cells": [
  {
   "cell_type": "markdown",
   "id": "fe4bba6d",
   "metadata": {},
   "source": [
    "1 Harvard Law School courses often have assigned seating to facilitate the “Socratic method.”\n",
    "Suppose that there are 100 first year Harvard Law students, and each takes two courses:\n",
    "Torts and Contracts. Both are held in the same lecture hall (which has 100 seats), and the\n",
    "seating is uniformly random and independent for the two courses.\n",
    "(a) Find the probability that no one has the same seat for both courses (exactly; you should\n",
    "leave your answer as a sum).\n",
    "(b) Find a simple but accurate approximation to the probability that no one has the same\n",
    "seat for both courses.\n",
    "(c) Find a simple but accurate approximation to the probability that at least two students\n",
    "have the same seat for both courses."
   ]
  },
  {
   "cell_type": "markdown",
   "id": "b03a32c2",
   "metadata": {},
   "source": [
    "2. Harvard Law School courses often have assigned seating to facilitate the “Socratic method.”\n",
    "Suppose that there are 100 first year Harvard Law students, and each takes two courses:\n",
    "Torts and Contracts. Both are held in the same lecture hall (which has 100 seats), and the\n",
    "seating is uniformly random and independent for the two courses.\n",
    "(a) Find the probability that no one has the same seat for both courses (exactly; you should\n",
    "leave your answer as a sum).\n",
    "(b) Find a simple but accurate approximation to the probability that no one has the same\n",
    "seat for both courses.\n",
    "(c) Find a simple but accurate approximation to the probability that at least two students\n",
    "have the same seat for both courses."
   ]
  },
  {
   "cell_type": "markdown",
   "id": "2a47e1fc",
   "metadata": {},
   "source": [
    "ans) The answer is 1/2 . Let A and B be the seats of the first and last passengers,respectively. First notice that if a passenger ever sits in A, then the passengers who have entered the plane so far will be sitting in a permutation of their assigned seats. This implies that passengers who subsequently board the plane sit in their correct seats. Thus the last open seat is either A or B and the last passenger to board the plane sits in either A or B. Therefore the passengers sitting in A and B at the end of this process must be the last passenger and another passenger P. When the passenger P boarded the plane, he or shewas either the first passenger or had been assigned an occupied seat. In either case, the probability that P sat in A is the same as the probability P sat in B since A and B must both be empty at that time. If P sat in A then the last passenger ended up sitting in B and the resulting configuration of passengers sitting in the 100 seats is the same as if P had sat in B except for the fact that the passengers in A and B are swapped. Therefore these two configurations occur with the same probability and exactly one of them has the last passenger in her seat B. This implies that the final configurations of passengers can be paired such that the two configurations in any pair occur with the same probability and exactly one has the last passenger in her seat. This implies that the probability that the last passenger is in her seat is 1/2 ."
   ]
  },
  {
   "cell_type": "code",
   "execution_count": null,
   "id": "09c5382a",
   "metadata": {},
   "outputs": [],
   "source": []
  }
 ],
 "metadata": {
  "kernelspec": {
   "display_name": "Python 3 (ipykernel)",
   "language": "python",
   "name": "python3"
  },
  "language_info": {
   "codemirror_mode": {
    "name": "ipython",
    "version": 3
   },
   "file_extension": ".py",
   "mimetype": "text/x-python",
   "name": "python",
   "nbconvert_exporter": "python",
   "pygments_lexer": "ipython3",
   "version": "3.9.7"
  }
 },
 "nbformat": 4,
 "nbformat_minor": 5
}
